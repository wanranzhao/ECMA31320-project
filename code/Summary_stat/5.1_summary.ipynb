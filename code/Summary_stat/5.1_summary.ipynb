{
 "cells": [
  {
   "cell_type": "code",
   "execution_count": 12,
   "id": "7a861ff1",
   "metadata": {},
   "outputs": [],
   "source": [
    "import pandas as pd\n",
    "from tableone import TableOne\n",
    "import pathlib\n",
    "from sklearn.preprocessing import LabelEncoder\n",
    "le = LabelEncoder()\n",
    "import numpy as np"
   ]
  },
  {
   "cell_type": "code",
   "execution_count": 7,
   "id": "a75d209b",
   "metadata": {},
   "outputs": [],
   "source": [
    "path = pathlib.Path().resolve()\n",
    "columns_to_check = ['onset2COWCS','decade','logpop_M_diff', 'logpopdens_diff', 'logoutreg_diff', 'ecgrowth_demeaned', 'democracy_diff']"
   ]
  },
  {
   "cell_type": "code",
   "execution_count": 17,
   "id": "1df95bc4",
   "metadata": {},
   "outputs": [],
   "source": [
    "columns = ['s1', 's2', 's6', 's10', 'onset2COWCS', \n",
    "           'logpop_M_diff', 'logpopdens_diff', 'logoutreg_diff', 'ecgrowth_demeaned', 'democracy_diff',\n",
    "           'trans_outp_p']\n",
    "# additional_columns = ['logmountain', 'ethnic_fractionalization', 'religion_fractionalization', 'language_fractionalization', 'leg_british', 'opec']\n",
    "categorical = ['onset2COWCS']\n",
    "# additional_categorical = ['leg_british', 'opec']\n",
    "groupby = ['onset2COWCS']"
   ]
  },
  {
   "cell_type": "code",
   "execution_count": 8,
   "id": "7d3d06a5",
   "metadata": {},
   "outputs": [],
   "source": [
    "def load_data(predictor):\n",
    "    df = pd.read_csv(str(path).replace(\"code/Summary_stat\", \"data/combined_data\") + \"/\" + predictor + \"_data.csv\", na_values= '#DIV/0!')\n",
    "    # df = pd.merge(df, iv, on=[\"country\", \"t\"])\n",
    "    \n",
    "    df[columns_to_check] = df[columns_to_check].replace([np.inf, -np.inf], np.nan)\n",
    "    df = df.dropna(subset=columns_to_check)\n",
    "    \n",
    "    label = le.fit_transform(df['country'])\n",
    "    df.drop('country', axis=1, inplace=True)\n",
    "    df['country'] = label\n",
    "    \n",
    "    # df = df.set_index(['country', 't'])\n",
    "    \n",
    "    # df.fillna(0, inplace=True)\n",
    "    return df"
   ]
  },
  {
   "cell_type": "code",
   "execution_count": 18,
   "id": "a908c529",
   "metadata": {},
   "outputs": [],
   "source": [
    "predictor_list = [\"gvcomix\", \"gvcobp\", \"gvcofp\"]\n",
    "table_list = []\n",
    "for predictor in predictor_list:\n",
    "    df = load_data(predictor);\n",
    "    df.to_csv(str(path)+\"/\"+ predictor + \"_final_data.csv\")\n",
    "    table = TableOne(df, columns=columns, categorical = categorical, groupby = groupby, pval=True)\n",
    "    table_list.append(table)\n",
    "    "
   ]
  },
  {
   "cell_type": "code",
   "execution_count": 19,
   "id": "28077da0",
   "metadata": {},
   "outputs": [
    {
     "name": "stdout",
     "output_type": "stream",
     "text": [
      "\\begin{tabular}{lllllll}\n",
      "\\hline\n",
      "                              &     & Missing   & Overall     & 0.0          & 1.0        & P-Value   \\\\\n",
      "\\hline\n",
      " n                            &     &           & 1958        & 1931         & 27         &           \\\\\n",
      " s1, mean (SD)                &     & 0         & 0.0 (0.0)   & 0.0 (0.0)    & 0.0 (0.0)  & 0.518     \\\\\n",
      " s2, mean (SD)                &     & 0         & 0.0 (0.0)   & 0.0 (0.0)    & 0.0 (0.0)  & 0.217     \\\\\n",
      " s6, mean (SD)                &     & 0         & 0.0 (0.0)   & 0.0 (0.0)    & 0.0 (0.0)  & 0.177     \\\\\n",
      " s10, mean (SD)               &     & 0         & 0.0 (0.0)   & 0.0 (0.0)    & 0.0 (0.0)  & 0.516     \\\\\n",
      " onset2COWCS, n (\\%)           & 0.0 & 0         & 1931 (98.6) & 1931 (100.0) &            & \\ensuremath{<}0.001    \\\\\n",
      "                              & 1.0 &           & 27 (1.4)    &              & 27 (100.0) &           \\\\\n",
      " logpop\\_M\\_diff, mean (SD)     &     & 0         & 0.0 (0.0)   & 0.0 (0.0)    & 0.0 (0.0)  & 0.018     \\\\\n",
      " logpopdens\\_diff, mean (SD)   &     & 0         & 0.0 (0.0)   & 0.0 (0.0)    & 0.0 (0.0)  & 0.018     \\\\\n",
      " logoutreg\\_diff, mean (SD)    &     & 0         & 0.0 (0.0)   & 0.0 (0.0)    & 0.0 (0.0)  & 0.863     \\\\\n",
      " ecgrowth\\_demeaned, mean (SD) &     & 0         & -0.0 (0.1)  & -0.0 (0.1)   & -0.0 (0.1) & 0.027     \\\\\n",
      " democracy\\_diff, mean (SD)    &     & 0         & 0.0 (0.0)   & 0.0 (0.0)    & -0.0 (0.0) & 0.081     \\\\\n",
      " trans\\_outp\\_p, mean (SD)      &     & 0         & 0.1 (0.0)   & 0.1 (0.0)    & 0.1 (0.0)  & 0.315     \\\\\n",
      "\\hline\n",
      "\\end{tabular}\n"
     ]
    }
   ],
   "source": [
    "print(table_list[0].tabulate(tablefmt = \"latex\"))"
   ]
  },
  {
   "cell_type": "code",
   "execution_count": 20,
   "id": "eca609e7",
   "metadata": {},
   "outputs": [
    {
     "name": "stdout",
     "output_type": "stream",
     "text": [
      "\\begin{tabular}{lllllll}\n",
      "\\hline\n",
      "                              &     & Missing   & Overall     & 0.0          & 1.0        & P-Value   \\\\\n",
      "\\hline\n",
      " n                            &     &           & 1958        & 1931         & 27         &           \\\\\n",
      " s1, mean (SD)                &     & 0         & 0.0 (0.0)   & 0.0 (0.0)    & 0.0 (0.0)  & 0.552     \\\\\n",
      " s2, mean (SD)                &     & 0         & 0.0 (0.0)   & 0.0 (0.0)    & 0.0 (0.0)  & 0.298     \\\\\n",
      " s6, mean (SD)                &     & 0         & 0.0 (0.0)   & 0.0 (0.0)    & 0.0 (0.0)  & 0.580     \\\\\n",
      " s10, mean (SD)               &     & 0         & 0.0 (0.0)   & 0.0 (0.0)    & 0.0 (0.0)  & 0.330     \\\\\n",
      " onset2COWCS, n (\\%)           & 0.0 & 0         & 1931 (98.6) & 1931 (100.0) &            & \\ensuremath{<}0.001    \\\\\n",
      "                              & 1.0 &           & 27 (1.4)    &              & 27 (100.0) &           \\\\\n",
      " logpop\\_M\\_diff, mean (SD)     &     & 0         & 0.0 (0.0)   & 0.0 (0.0)    & 0.0 (0.0)  & 0.018     \\\\\n",
      " logpopdens\\_diff, mean (SD)   &     & 0         & 0.0 (0.0)   & 0.0 (0.0)    & 0.0 (0.0)  & 0.018     \\\\\n",
      " logoutreg\\_diff, mean (SD)    &     & 0         & 0.0 (0.0)   & 0.0 (0.0)    & 0.0 (0.0)  & 0.863     \\\\\n",
      " ecgrowth\\_demeaned, mean (SD) &     & 0         & -0.0 (0.1)  & -0.0 (0.1)   & -0.0 (0.1) & 0.027     \\\\\n",
      " democracy\\_diff, mean (SD)    &     & 0         & 0.0 (0.0)   & 0.0 (0.0)    & -0.0 (0.0) & 0.081     \\\\\n",
      " trans\\_outp\\_p, mean (SD)      &     & 0         & 0.1 (0.0)   & 0.1 (0.0)    & 0.1 (0.0)  & 0.315     \\\\\n",
      "\\hline\n",
      "\\end{tabular}\n"
     ]
    }
   ],
   "source": [
    "print(table_list[1].tabulate(tablefmt = \"latex\"))"
   ]
  },
  {
   "cell_type": "code",
   "execution_count": 21,
   "id": "63156327",
   "metadata": {},
   "outputs": [
    {
     "name": "stdout",
     "output_type": "stream",
     "text": [
      "\\begin{tabular}{lllllll}\n",
      "\\hline\n",
      "                              &     & Missing   & Overall     & 0.0          & 1.0        & P-Value   \\\\\n",
      "\\hline\n",
      " n                            &     &           & 1958        & 1931         & 27         &           \\\\\n",
      " s1, mean (SD)                &     & 0         & 0.0 (0.0)   & 0.0 (0.0)    & 0.0 (0.0)  & 0.031     \\\\\n",
      " s2, mean (SD)                &     & 0         & 0.0 (0.0)   & 0.0 (0.0)    & 0.0 (0.0)  & 0.522     \\\\\n",
      " s6, mean (SD)                &     & 0         & 0.0 (0.0)   & 0.0 (0.0)    & 0.0 (0.0)  & 0.033     \\\\\n",
      " s10, mean (SD)               &     & 0         & 0.0 (0.0)   & 0.0 (0.0)    & 0.0 (0.0)  & 0.088     \\\\\n",
      " onset2COWCS, n (\\%)           & 0.0 & 0         & 1931 (98.6) & 1931 (100.0) &            & \\ensuremath{<}0.001    \\\\\n",
      "                              & 1.0 &           & 27 (1.4)    &              & 27 (100.0) &           \\\\\n",
      " logpop\\_M\\_diff, mean (SD)     &     & 0         & 0.0 (0.0)   & 0.0 (0.0)    & 0.0 (0.0)  & 0.018     \\\\\n",
      " logpopdens\\_diff, mean (SD)   &     & 0         & 0.0 (0.0)   & 0.0 (0.0)    & 0.0 (0.0)  & 0.018     \\\\\n",
      " logoutreg\\_diff, mean (SD)    &     & 0         & 0.0 (0.0)   & 0.0 (0.0)    & 0.0 (0.0)  & 0.863     \\\\\n",
      " ecgrowth\\_demeaned, mean (SD) &     & 0         & -0.0 (0.1)  & -0.0 (0.1)   & -0.0 (0.1) & 0.027     \\\\\n",
      " democracy\\_diff, mean (SD)    &     & 0         & 0.0 (0.0)   & 0.0 (0.0)    & -0.0 (0.0) & 0.081     \\\\\n",
      " trans\\_outp\\_p, mean (SD)      &     & 0         & 0.1 (0.0)   & 0.1 (0.0)    & 0.1 (0.0)  & 0.315     \\\\\n",
      "\\hline\n",
      "\\end{tabular}\n"
     ]
    }
   ],
   "source": [
    "print(table_list[2].tabulate(tablefmt = \"latex\"))"
   ]
  }
 ],
 "metadata": {
  "kernelspec": {
   "display_name": "Python 3 (ipykernel)",
   "language": "python",
   "name": "python3"
  },
  "language_info": {
   "codemirror_mode": {
    "name": "ipython",
    "version": 3
   },
   "file_extension": ".py",
   "mimetype": "text/x-python",
   "name": "python",
   "nbconvert_exporter": "python",
   "pygments_lexer": "ipython3",
   "version": "3.10.9"
  }
 },
 "nbformat": 4,
 "nbformat_minor": 5
}
