{
 "cells": [
  {
   "cell_type": "code",
   "execution_count": 1,
   "id": "7a861ff1",
   "metadata": {},
   "outputs": [],
   "source": [
    "import pandas as pd\n",
    "from tableone import TableOne\n",
    "import pathlib"
   ]
  },
  {
   "cell_type": "code",
   "execution_count": 2,
   "id": "09b4d356",
   "metadata": {},
   "outputs": [],
   "source": [
    "path = pathlib.Path().resolve()"
   ]
  },
  {
   "cell_type": "code",
   "execution_count": 4,
   "id": "32469d2b",
   "metadata": {},
   "outputs": [],
   "source": [
    "df = pd.read_csv(str(path).replace(\"code/Summary_stat\", \"data\") + \"/gvcomix_transformed.csv\", na_values= '#DIV/0!')\n",
    "iv = pd.read_csv(str(path).replace(\"code/Summary_stat\", \"data\") + \"/transport_size.csv\", na_values= '#DIV/0!')"
   ]
  },
  {
   "cell_type": "code",
   "execution_count": 5,
   "id": "a75d209b",
   "metadata": {},
   "outputs": [],
   "source": [
    "df = df.merge(iv)"
   ]
  },
  {
   "cell_type": "code",
   "execution_count": 6,
   "id": "fec12464",
   "metadata": {},
   "outputs": [
    {
     "data": {
      "text/plain": [
       "Index(['country', 't', 's1', 's2', 's6', 's10', 's19', 'onset2COWCS', 'decade',\n",
       "       'ecgrowth', 'logpop_M', 'logpopdens', 'logoutreg', 'democracy',\n",
       "       'logmountain', 'ethnic_fractionalization', 'religion_fractionalization',\n",
       "       'language_fractionalization', 'leg_british', 'opec', 'logpop_M_diff',\n",
       "       'logpopdens_diff', 'logoutreg_diff', 'ecgrowth_demeaned',\n",
       "       'democracy_diff', 'avgs1', 'avgs2', 'avgs6', 'avgs10', 'avgs19', 'outp',\n",
       "       'outpd%', 'outptt%'],\n",
       "      dtype='object')"
      ]
     },
     "execution_count": 6,
     "metadata": {},
     "output_type": "execute_result"
    }
   ],
   "source": [
    "df.columns"
   ]
  },
  {
   "cell_type": "code",
   "execution_count": 18,
   "id": "1df95bc4",
   "metadata": {},
   "outputs": [],
   "source": [
    "columns = ['s6', 'onset2COWCS', 'ecgrowth', 'logpop_M', 'logpopdens', 'logoutreg', 'democracy',\n",
    "       'logmountain', 'ethnic_fractionalization', 'religion_fractionalization',\n",
    "       'language_fractionalization', 'leg_british', 'opec', 'outpd%']\n",
    "categorical = ['onset2COWCS', 'leg_british', 'opec']\n",
    "groupby = ['onset2COWCS']\n",
    "table = TableOne(df, columns=columns, categorical = categorical, groupby = groupby, pval=True)"
   ]
  },
  {
   "cell_type": "code",
   "execution_count": 25,
   "id": "828aed9d",
   "metadata": {},
   "outputs": [
    {
     "data": {
      "text/plain": [
       "-0.0016595487342657353"
      ]
     },
     "execution_count": 25,
     "metadata": {},
     "output_type": "execute_result"
    }
   ],
   "source": [
    "df.logmountain.mean()"
   ]
  },
  {
   "cell_type": "code",
   "execution_count": 26,
   "id": "b6be7d27",
   "metadata": {},
   "outputs": [
    {
     "data": {
      "text/plain": [
       "0.023033583437499998"
      ]
     },
     "execution_count": 26,
     "metadata": {},
     "output_type": "execute_result"
    }
   ],
   "source": [
    "df[df.onset2COWCS==1].logmountain.mean()"
   ]
  },
  {
   "cell_type": "code",
   "execution_count": 27,
   "id": "7d3d06a5",
   "metadata": {},
   "outputs": [
    {
     "data": {
      "text/plain": [
       "-0.004382616801331287"
      ]
     },
     "execution_count": 27,
     "metadata": {},
     "output_type": "execute_result"
    }
   ],
   "source": [
    "df[df.onset2COWCS==0].logmountain.mean()"
   ]
  },
  {
   "cell_type": "code",
   "execution_count": 22,
   "id": "43aad55d",
   "metadata": {},
   "outputs": [
    {
     "data": {
      "text/html": [
       "<div>\n",
       "<style scoped>\n",
       "    .dataframe tbody tr th:only-of-type {\n",
       "        vertical-align: middle;\n",
       "    }\n",
       "\n",
       "    .dataframe tbody tr th {\n",
       "        vertical-align: top;\n",
       "    }\n",
       "\n",
       "    .dataframe thead tr th {\n",
       "        text-align: left;\n",
       "    }\n",
       "</style>\n",
       "<table border=\"1\" class=\"dataframe\">\n",
       "  <thead>\n",
       "    <tr>\n",
       "      <th></th>\n",
       "      <th></th>\n",
       "      <th colspan=\"5\" halign=\"left\">Grouped by onset2COWCS</th>\n",
       "    </tr>\n",
       "    <tr>\n",
       "      <th></th>\n",
       "      <th></th>\n",
       "      <th>Missing</th>\n",
       "      <th>Overall</th>\n",
       "      <th>0.0</th>\n",
       "      <th>1.0</th>\n",
       "      <th>P-Value</th>\n",
       "    </tr>\n",
       "  </thead>\n",
       "  <tbody>\n",
       "    <tr>\n",
       "      <th>n</th>\n",
       "      <th></th>\n",
       "      <td></td>\n",
       "      <td>3258</td>\n",
       "      <td>2519</td>\n",
       "      <td>32</td>\n",
       "      <td></td>\n",
       "    </tr>\n",
       "    <tr>\n",
       "      <th>s6, mean (SD)</th>\n",
       "      <th></th>\n",
       "      <td>0</td>\n",
       "      <td>0.0 (0.1)</td>\n",
       "      <td>0.0 (0.1)</td>\n",
       "      <td>0.0 (0.0)</td>\n",
       "      <td>0.179</td>\n",
       "    </tr>\n",
       "    <tr>\n",
       "      <th rowspan=\"2\" valign=\"top\">onset2COWCS, n (%)</th>\n",
       "      <th>0.0</th>\n",
       "      <td>707</td>\n",
       "      <td>2519 (98.7)</td>\n",
       "      <td>2519 (100.0)</td>\n",
       "      <td></td>\n",
       "      <td>&lt;0.001</td>\n",
       "    </tr>\n",
       "    <tr>\n",
       "      <th>1.0</th>\n",
       "      <td></td>\n",
       "      <td>32 (1.3)</td>\n",
       "      <td></td>\n",
       "      <td>32 (100.0)</td>\n",
       "      <td></td>\n",
       "    </tr>\n",
       "    <tr>\n",
       "      <th>ecgrowth, mean (SD)</th>\n",
       "      <th></th>\n",
       "      <td>580</td>\n",
       "      <td>0.0 (0.1)</td>\n",
       "      <td>0.0 (0.1)</td>\n",
       "      <td>-0.0 (0.1)</td>\n",
       "      <td>0.009</td>\n",
       "    </tr>\n",
       "    <tr>\n",
       "      <th>logpop_M, mean (SD)</th>\n",
       "      <th></th>\n",
       "      <td>576</td>\n",
       "      <td>0.1 (0.0)</td>\n",
       "      <td>0.1 (0.0)</td>\n",
       "      <td>0.1 (0.0)</td>\n",
       "      <td>0.016</td>\n",
       "    </tr>\n",
       "    <tr>\n",
       "      <th>logpopdens, mean (SD)</th>\n",
       "      <th></th>\n",
       "      <td>576</td>\n",
       "      <td>0.0 (0.0)</td>\n",
       "      <td>0.0 (0.0)</td>\n",
       "      <td>0.0 (0.0)</td>\n",
       "      <td>0.885</td>\n",
       "    </tr>\n",
       "    <tr>\n",
       "      <th>logoutreg, mean (SD)</th>\n",
       "      <th></th>\n",
       "      <td>0</td>\n",
       "      <td>0.2 (0.0)</td>\n",
       "      <td>0.2 (0.0)</td>\n",
       "      <td>0.2 (0.0)</td>\n",
       "      <td>0.504</td>\n",
       "    </tr>\n",
       "    <tr>\n",
       "      <th>democracy, mean (SD)</th>\n",
       "      <th></th>\n",
       "      <td>572</td>\n",
       "      <td>0.0 (0.0)</td>\n",
       "      <td>0.0 (0.0)</td>\n",
       "      <td>0.0 (0.0)</td>\n",
       "      <td>0.004</td>\n",
       "    </tr>\n",
       "    <tr>\n",
       "      <th>logmountain, mean (SD)</th>\n",
       "      <th></th>\n",
       "      <td>684</td>\n",
       "      <td>-0.0 (0.1)</td>\n",
       "      <td>-0.0 (0.1)</td>\n",
       "      <td>0.0 (0.0)</td>\n",
       "      <td>&lt;0.001</td>\n",
       "    </tr>\n",
       "    <tr>\n",
       "      <th>ethnic_fractionalization, mean (SD)</th>\n",
       "      <th></th>\n",
       "      <td>216</td>\n",
       "      <td>0.0 (0.0)</td>\n",
       "      <td>0.0 (0.0)</td>\n",
       "      <td>0.0 (0.0)</td>\n",
       "      <td>0.027</td>\n",
       "    </tr>\n",
       "    <tr>\n",
       "      <th>religion_fractionalization, mean (SD)</th>\n",
       "      <th></th>\n",
       "      <td>54</td>\n",
       "      <td>0.0 (0.0)</td>\n",
       "      <td>0.0 (0.0)</td>\n",
       "      <td>0.0 (0.0)</td>\n",
       "      <td>0.958</td>\n",
       "    </tr>\n",
       "    <tr>\n",
       "      <th>language_fractionalization, mean (SD)</th>\n",
       "      <th></th>\n",
       "      <td>180</td>\n",
       "      <td>0.0 (0.0)</td>\n",
       "      <td>0.0 (0.0)</td>\n",
       "      <td>0.0 (0.0)</td>\n",
       "      <td>0.015</td>\n",
       "    </tr>\n",
       "    <tr>\n",
       "      <th rowspan=\"2\" valign=\"top\">leg_british, n (%)</th>\n",
       "      <th>0.0</th>\n",
       "      <td>342</td>\n",
       "      <td>1998 (68.5)</td>\n",
       "      <td>1538 (68.5)</td>\n",
       "      <td>20 (66.7)</td>\n",
       "      <td>0.983</td>\n",
       "    </tr>\n",
       "    <tr>\n",
       "      <th>0.01</th>\n",
       "      <td></td>\n",
       "      <td>918 (31.5)</td>\n",
       "      <td>706 (31.5)</td>\n",
       "      <td>10 (33.3)</td>\n",
       "      <td></td>\n",
       "    </tr>\n",
       "    <tr>\n",
       "      <th rowspan=\"2\" valign=\"top\">opec, n (%)</th>\n",
       "      <th>0.0</th>\n",
       "      <td>508</td>\n",
       "      <td>2546 (92.6)</td>\n",
       "      <td>2364 (93.8)</td>\n",
       "      <td>29 (90.6)</td>\n",
       "      <td>0.446</td>\n",
       "    </tr>\n",
       "    <tr>\n",
       "      <th>1.0</th>\n",
       "      <td></td>\n",
       "      <td>204 (7.4)</td>\n",
       "      <td>155 (6.2)</td>\n",
       "      <td>3 (9.4)</td>\n",
       "      <td></td>\n",
       "    </tr>\n",
       "    <tr>\n",
       "      <th>outpd%, mean (SD)</th>\n",
       "      <th></th>\n",
       "      <td>0</td>\n",
       "      <td>0.5 (0.2)</td>\n",
       "      <td>0.5 (0.2)</td>\n",
       "      <td>0.7 (0.2)</td>\n",
       "      <td>&lt;0.001</td>\n",
       "    </tr>\n",
       "  </tbody>\n",
       "</table>\n",
       "</div><br />"
      ],
      "text/plain": [
       "                                           Grouped by onset2COWCS                                               \n",
       "                                                          Missing      Overall           0.0         1.0 P-Value\n",
       "n                                                                         3258          2519          32        \n",
       "s6, mean (SD)                                                   0    0.0 (0.1)     0.0 (0.1)   0.0 (0.0)   0.179\n",
       "onset2COWCS, n (%)                    0.0                     707  2519 (98.7)  2519 (100.0)              <0.001\n",
       "                                      1.0                             32 (1.3)                32 (100.0)        \n",
       "ecgrowth, mean (SD)                                           580    0.0 (0.1)     0.0 (0.1)  -0.0 (0.1)   0.009\n",
       "logpop_M, mean (SD)                                           576    0.1 (0.0)     0.1 (0.0)   0.1 (0.0)   0.016\n",
       "logpopdens, mean (SD)                                         576    0.0 (0.0)     0.0 (0.0)   0.0 (0.0)   0.885\n",
       "logoutreg, mean (SD)                                            0    0.2 (0.0)     0.2 (0.0)   0.2 (0.0)   0.504\n",
       "democracy, mean (SD)                                          572    0.0 (0.0)     0.0 (0.0)   0.0 (0.0)   0.004\n",
       "logmountain, mean (SD)                                        684   -0.0 (0.1)    -0.0 (0.1)   0.0 (0.0)  <0.001\n",
       "ethnic_fractionalization, mean (SD)                           216    0.0 (0.0)     0.0 (0.0)   0.0 (0.0)   0.027\n",
       "religion_fractionalization, mean (SD)                          54    0.0 (0.0)     0.0 (0.0)   0.0 (0.0)   0.958\n",
       "language_fractionalization, mean (SD)                         180    0.0 (0.0)     0.0 (0.0)   0.0 (0.0)   0.015\n",
       "leg_british, n (%)                    0.0                     342  1998 (68.5)   1538 (68.5)   20 (66.7)   0.983\n",
       "                                      0.01                          918 (31.5)    706 (31.5)   10 (33.3)        \n",
       "opec, n (%)                           0.0                     508  2546 (92.6)   2364 (93.8)   29 (90.6)   0.446\n",
       "                                      1.0                            204 (7.4)     155 (6.2)     3 (9.4)        \n",
       "outpd%, mean (SD)                                               0    0.5 (0.2)     0.5 (0.2)   0.7 (0.2)  <0.001"
      ]
     },
     "execution_count": 22,
     "metadata": {},
     "output_type": "execute_result"
    }
   ],
   "source": [
    "table"
   ]
  },
  {
   "cell_type": "code",
   "execution_count": 23,
   "id": "28077da0",
   "metadata": {},
   "outputs": [
    {
     "name": "stdout",
     "output_type": "stream",
     "text": [
      "\\begin{tabular}{lllllll}\n",
      "\\hline\n",
      "                                       &      & Missing   & Overall     & 0.0          & 1.0        & P-Value   \\\\\n",
      "\\hline\n",
      " n                                     &      &           & 3258        & 2519         & 32         &           \\\\\n",
      " s6, mean (SD)                         &      & 0         & 0.0 (0.1)   & 0.0 (0.1)    & 0.0 (0.0)  & 0.179     \\\\\n",
      " onset2COWCS, n (\\%)                    & 0.0  & 707       & 2519 (98.7) & 2519 (100.0) &            & \\ensuremath{<}0.001    \\\\\n",
      "                                       & 1.0  &           & 32 (1.3)    &              & 32 (100.0) &           \\\\\n",
      " ecgrowth, mean (SD)                   &      & 580       & 0.0 (0.1)   & 0.0 (0.1)    & -0.0 (0.1) & 0.009     \\\\\n",
      " logpop\\_M, mean (SD)                   &      & 576       & 0.1 (0.0)   & 0.1 (0.0)    & 0.1 (0.0)  & 0.016     \\\\\n",
      " logpopdens, mean (SD)                 &      & 576       & 0.0 (0.0)   & 0.0 (0.0)    & 0.0 (0.0)  & 0.885     \\\\\n",
      " logoutreg, mean (SD)                  &      & 0         & 0.2 (0.0)   & 0.2 (0.0)    & 0.2 (0.0)  & 0.504     \\\\\n",
      " democracy, mean (SD)                  &      & 572       & 0.0 (0.0)   & 0.0 (0.0)    & 0.0 (0.0)  & 0.004     \\\\\n",
      " logmountain, mean (SD)                &      & 684       & -0.0 (0.1)  & -0.0 (0.1)   & 0.0 (0.0)  & \\ensuremath{<}0.001    \\\\\n",
      " ethnic\\_fractionalization, mean (SD)   &      & 216       & 0.0 (0.0)   & 0.0 (0.0)    & 0.0 (0.0)  & 0.027     \\\\\n",
      " religion\\_fractionalization, mean (SD) &      & 54        & 0.0 (0.0)   & 0.0 (0.0)    & 0.0 (0.0)  & 0.958     \\\\\n",
      " language\\_fractionalization, mean (SD) &      & 180       & 0.0 (0.0)   & 0.0 (0.0)    & 0.0 (0.0)  & 0.015     \\\\\n",
      " leg\\_british, n (\\%)                    & 0.0  & 342       & 1998 (68.5) & 1538 (68.5)  & 20 (66.7)  & 0.983     \\\\\n",
      "                                       & 0.01 &           & 918 (31.5)  & 706 (31.5)   & 10 (33.3)  &           \\\\\n",
      " opec, n (\\%)                           & 0.0  & 508       & 2546 (92.6) & 2364 (93.8)  & 29 (90.6)  & 0.446     \\\\\n",
      "                                       & 1.0  &           & 204 (7.4)   & 155 (6.2)    & 3 (9.4)    &           \\\\\n",
      " outpd\\%, mean (SD)                     &      & 0         & 0.5 (0.2)   & 0.5 (0.2)    & 0.7 (0.2)  & \\ensuremath{<}0.001    \\\\\n",
      "\\hline\n",
      "\\end{tabular}\n"
     ]
    }
   ],
   "source": [
    "print(table.tabulate(tablefmt = \"latex\"))"
   ]
  },
  {
   "cell_type": "code",
   "execution_count": null,
   "id": "4cf90b65",
   "metadata": {},
   "outputs": [],
   "source": []
  }
 ],
 "metadata": {
  "kernelspec": {
   "display_name": "Python 3 (ipykernel)",
   "language": "python",
   "name": "python3"
  },
  "language_info": {
   "codemirror_mode": {
    "name": "ipython",
    "version": 3
   },
   "file_extension": ".py",
   "mimetype": "text/x-python",
   "name": "python",
   "nbconvert_exporter": "python",
   "pygments_lexer": "ipython3",
   "version": "3.10.9"
  }
 },
 "nbformat": 4,
 "nbformat_minor": 5
}
