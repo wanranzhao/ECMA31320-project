{
 "cells": [
  {
   "attachments": {},
   "cell_type": "markdown",
   "metadata": {},
   "source": [
    "# Double ML - modeling"
   ]
  },
  {
   "attachments": {},
   "cell_type": "markdown",
   "metadata": {},
   "source": [
    "## 0. setup"
   ]
  },
  {
   "cell_type": "code",
   "execution_count": 1,
   "metadata": {},
   "outputs": [],
   "source": [
    "import numpy as np\n",
    "import pandas as pd\n",
    "import scipy as sp\n",
    "from sklearn.neighbors import KNeighborsClassifier\n",
    "from sklearn.ensemble import RandomForestClassifier, RandomForestRegressor\n",
    "from sklearn.linear_model import LinearRegression\n",
    "from sklearn.linear_model import LogisticRegression\n",
    "from sklearn.model_selection import KFold, StratifiedKFold, train_test_split\n",
    "from sklearn.metrics import mean_squared_error, log_loss\n",
    "from sklearn.preprocessing import LabelEncoder\n",
    "import sklearn\n",
    "import os\n",
    "from matplotlib.pyplot import hist\n",
    "import scipy.stats as stats\n",
    "import math"
   ]
  },
  {
   "cell_type": "code",
   "execution_count": 2,
   "metadata": {},
   "outputs": [],
   "source": [
    "# set random seed for numpy\n",
    "RANDOM_SEED=42\n",
    "np.random.seed(RANDOM_SEED)"
   ]
  },
  {
   "cell_type": "code",
   "execution_count": 3,
   "metadata": {},
   "outputs": [],
   "source": [
    "def find_p(estimate, std):\n",
    "    z_value = estimate / std\n",
    "    p_value = stats.norm.sf(abs(z_value))*2\n",
    "    return round(estimate, 4), round(std, 4), round(p_value, 4)"
   ]
  },
  {
   "cell_type": "code",
   "execution_count": 4,
   "metadata": {},
   "outputs": [],
   "source": [
    "def label_encode_column(df, column):\n",
    "    le = LabelEncoder()\n",
    "    df[column] = le.fit_transform(df[column])\n",
    "    return df"
   ]
  },
  {
   "attachments": {},
   "cell_type": "markdown",
   "metadata": {},
   "source": [
    "## 1. functions"
   ]
  },
  {
   "attachments": {},
   "cell_type": "markdown",
   "metadata": {},
   "source": [
    "### 1.1 Specify Nuisance Function Models\n",
    "\n",
    "The next step is to specify models for \n",
    "\n",
    "*   $\\mu(z,x)=\\mathbb{E}(Y|z,x)$\n",
    "*   $m(z,x) = P(A=1|z,x)$\n",
    "*   $p(x) = P(Z=1|x)$"
   ]
  },
  {
   "cell_type": "code",
   "execution_count": 5,
   "metadata": {},
   "outputs": [],
   "source": [
    "# make a function that returns a sklearn model for later use in k-folding\n",
    "def make_mu_model():\n",
    "  #return KNeighborsClassifier(n_neighbors=300)\n",
    "  return RandomForestRegressor(random_state=RANDOM_SEED, n_estimators=300, max_depth=None)\n",
    "  #return RandomForestClassifier(n_estimators=100, max_depth=5)\n",
    "\n",
    "# specify a model for m(z,x)\n",
    "def make_m_model():\n",
    "  #return LogisticRegression(max_iter=1000, warm_start=True, random_state=RANDOM_SEED)\n",
    "  return RandomForestClassifier(n_estimators=200, max_depth=None)\n",
    "\n",
    "def make_p_model():\n",
    "  return RandomForestClassifier(n_estimators=200, max_depth=None) ###\n",
    "  #return RandomForestRegressor(random_state=RANDOM_SEED, n_estimators=300, max_depth=None)"
   ]
  },
  {
   "attachments": {},
   "cell_type": "markdown",
   "metadata": {},
   "source": [
    "### 1.2 Functions that use cross fitting to get predicted $\\hat{\\mu}$, $\\hat{m}$, $\\hat{p}$ for each unit"
   ]
  },
  {
   "cell_type": "code",
   "execution_count": 6,
   "metadata": {},
   "outputs": [],
   "source": [
    "# helper functions to implement the cross fitting\n",
    "\n",
    "def p_k_fold_fit_and_predict(make_model, X:pd.DataFrame, Z:np.array, n_splits:int):\n",
    "    \"\"\"\n",
    "    Implements K fold cross-fitting for the model predicting the instrument Z. \n",
    "    That is, \n",
    "    1. Split data into K folds\n",
    "    2. For each fold j, the model is fit on the other K-1 folds\n",
    "    3. The fitted model is used to make predictions for each data point in fold j\n",
    "    Returns an array containing the predictions  \n",
    "\n",
    "    Args:\n",
    "    model: function that returns sklearn model (which implements fit and predict_prob)\n",
    "    X: dataframe of variables to adjust for\n",
    "    Z: array of instruments\n",
    "    n_splits: number of splits to use\n",
    "    \"\"\"\n",
    "    predictions = np.full_like(Z, np.nan, dtype=float)\n",
    "    kf = StratifiedKFold(n_splits=n_splits, shuffle=True, random_state=RANDOM_SEED)\n",
    "    \n",
    "    for train_index, test_index in kf.split(X, Z):\n",
    "      X_train = X.loc[train_index]\n",
    "      Z_train = Z.loc[train_index]\n",
    "      g = make_model()\n",
    "      g.fit(X_train, Z_train)\n",
    "\n",
    "      # get predictions for split\n",
    "      predictions[test_index] = g.predict_proba(X.loc[test_index])[:, 1] ###\n",
    "      # predictions[test_index] = g.predict(X.loc[test_index])\n",
    "\n",
    "    assert np.isnan(predictions).sum() == 0\n",
    "    return predictions\n",
    "\n",
    "\n",
    "def m_k_fold_fit_and_predict(make_model, X:pd.DataFrame, Z:np.array, A:np.array, n_splits:int):\n",
    "    \"\"\"\n",
    "    Implements K fold cross-fitting for the model predicting the outcome Y. \n",
    "    That is, \n",
    "    1. Split data into K folds\n",
    "    2. For each fold j, the model is fit on the other K-1 folds\n",
    "    3. The fitted model is used to make predictions for each data point in fold j\n",
    "    Returns two arrays containing the predictions for all units untreated, all units treated  \n",
    "\n",
    "    Args:\n",
    "    model: function that returns sklearn model (that implements fit and either predict_prob or predict)\n",
    "    X: dataframe of variables to adjust for\n",
    "    Z: array of instruments\n",
    "    A: array of treatments\n",
    "    n_splits: number of splits to use\n",
    "    \"\"\"\n",
    "    predictions0 = np.full_like(A, np.nan, dtype=float)\n",
    "    predictions1 = np.full_like(A, np.nan, dtype=float)\n",
    "    kf = StratifiedKFold(n_splits=n_splits, shuffle=True, random_state=RANDOM_SEED)\n",
    "\n",
    "    # include the treatment as input feature\n",
    "    X_zx = X.copy()\n",
    "    X_zx[\"Z\"] = Z\n",
    "\n",
    "    # for predicting A under Z=1 / Z=0 status for each data point \n",
    "    X0 = X_zx.copy()\n",
    "    X0[\"Z\"] = 0\n",
    "    X1 = X_zx.copy()\n",
    "    X1[\"Z\"] = 1\n",
    "    \n",
    "    for train_index, test_index in kf.split(X_zx, A):\n",
    "      X_train = X_zx.loc[train_index]\n",
    "      A_train = A.loc[train_index]\n",
    "      m = make_model()\n",
    "      m.fit(X_train, A_train)\n",
    "      predictions0[test_index] = m.predict_proba(X0.loc[test_index])[:,1]\n",
    "      predictions1[test_index] = m.predict_proba(X1.loc[test_index])[:,1]\n",
    "\n",
    "    assert np.isnan(predictions0).sum() == 0\n",
    "    assert np.isnan(predictions1).sum() == 0\n",
    "    return predictions0, predictions1\n",
    "\n",
    "def mu_k_fold_fit_and_predict(make_model, X:pd.DataFrame, Z:np.array, y:np.array, n_splits:int, output_type:str):\n",
    "    \"\"\"\n",
    "    Implements K fold cross-fitting for the model predicting the outcome Y. \n",
    "    That is, \n",
    "    1. Split data into K folds\n",
    "    2. For each fold j, the model is fit on the other K-1 folds\n",
    "    3. The fitted model is used to make predictions for each data point in fold j\n",
    "    Returns two arrays containing the predictions for all units untreated, all units treated  \n",
    "\n",
    "    Args:\n",
    "    model: function that returns sklearn model (that implements fit and either predict_prob or predict)\n",
    "    X: dataframe of variables to adjust for\n",
    "    Z: array of instruments\n",
    "    y: array of outcomes\n",
    "    n_splits: number of splits to use\n",
    "    output_type: type of outcome, \"binary\" or \"continuous\"\n",
    "\n",
    "    \"\"\"\n",
    "    predictions0 = np.full_like(y, np.nan, dtype=float)\n",
    "    predictions1 = np.full_like(y, np.nan, dtype=float)\n",
    "    if output_type == 'binary':\n",
    "      kf = StratifiedKFold(n_splits=n_splits, shuffle=True, random_state=RANDOM_SEED)\n",
    "    elif output_type == 'continuous':\n",
    "      kf = KFold(n_splits=n_splits, shuffle=True, random_state=RANDOM_SEED)\n",
    "\n",
    "    # include the treatment as input feature\n",
    "    X_zx = X.copy()\n",
    "    X_zx[\"Z\"] = Z\n",
    "\n",
    "    # for predicting effect under treatment / control status for each data point \n",
    "    X0 = X_zx.copy()\n",
    "    X0[\"Z\"] = 0\n",
    "    X1 = X_zx.copy()\n",
    "    X1[\"Z\"] = 1\n",
    "\n",
    "    \n",
    "    for train_index, test_index in kf.split(X_zx, y):\n",
    "      X_train = X_zx.loc[train_index]\n",
    "      y_train = y.loc[train_index]\n",
    "      mu = make_model()\n",
    "      mu.fit(X_train, y_train)\n",
    "\n",
    "      if output_type =='binary':\n",
    "        predictions0[test_index] = mu.predict_proba(X0.loc[test_index])[:, 1]\n",
    "        predictions1[test_index] = mu.predict_proba(X1.loc[test_index])[:, 1]\n",
    "      elif output_type == 'continuous':\n",
    "        predictions0[test_index] = mu.predict(X0.loc[test_index])\n",
    "        predictions1[test_index] = mu.predict(X1.loc[test_index])\n",
    "\n",
    "    assert np.isnan(predictions0).sum() == 0\n",
    "    assert np.isnan(predictions1).sum() == 0\n",
    "    return predictions0, predictions1"
   ]
  },
  {
   "attachments": {},
   "cell_type": "markdown",
   "metadata": {},
   "source": [
    "### 1.3 LATE"
   ]
  },
  {
   "cell_type": "code",
   "execution_count": 7,
   "metadata": {},
   "outputs": [],
   "source": [
    "def late_estimator(mu1, mu0, m1, m0, p, Z, A, Y, prob = None):\n",
    "  '''\n",
    "  Estimator for LATE\n",
    "  '''\n",
    "  n = len(Y)\n",
    "  phi_zy = mu1 - mu0 + Z*(Y-mu1)/p - (1-Z)*(Y-mu0)/(1-p)\n",
    "  phi_za = m1 - m0 + Z*(A-m1)/p - (1-Z)*(A-m0)/(1-p)\n",
    "\n",
    "  tau_za = phi_za.mean()\n",
    "  tau_hat = phi_zy.mean()/tau_za\n",
    "  phi = phi_zy - phi_za * tau_hat\n",
    "  \n",
    "  std_hat = math.sqrt((phi**2).mean()/tau_za**2/n)\n",
    "\n",
    "  return tau_hat, std_hat"
   ]
  },
  {
   "attachments": {},
   "cell_type": "markdown",
   "metadata": {},
   "source": [
    "### 1.4 Run a trial"
   ]
  },
  {
   "cell_type": "code",
   "execution_count": 8,
   "metadata": {},
   "outputs": [],
   "source": [
    "def run(df, outcome_l, treatment_l, instrument_l, block_l, fe, stationary_c):\n",
    "\n",
    "    df_1 = df[outcome_l+treatment_l+instrument_l+block_l]\n",
    "    df_1 = df_1.dropna()\n",
    "\n",
    "    outcome = df_1[outcome_l].reset_index(drop=True).squeeze()\n",
    "    treatment = df_1[treatment_l].reset_index(drop=True).squeeze()\n",
    "    instrument = df_1[instrument_l].reset_index(drop=True).squeeze()\n",
    "    block = df_1[block_l].reset_index(drop=True)\n",
    "\n",
    "    p = p_k_fold_fit_and_predict(make_p_model, X=block, Z=instrument, n_splits=10)\n",
    "    m0,m1= m_k_fold_fit_and_predict(make_m_model, X=block, Z=instrument, A=treatment, n_splits=10)\n",
    "    mu0,mu1= mu_k_fold_fit_and_predict(make_mu_model, X=block, Z=instrument, y=outcome, n_splits=10, output_type=\"continuous\")\n",
    "    tau_hat, std_hat = late_estimator(mu1, mu0, m1, m0, p, Z=instrument, A=treatment, Y=outcome, prob = None)\n",
    "    p, tau_hat, sd_hat = find_p(tau_hat, std_hat)\n",
    "    \n",
    "    return outcome_l[0], treatment_l[0], instrument_l[0], p, tau_hat, sd_hat, fe, stationary_c\n",
    "    "
   ]
  },
  {
   "attachments": {},
   "cell_type": "markdown",
   "metadata": {},
   "source": [
    "## 2. Analysis"
   ]
  },
  {
   "attachments": {},
   "cell_type": "markdown",
   "metadata": {},
   "source": [
    "### 2.1 `df_mix`"
   ]
  },
  {
   "cell_type": "code",
   "execution_count": 9,
   "metadata": {},
   "outputs": [],
   "source": [
    "# read in the dataframe\n",
    "df = pd.read_csv('df_mix.csv')"
   ]
  },
  {
   "cell_type": "code",
   "execution_count": 10,
   "metadata": {},
   "outputs": [],
   "source": [
    "df1 = pd.read_csv('../../data/transport_size.csv')\n",
    "df1 = df1.loc[:, ['country', 't', 'outp']]\n",
    "\n",
    "df = pd.merge(df, df1, on=['country', 't'])\n",
    "\n",
    "df = df.drop(columns='iv_transport')\n",
    "df = df.rename(columns={'outp': 'iv_transport'})\n",
    "\n",
    "# Define categorization function\n",
    "def categorize_value(value, q1_3, q2_3):\n",
    "    if value > q2_3:\n",
    "        return 1\n",
    "    elif value < q1_3:\n",
    "        return 0\n",
    "    else:\n",
    "        return np.nan\n",
    "\n",
    "# Columns to apply the transformation\n",
    "columns = ['iv_transport']\n",
    "\n",
    "# Iterate through the columns and apply the categorization function\n",
    "for col in columns:\n",
    "    q1_3 = df[col].quantile(1/3)\n",
    "    q2_3 = df[col].quantile(2/3)\n",
    "    \n",
    "    df[col] = df[col].apply(lambda x: categorize_value(x, q1_3, q2_3))"
   ]
  },
  {
   "cell_type": "code",
   "execution_count": 11,
   "metadata": {},
   "outputs": [],
   "source": [
    "# in order to run random forest with categorical variable\n",
    "df = label_encode_column(df, 'country')"
   ]
  },
  {
   "cell_type": "code",
   "execution_count": 12,
   "metadata": {},
   "outputs": [],
   "source": [
    "res = pd.DataFrame(columns=['outcome', 'treatment', 'instrument', 'tau_hat', 'std_hat', 'p_val', 'fixed_effects', 'stationary_controls'])"
   ]
  },
  {
   "cell_type": "code",
   "execution_count": 13,
   "metadata": {},
   "outputs": [
    {
     "data": {
      "text/plain": [
       "Index(['country', 't', 'onset2COWCS', 'decade', 'democracy', 'logmountain',\n",
       "       'ethnic_fractionalization', 'religion_fractionalization',\n",
       "       'language_fractionalization', 'leg_british', 'opec', 'logpop_M_diff',\n",
       "       'logpopdens_diff', 'logoutreg_diff', 'ecgrowth_demeaned', 'treat_agri',\n",
       "       'treat_mine', 'treat_fuel', 'treat_metal', 'iv_agri', 'iv_mine',\n",
       "       'iv_fuel', 'iv_metal', 'iv_transport'],\n",
       "      dtype='object')"
      ]
     },
     "execution_count": 13,
     "metadata": {},
     "output_type": "execute_result"
    }
   ],
   "source": [
    "df.columns"
   ]
  },
  {
   "cell_type": "code",
   "execution_count": 14,
   "metadata": {},
   "outputs": [],
   "source": [
    "def run_all(df, outcome_l, treatment_l, instrument_l, block_fe_l, block_sta_l, block_other_l):\n",
    "    '''\n",
    "    For a given treatment i.e. sector.\n",
    "\n",
    "    instrument_l: a list of instruments.\n",
    "    '''\n",
    "    res = pd.DataFrame(columns=['outcome', 'treatment', 'instrument', 'tau_hat', 'std_hat', 'p_val', 'fixed_effects', 'stationary_controls'])\n",
    "\n",
    "    for ins_l in instrument_l:\n",
    "        block_l = block_other_l\n",
    "\n",
    "        for fe in [True, False]:\n",
    "            if fe:\n",
    "                block_l += block_fe_l\n",
    "\n",
    "            for sta in [True, False]:\n",
    "                if sta:\n",
    "                    block_l += block_sta_l\n",
    "                res_row = run(df, outcome_l, treatment_l, ins_l, block_l, fe, sta)\n",
    "                res.loc[len(res)] = list(res_row)\n",
    "    return res\n"
   ]
  },
  {
   "attachments": {},
   "cell_type": "markdown",
   "metadata": {},
   "source": [
    "Treatment: Fuel Sector"
   ]
  },
  {
   "cell_type": "code",
   "execution_count": 15,
   "metadata": {},
   "outputs": [
    {
     "name": "stdout",
     "output_type": "stream",
     "text": [
      "       outcome   treatment    instrument  tau_hat  std_hat   p_val  \\\n",
      "0  onset2COWCS  treat_fuel  iv_transport  -0.3313   0.6938  0.6330   \n",
      "1  onset2COWCS  treat_fuel  iv_transport  -0.7384   3.6396  0.8392   \n",
      "2  onset2COWCS  treat_fuel  iv_transport  -0.5240   1.1975  0.6617   \n",
      "3  onset2COWCS  treat_fuel  iv_transport  -0.5777   1.0534  0.5834   \n",
      "4  onset2COWCS  treat_fuel       iv_fuel  -0.0193   0.0735  0.7931   \n",
      "5  onset2COWCS  treat_fuel       iv_fuel  -0.0149   0.0737  0.8401   \n",
      "6  onset2COWCS  treat_fuel       iv_fuel  -0.0320   0.0753  0.6708   \n",
      "7  onset2COWCS  treat_fuel       iv_fuel  -0.0355   0.0755  0.6383   \n",
      "\n",
      "  fixed_effects stationary_controls  \n",
      "0          True                True  \n",
      "1          True               False  \n",
      "2         False                True  \n",
      "3         False               False  \n",
      "4          True                True  \n",
      "5          True               False  \n",
      "6         False                True  \n",
      "7         False               False  \n"
     ]
    },
    {
     "data": {
      "text/html": [
       "<div>\n",
       "<style scoped>\n",
       "    .dataframe tbody tr th:only-of-type {\n",
       "        vertical-align: middle;\n",
       "    }\n",
       "\n",
       "    .dataframe tbody tr th {\n",
       "        vertical-align: top;\n",
       "    }\n",
       "\n",
       "    .dataframe thead th {\n",
       "        text-align: right;\n",
       "    }\n",
       "</style>\n",
       "<table border=\"1\" class=\"dataframe\">\n",
       "  <thead>\n",
       "    <tr style=\"text-align: right;\">\n",
       "      <th></th>\n",
       "      <th>outcome</th>\n",
       "      <th>treatment</th>\n",
       "      <th>instrument</th>\n",
       "      <th>tau_hat</th>\n",
       "      <th>std_hat</th>\n",
       "      <th>p_val</th>\n",
       "      <th>fixed_effects</th>\n",
       "      <th>stationary_controls</th>\n",
       "    </tr>\n",
       "  </thead>\n",
       "  <tbody>\n",
       "    <tr>\n",
       "      <th>0</th>\n",
       "      <td>onset2COWCS</td>\n",
       "      <td>treat_fuel</td>\n",
       "      <td>iv_transport</td>\n",
       "      <td>-0.3313</td>\n",
       "      <td>0.6938</td>\n",
       "      <td>0.6330</td>\n",
       "      <td>True</td>\n",
       "      <td>True</td>\n",
       "    </tr>\n",
       "    <tr>\n",
       "      <th>1</th>\n",
       "      <td>onset2COWCS</td>\n",
       "      <td>treat_fuel</td>\n",
       "      <td>iv_transport</td>\n",
       "      <td>-0.7384</td>\n",
       "      <td>3.6396</td>\n",
       "      <td>0.8392</td>\n",
       "      <td>True</td>\n",
       "      <td>False</td>\n",
       "    </tr>\n",
       "    <tr>\n",
       "      <th>2</th>\n",
       "      <td>onset2COWCS</td>\n",
       "      <td>treat_fuel</td>\n",
       "      <td>iv_transport</td>\n",
       "      <td>-0.5240</td>\n",
       "      <td>1.1975</td>\n",
       "      <td>0.6617</td>\n",
       "      <td>False</td>\n",
       "      <td>True</td>\n",
       "    </tr>\n",
       "    <tr>\n",
       "      <th>3</th>\n",
       "      <td>onset2COWCS</td>\n",
       "      <td>treat_fuel</td>\n",
       "      <td>iv_transport</td>\n",
       "      <td>-0.5777</td>\n",
       "      <td>1.0534</td>\n",
       "      <td>0.5834</td>\n",
       "      <td>False</td>\n",
       "      <td>False</td>\n",
       "    </tr>\n",
       "    <tr>\n",
       "      <th>4</th>\n",
       "      <td>onset2COWCS</td>\n",
       "      <td>treat_fuel</td>\n",
       "      <td>iv_fuel</td>\n",
       "      <td>-0.0193</td>\n",
       "      <td>0.0735</td>\n",
       "      <td>0.7931</td>\n",
       "      <td>True</td>\n",
       "      <td>True</td>\n",
       "    </tr>\n",
       "    <tr>\n",
       "      <th>5</th>\n",
       "      <td>onset2COWCS</td>\n",
       "      <td>treat_fuel</td>\n",
       "      <td>iv_fuel</td>\n",
       "      <td>-0.0149</td>\n",
       "      <td>0.0737</td>\n",
       "      <td>0.8401</td>\n",
       "      <td>True</td>\n",
       "      <td>False</td>\n",
       "    </tr>\n",
       "    <tr>\n",
       "      <th>6</th>\n",
       "      <td>onset2COWCS</td>\n",
       "      <td>treat_fuel</td>\n",
       "      <td>iv_fuel</td>\n",
       "      <td>-0.0320</td>\n",
       "      <td>0.0753</td>\n",
       "      <td>0.6708</td>\n",
       "      <td>False</td>\n",
       "      <td>True</td>\n",
       "    </tr>\n",
       "    <tr>\n",
       "      <th>7</th>\n",
       "      <td>onset2COWCS</td>\n",
       "      <td>treat_fuel</td>\n",
       "      <td>iv_fuel</td>\n",
       "      <td>-0.0355</td>\n",
       "      <td>0.0755</td>\n",
       "      <td>0.6383</td>\n",
       "      <td>False</td>\n",
       "      <td>False</td>\n",
       "    </tr>\n",
       "  </tbody>\n",
       "</table>\n",
       "</div>"
      ],
      "text/plain": [
       "       outcome   treatment    instrument  tau_hat  std_hat   p_val  \\\n",
       "0  onset2COWCS  treat_fuel  iv_transport  -0.3313   0.6938  0.6330   \n",
       "1  onset2COWCS  treat_fuel  iv_transport  -0.7384   3.6396  0.8392   \n",
       "2  onset2COWCS  treat_fuel  iv_transport  -0.5240   1.1975  0.6617   \n",
       "3  onset2COWCS  treat_fuel  iv_transport  -0.5777   1.0534  0.5834   \n",
       "4  onset2COWCS  treat_fuel       iv_fuel  -0.0193   0.0735  0.7931   \n",
       "5  onset2COWCS  treat_fuel       iv_fuel  -0.0149   0.0737  0.8401   \n",
       "6  onset2COWCS  treat_fuel       iv_fuel  -0.0320   0.0753  0.6708   \n",
       "7  onset2COWCS  treat_fuel       iv_fuel  -0.0355   0.0755  0.6383   \n",
       "\n",
       "  fixed_effects stationary_controls  \n",
       "0          True                True  \n",
       "1          True               False  \n",
       "2         False                True  \n",
       "3         False               False  \n",
       "4          True                True  \n",
       "5          True               False  \n",
       "6         False                True  \n",
       "7         False               False  "
      ]
     },
     "execution_count": 15,
     "metadata": {},
     "output_type": "execute_result"
    }
   ],
   "source": [
    "run_all(df, \n",
    "        outcome_l = ['onset2COWCS'], \n",
    "        treatment_l = ['treat_fuel'], \n",
    "        instrument_l = [['iv_transport'], ['iv_fuel']], \n",
    "        block_fe_l = ['country', 't'], \n",
    "        block_sta_l = ['logmountain', 'ethnic_fractionalization', 'religion_fractionalization',\n",
    "                       'language_fractionalization', 'leg_british', 'opec'], \n",
    "        block_other_l = ['democracy', 'logpop_M_diff', 'logpopdens_diff', \n",
    "                         'logoutreg_diff', 'ecgrowth_demeaned'])"
   ]
  },
  {
   "attachments": {},
   "cell_type": "markdown",
   "metadata": {},
   "source": [
    "Treatment: Agriculture"
   ]
  },
  {
   "cell_type": "code",
   "execution_count": null,
   "metadata": {},
   "outputs": [],
   "source": []
  },
  {
   "attachments": {},
   "cell_type": "markdown",
   "metadata": {},
   "source": [
    "Treatment: Metal"
   ]
  },
  {
   "cell_type": "code",
   "execution_count": null,
   "metadata": {},
   "outputs": [],
   "source": []
  },
  {
   "attachments": {},
   "cell_type": "markdown",
   "metadata": {},
   "source": [
    "Treatment: Mining"
   ]
  },
  {
   "cell_type": "code",
   "execution_count": null,
   "metadata": {},
   "outputs": [],
   "source": []
  },
  {
   "attachments": {},
   "cell_type": "markdown",
   "metadata": {},
   "source": [
    "### IV transport"
   ]
  },
  {
   "cell_type": "code",
   "execution_count": 14,
   "metadata": {},
   "outputs": [
    {
     "name": "stdout",
     "output_type": "stream",
     "text": [
      "('onset2COWCS', 'treat_fuel', 'iv_transport', -3.0584, 40.3357, 0.9396, False, True)\n"
     ]
    }
   ],
   "source": [
    "outcome_l = ['onset2COWCS']\n",
    "treatment_l = ['treat_fuel']\n",
    "instrument_l = ['iv_transport']\n",
    "block_l = ['democracy', 'logmountain',\n",
    "       'ethnic_fractionalization', 'religion_fractionalization',\n",
    "       'language_fractionalization', 'leg_british', 'opec', 'logpop_M_diff',\n",
    "       'logpopdens_diff', 'logoutreg_diff', 'ecgrowth_demeaned']\n",
    "\n",
    "trial_res = run(df, outcome_l, treatment_l, instrument_l, block_l, False, True)\n",
    "print(trial_res)\n",
    "\n",
    "res.loc[len(res)] = list(trial_res)"
   ]
  },
  {
   "cell_type": "code",
   "execution_count": 15,
   "metadata": {},
   "outputs": [
    {
     "name": "stdout",
     "output_type": "stream",
     "text": [
      "('onset2COWCS', 'treat_fuel', 'iv_transport', 0.3499, 1.4658, 0.8113, False, False)\n"
     ]
    }
   ],
   "source": [
    "outcome_l = ['onset2COWCS']\n",
    "treatment_l = ['treat_fuel']\n",
    "instrument_l = ['iv_transport']\n",
    "block_l = ['democracy', 'logpop_M_diff',\n",
    "       'logpopdens_diff', 'logoutreg_diff', 'ecgrowth_demeaned']\n",
    "\n",
    "trial_res = run(df, outcome_l, treatment_l, instrument_l, block_l, False, False)\n",
    "print(trial_res)\n",
    "\n",
    "res.loc[len(res)] = list(trial_res)"
   ]
  },
  {
   "cell_type": "code",
   "execution_count": 16,
   "metadata": {},
   "outputs": [
    {
     "name": "stdout",
     "output_type": "stream",
     "text": [
      "('onset2COWCS', 'treat_fuel', 'iv_transport', -6.6099, 159.0635, 0.9669, True, True)\n"
     ]
    }
   ],
   "source": [
    "outcome_l = ['onset2COWCS']\n",
    "treatment_l = ['treat_fuel']\n",
    "instrument_l = ['iv_transport']\n",
    "block_l = ['country', 't',\n",
    "           'democracy', 'logmountain',\n",
    "           'ethnic_fractionalization', 'religion_fractionalization',\n",
    "           'language_fractionalization', 'leg_british', 'opec', 'logpop_M_diff',\n",
    "           'logpopdens_diff', 'logoutreg_diff', 'ecgrowth_demeaned']\n",
    "\n",
    "trial_res = run(df, outcome_l, treatment_l, instrument_l, block_l, True, True)\n",
    "print(trial_res)\n",
    "\n",
    "res.loc[len(res)] = list(trial_res)"
   ]
  },
  {
   "cell_type": "code",
   "execution_count": 17,
   "metadata": {},
   "outputs": [
    {
     "name": "stdout",
     "output_type": "stream",
     "text": [
      "('onset2COWCS', 'treat_fuel', 'iv_transport', -0.0042, 0.3958, 0.9916, True, False)\n"
     ]
    }
   ],
   "source": [
    "outcome_l = ['onset2COWCS']\n",
    "treatment_l = ['treat_fuel']\n",
    "instrument_l = ['iv_transport']\n",
    "block_l = ['country', 't',\n",
    "           'democracy', 'logpop_M_diff',\n",
    "           'logpopdens_diff', 'logoutreg_diff', 'ecgrowth_demeaned']\n",
    "\n",
    "trial_res = run(df, outcome_l, treatment_l, instrument_l, block_l, True, False)\n",
    "print(trial_res)\n",
    "\n",
    "res.loc[len(res)] = list(trial_res)"
   ]
  },
  {
   "attachments": {},
   "cell_type": "markdown",
   "metadata": {},
   "source": [
    "#### IV World-Level GVC"
   ]
  },
  {
   "cell_type": "code",
   "execution_count": 18,
   "metadata": {},
   "outputs": [
    {
     "name": "stdout",
     "output_type": "stream",
     "text": [
      "('onset2COWCS', 'treat_fuel', 'iv_fuel', -0.019, 0.0472, 0.6878, False, True)\n"
     ]
    }
   ],
   "source": [
    "outcome_l = ['onset2COWCS']\n",
    "treatment_l = ['treat_fuel']\n",
    "instrument_l = ['iv_fuel']\n",
    "block_l = ['democracy', 'logmountain',\n",
    "       'ethnic_fractionalization', 'religion_fractionalization',\n",
    "       'language_fractionalization', 'leg_british', 'opec', 'logpop_M_diff',\n",
    "       'logpopdens_diff', 'logoutreg_diff', 'ecgrowth_demeaned']\n",
    "\n",
    "trial_res = run(df, outcome_l, treatment_l, instrument_l, block_l, False, True)\n",
    "print(trial_res)\n",
    "\n",
    "res.loc[len(res)] = list(trial_res)"
   ]
  },
  {
   "cell_type": "code",
   "execution_count": 19,
   "metadata": {},
   "outputs": [
    {
     "name": "stdout",
     "output_type": "stream",
     "text": [
      "('onset2COWCS', 'treat_fuel', 'iv_fuel', 0.0529, 0.0405, 0.1914, False, False)\n"
     ]
    }
   ],
   "source": [
    "outcome_l = ['onset2COWCS']\n",
    "treatment_l = ['treat_fuel']\n",
    "instrument_l = ['iv_fuel']\n",
    "block_l = ['democracy', 'logpop_M_diff',\n",
    "       'logpopdens_diff', 'logoutreg_diff', 'ecgrowth_demeaned']\n",
    "\n",
    "trial_res = run(df, outcome_l, treatment_l, instrument_l, block_l, False, False)\n",
    "print(trial_res)\n",
    "\n",
    "res.loc[len(res)] = list(trial_res)"
   ]
  },
  {
   "cell_type": "code",
   "execution_count": 20,
   "metadata": {},
   "outputs": [
    {
     "name": "stdout",
     "output_type": "stream",
     "text": [
      "('onset2COWCS', 'treat_fuel', 'iv_fuel', -0.0144, 0.0533, 0.7873, True, True)\n"
     ]
    }
   ],
   "source": [
    "outcome_l = ['onset2COWCS']\n",
    "treatment_l = ['treat_fuel']\n",
    "instrument_l = ['iv_fuel']\n",
    "block_l = ['country', 't',\n",
    "           'democracy', 'logmountain',\n",
    "           'ethnic_fractionalization', 'religion_fractionalization',\n",
    "           'language_fractionalization', 'leg_british', 'opec', 'logpop_M_diff',\n",
    "           'logpopdens_diff', 'logoutreg_diff', 'ecgrowth_demeaned']\n",
    "\n",
    "trial_res = run(df, outcome_l, treatment_l, instrument_l, block_l, True, True)\n",
    "print(trial_res)\n",
    "\n",
    "res.loc[len(res)] = list(trial_res)"
   ]
  },
  {
   "cell_type": "code",
   "execution_count": 21,
   "metadata": {},
   "outputs": [
    {
     "name": "stdout",
     "output_type": "stream",
     "text": [
      "('onset2COWCS', 'treat_fuel', 'iv_fuel', 0.0478, 0.0441, 0.2776, True, False)\n"
     ]
    }
   ],
   "source": [
    "outcome_l = ['onset2COWCS']\n",
    "treatment_l = ['treat_fuel']\n",
    "instrument_l = ['iv_fuel']\n",
    "block_l = ['country', 't',\n",
    "           'democracy', 'logpop_M_diff',\n",
    "           'logpopdens_diff', 'logoutreg_diff', 'ecgrowth_demeaned']\n",
    "\n",
    "trial_res = run(df, outcome_l, treatment_l, instrument_l, block_l, True, False)\n",
    "print(trial_res)\n",
    "\n",
    "res.loc[len(res)] = list(trial_res)"
   ]
  },
  {
   "attachments": {},
   "cell_type": "markdown",
   "metadata": {},
   "source": [
    "### Fianl Result"
   ]
  },
  {
   "cell_type": "code",
   "execution_count": 22,
   "metadata": {},
   "outputs": [
    {
     "data": {
      "text/html": [
       "<div>\n",
       "<style scoped>\n",
       "    .dataframe tbody tr th:only-of-type {\n",
       "        vertical-align: middle;\n",
       "    }\n",
       "\n",
       "    .dataframe tbody tr th {\n",
       "        vertical-align: top;\n",
       "    }\n",
       "\n",
       "    .dataframe thead th {\n",
       "        text-align: right;\n",
       "    }\n",
       "</style>\n",
       "<table border=\"1\" class=\"dataframe\">\n",
       "  <thead>\n",
       "    <tr style=\"text-align: right;\">\n",
       "      <th></th>\n",
       "      <th>outcome</th>\n",
       "      <th>treatment</th>\n",
       "      <th>instrument</th>\n",
       "      <th>tau_hat</th>\n",
       "      <th>std_hat</th>\n",
       "      <th>p_val</th>\n",
       "      <th>fixed_effects</th>\n",
       "      <th>stationary_controls</th>\n",
       "    </tr>\n",
       "  </thead>\n",
       "  <tbody>\n",
       "    <tr>\n",
       "      <th>0</th>\n",
       "      <td>onset2COWCS</td>\n",
       "      <td>treat_fuel</td>\n",
       "      <td>iv_transport</td>\n",
       "      <td>-3.0584</td>\n",
       "      <td>40.3357</td>\n",
       "      <td>0.9396</td>\n",
       "      <td>False</td>\n",
       "      <td>True</td>\n",
       "    </tr>\n",
       "    <tr>\n",
       "      <th>1</th>\n",
       "      <td>onset2COWCS</td>\n",
       "      <td>treat_fuel</td>\n",
       "      <td>iv_transport</td>\n",
       "      <td>0.3499</td>\n",
       "      <td>1.4658</td>\n",
       "      <td>0.8113</td>\n",
       "      <td>False</td>\n",
       "      <td>False</td>\n",
       "    </tr>\n",
       "    <tr>\n",
       "      <th>2</th>\n",
       "      <td>onset2COWCS</td>\n",
       "      <td>treat_fuel</td>\n",
       "      <td>iv_transport</td>\n",
       "      <td>-6.6099</td>\n",
       "      <td>159.0635</td>\n",
       "      <td>0.9669</td>\n",
       "      <td>True</td>\n",
       "      <td>True</td>\n",
       "    </tr>\n",
       "    <tr>\n",
       "      <th>3</th>\n",
       "      <td>onset2COWCS</td>\n",
       "      <td>treat_fuel</td>\n",
       "      <td>iv_transport</td>\n",
       "      <td>-0.0042</td>\n",
       "      <td>0.3958</td>\n",
       "      <td>0.9916</td>\n",
       "      <td>True</td>\n",
       "      <td>False</td>\n",
       "    </tr>\n",
       "    <tr>\n",
       "      <th>4</th>\n",
       "      <td>onset2COWCS</td>\n",
       "      <td>treat_fuel</td>\n",
       "      <td>iv_fuel</td>\n",
       "      <td>-0.0190</td>\n",
       "      <td>0.0472</td>\n",
       "      <td>0.6878</td>\n",
       "      <td>False</td>\n",
       "      <td>True</td>\n",
       "    </tr>\n",
       "    <tr>\n",
       "      <th>5</th>\n",
       "      <td>onset2COWCS</td>\n",
       "      <td>treat_fuel</td>\n",
       "      <td>iv_fuel</td>\n",
       "      <td>0.0529</td>\n",
       "      <td>0.0405</td>\n",
       "      <td>0.1914</td>\n",
       "      <td>False</td>\n",
       "      <td>False</td>\n",
       "    </tr>\n",
       "    <tr>\n",
       "      <th>6</th>\n",
       "      <td>onset2COWCS</td>\n",
       "      <td>treat_fuel</td>\n",
       "      <td>iv_fuel</td>\n",
       "      <td>-0.0144</td>\n",
       "      <td>0.0533</td>\n",
       "      <td>0.7873</td>\n",
       "      <td>True</td>\n",
       "      <td>True</td>\n",
       "    </tr>\n",
       "    <tr>\n",
       "      <th>7</th>\n",
       "      <td>onset2COWCS</td>\n",
       "      <td>treat_fuel</td>\n",
       "      <td>iv_fuel</td>\n",
       "      <td>0.0478</td>\n",
       "      <td>0.0441</td>\n",
       "      <td>0.2776</td>\n",
       "      <td>True</td>\n",
       "      <td>False</td>\n",
       "    </tr>\n",
       "  </tbody>\n",
       "</table>\n",
       "</div>"
      ],
      "text/plain": [
       "       outcome   treatment    instrument  tau_hat   std_hat   p_val  \\\n",
       "0  onset2COWCS  treat_fuel  iv_transport  -3.0584   40.3357  0.9396   \n",
       "1  onset2COWCS  treat_fuel  iv_transport   0.3499    1.4658  0.8113   \n",
       "2  onset2COWCS  treat_fuel  iv_transport  -6.6099  159.0635  0.9669   \n",
       "3  onset2COWCS  treat_fuel  iv_transport  -0.0042    0.3958  0.9916   \n",
       "4  onset2COWCS  treat_fuel       iv_fuel  -0.0190    0.0472  0.6878   \n",
       "5  onset2COWCS  treat_fuel       iv_fuel   0.0529    0.0405  0.1914   \n",
       "6  onset2COWCS  treat_fuel       iv_fuel  -0.0144    0.0533  0.7873   \n",
       "7  onset2COWCS  treat_fuel       iv_fuel   0.0478    0.0441  0.2776   \n",
       "\n",
       "  fixed_effects stationary_controls  \n",
       "0         False                True  \n",
       "1         False               False  \n",
       "2          True                True  \n",
       "3          True               False  \n",
       "4         False                True  \n",
       "5         False               False  \n",
       "6          True                True  \n",
       "7          True               False  "
      ]
     },
     "execution_count": 22,
     "metadata": {},
     "output_type": "execute_result"
    }
   ],
   "source": [
    "res"
   ]
  },
  {
   "attachments": {},
   "cell_type": "markdown",
   "metadata": {},
   "source": [
    "For estimating the local average treatment effect under the monotone instrument assumption, there is a double-machine learning approach that works with generic supervised learning approaches. Here, we want an estimator $\\hat{\\tau}^{\\mathrm{LATE}}$ for the parameter\n",
    "$$\n",
    "\\tau^{\\mathrm{LATE}}=\\frac{\\mathbb{E}[\\mathbb{E}[Y \\mid X, Z=1]-\\mathbb{E}[Y \\mid X, Z=0]]}{\\mathbb{E}[\\mathrm{P}(A=1 \\mid X, Z=1)-\\mathrm{P}(A=1 \\mid X, Z=0)]}\n",
    "$$\n",
    "To define the estimator, it's convenient to introduce some additional notation. First, we define the nuisance functions:\n",
    "$$\n",
    "\\begin{aligned}\n",
    "\\mu(z, x) & =\\mathbb{E}[Y \\mid z, x] \\\\\n",
    "m(z, x) & =\\mathrm{P}(A=1 \\mid x, z) \\\\\n",
    "p(x) & =\\mathrm{P}(Z=1 \\mid x) .\n",
    "\\end{aligned}\n",
    "$$\n",
    "We also define the score $\\phi$ by:\n",
    "$$\n",
    "\\begin{aligned}\n",
    "& \\phi_{Z \\rightarrow Y}(\\mathbf{X} ; \\mu, p) \\triangleq \\mu(1, X)-\\mu(0, X)+\\frac{Z(Y-\\mu(1, X))}{p(X)}-\\frac{(1-Z)(Y-\\mu(0, X))}{1-p(X)} \\\\\n",
    "& \\phi_{Z \\rightarrow A}(\\mathbf{X} ; m, p) \\triangleq m(1, X)-m(0, X)+\\frac{Z(A-m(1, X))}{p(X)}-\\frac{(1-Z)(A-m(0, X))}{1-p(X)} \\\\\n",
    "& \\phi(\\mathbf{X} ; \\mu, m, p, \\tau) \\triangleq \\phi_{Z \\rightarrow Y}(\\mathbf{X} ; \\mu, p)-\\phi_{Z \\rightarrow A}(\\mathbf{X} ; m, p) \\times \\tau\n",
    "\\end{aligned}\n",
    "$$\n",
    "Then, the estimator is defined by a two stage procedure:\n",
    "1. Fit models $\\hat{\\mu}, \\hat{m}, \\hat{p}$ for each of $\\mu, m, p$ (using supervised machine learning).\n",
    "2. Define $\\hat{\\tau}^{\\mathrm{LATE}}$ as the solution to $\\frac{1}{n} \\sum_i \\phi\\left(\\mathbf{X}_i ; \\hat{\\mu}, \\hat{m}, \\hat{p}, \\hat{\\tau}^{\\mathrm{LATE}}\\right)=0$. That is,\n",
    "$$\n",
    "\\hat{\\tau}^{\\mathrm{LATE}}=\\frac{\\frac{1}{n} \\sum_i \\phi_{Z \\rightarrow Y}\\left(\\mathbf{X}_i ; \\hat{\\mu}, \\hat{p}\\right)}{\\frac{1}{n} \\sum_i \\phi_{Z \\rightarrow A}\\left(\\mathbf{X}_i ; \\hat{m}, \\hat{p}\\right)}\n",
    "$$\n",
    "It may help intuitions to notice that the double machine learning estimator of the LATE is effectively the double machine learning estimator of of the average treatment effect of $Z$ on $Y$ divided by the double machine learning estimator of the average treatment effect of $Z$ on $A$.\n",
    "The nuisance functions can be estimated by:\n",
    "1. fit a model $\\hat{\\mu}$ that predicts $Y$ from $Z, X$ by minimizing mean square error\n",
    "2. fit a model $\\hat{m}$ that predicts $A$ from $Z, X$ by minimizing mean cross-entropy\n",
    "3. fit a model $\\hat{p}$ that predicts $Z$ from $X$ by minimizing mean cross-entropy."
   ]
  },
  {
   "cell_type": "code",
   "execution_count": 23,
   "metadata": {},
   "outputs": [
    {
     "data": {
      "text/plain": [
       "0            NaN\n",
       "1       0.041836\n",
       "2       0.022721\n",
       "3            NaN\n",
       "4            NaN\n",
       "          ...   \n",
       "3253         NaN\n",
       "3254    0.033032\n",
       "3255    0.020412\n",
       "3256   -0.016094\n",
       "3257    0.010647\n",
       "Name: logmountain, Length: 3258, dtype: float64"
      ]
     },
     "execution_count": 23,
     "metadata": {},
     "output_type": "execute_result"
    }
   ],
   "source": [
    "df.logmountain"
   ]
  }
 ],
 "metadata": {
  "kernelspec": {
   "display_name": "Python 3",
   "language": "python",
   "name": "python3"
  },
  "language_info": {
   "codemirror_mode": {
    "name": "ipython",
    "version": 3
   },
   "file_extension": ".py",
   "mimetype": "text/x-python",
   "name": "python",
   "nbconvert_exporter": "python",
   "pygments_lexer": "ipython3",
   "version": "3.7.9"
  },
  "orig_nbformat": 4
 },
 "nbformat": 4,
 "nbformat_minor": 2
}
