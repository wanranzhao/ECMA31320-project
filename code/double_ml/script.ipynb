{
 "cells": [
  {
   "cell_type": "code",
   "execution_count": null,
   "metadata": {},
   "outputs": [],
   "source": []
  },
  {
   "attachments": {},
   "cell_type": "markdown",
   "metadata": {},
   "source": []
  },
  {
   "attachments": {},
   "cell_type": "markdown",
   "metadata": {},
   "source": [
    "We also apply double machine learning techniques to further corroborate our findings from the earlier two models.\n",
    "\n",
    "For estimating the local average treatment effect under the monotone instrument assumption, there is a double-machine learning approach that works with generic supervised learning approaches (we used random forest regressor and classifier in this case). Here, we want an estimator $\\hat{\\tau}^{\\mathrm{LATE}}$ for the LATE estimand shown here.\n",
    "\n",
    "To define the estimator, it's convenient to introduce some additional notation. First, we define the nuisance functions:\n",
    "$$\n",
    "\\begin{aligned}\n",
    "\\mu(z, x) & =\\mathbb{E}[Y \\mid z, x] \\\\\n",
    "m(z, x) & =\\mathrm{P}(A=1 \\mid x, z) \\\\\n",
    "p(x) & =\\mathrm{P}(Z=1 \\mid x) .\n",
    "\\end{aligned}\n",
    "$$\n",
    "We also define the score $\\phi$ by following the same fashion with the AIPTW estimator.\n",
    "\n",
    "Then, the estimator is defined by a two stage procedure.\n",
    "\n",
    "It may help intuitions to notice that the double machine learning estimator of the LATE is effectively the double machine learning estimator of of the average treatment effect of $Z$ on $Y$ divided by the double machine learning estimator of the average treatment effect of $Z$ on $A$.\n",
    "\n",
    "\n",
    "The assumptions are the traditional IV assumptions already discussed earlier plus\n",
    "\n",
    "Monotonicity: $P(\\text{defiers}) = 0$\n",
    "        \n",
    "While it is not testable, it is plausible to assume that an increase in the value of the instrument (a country's transportation sector size / world-level GVC of a natural resource sector) would not decrease the treatment level (GVC participation of the country), and a decrease in the instrument would not increase the treatment level.\n",
    "\n",
    "We tried with 2 IVs, the transportation sector size and the world-level GVC participation of the fuel sector, adding or not adding the country and time fixed effects as well as the stationary controls. \n",
    "\n",
    "We see that the result slightly skews towards the negative side, which align with the findings from the baseline model. But it also indicates insignificant effects of GVC participation on war onset. This might be due to the fact that we binarize the continuous instrument and treatment, which may undermine the significance."
   ]
  }
 ],
 "metadata": {
  "language_info": {
   "name": "python"
  },
  "orig_nbformat": 4
 },
 "nbformat": 4,
 "nbformat_minor": 2
}
