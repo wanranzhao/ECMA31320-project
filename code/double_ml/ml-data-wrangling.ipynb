{
 "cells": [
  {
   "attachments": {},
   "cell_type": "markdown",
   "metadata": {},
   "source": [
    "# Double ML - data wrangling"
   ]
  },
  {
   "cell_type": "code",
   "execution_count": 1,
   "metadata": {},
   "outputs": [],
   "source": [
    "import pandas as pd\n",
    "import numpy as np\n",
    "import matplotlib.pyplot as plt"
   ]
  },
  {
   "attachments": {},
   "cell_type": "markdown",
   "metadata": {},
   "source": [
    "## 1. Data Wrangling"
   ]
  },
  {
   "cell_type": "code",
   "execution_count": 2,
   "metadata": {},
   "outputs": [],
   "source": [
    "\n",
    "df = pd.read_csv('../../data/merged_052423.csv')"
   ]
  },
  {
   "cell_type": "code",
   "execution_count": 3,
   "metadata": {},
   "outputs": [
    {
     "data": {
      "text/plain": [
       "Index(['country', 'sect', 't', 'source', 'outp', 'outpd', 'outptt', 'gvco',\n",
       "       'gvcobp', 'gvcofp', 'gvcomix', 'gvcobp%', 'gvcofp%', 'gvcomix%',\n",
       "       'gvcobp_diff', 'gvcofp_diff', 'gvcomix_diff', 'Unnamed: 0',\n",
       "       'onset2COWCS', 'd2incidenceU', 'd3_6incidenceU', 'onsetUCS', 'coup',\n",
       "       'periregular', 'milexp_pergdpSIPRI', 'decade', 'ecgrowth', 'logpop_M',\n",
       "       'logpopdens', 'logoutreg', 'democracy', 'logmountain',\n",
       "       'ethnic_fractionalization', 'religion_fractionalization',\n",
       "       'language_fractionalization', 'leg_british', 'opec',\n",
       "       'milexp_pergdpSIPRI_diff', 'logpop_M_diff', 'logpopdens_diff',\n",
       "       'logoutreg_diff', 'ecgrowth_demeaned'],\n",
       "      dtype='object')"
      ]
     },
     "execution_count": 3,
     "metadata": {},
     "output_type": "execute_result"
    }
   ],
   "source": [
    "df.columns"
   ]
  },
  {
   "cell_type": "code",
   "execution_count": 4,
   "metadata": {},
   "outputs": [],
   "source": [
    "df = df[['country', 'sect', 't', \n",
    "         \n",
    "         'gvcobp_diff', 'gvcofp_diff', 'gvcomix_diff', \n",
    "\n",
    "         'onset2COWCS',\n",
    "         \n",
    "         'decade', 'democracy', 'logmountain','ethnic_fractionalization', 'religion_fractionalization', 'language_fractionalization', 'leg_british','opec', 'logpop_M_diff', 'logpopdens_diff', 'logoutreg_diff', 'ecgrowth_demeaned']]"
   ]
  },
  {
   "cell_type": "code",
   "execution_count": 5,
   "metadata": {},
   "outputs": [],
   "source": [
    "df_mix = df.drop(['gvcobp_diff', 'gvcofp_diff'], axis=1)\n",
    "df_bp = df.drop(['gvcofp_diff', 'gvcomix_diff'], axis=1)\n",
    "df_fp = df.drop(['gvcobp_diff', 'gvcomix_diff'], axis=1)"
   ]
  },
  {
   "attachments": {},
   "cell_type": "markdown",
   "metadata": {},
   "source": [
    "### 1.1 df_mix"
   ]
  },
  {
   "cell_type": "code",
   "execution_count": 6,
   "metadata": {},
   "outputs": [],
   "source": [
    "# Pivot the table using the 'sect' column as the new columns and 'gvcomix_diff' as the values\n",
    "pivoted_df = df_mix.pivot_table(values='gvcomix_diff', index=['country', 't'], columns='sect', aggfunc='first').reset_index()\n",
    "\n",
    "# Merge the original DataFrame with the pivoted DataFrame on the common columns\n",
    "merged_df = pd.merge(df_mix.drop(['sect','gvcomix_diff'], axis=1).drop_duplicates(), pivoted_df, on=['country', 't'])\n",
    "\n",
    "df_mix_new = merged_df"
   ]
  },
  {
   "cell_type": "code",
   "execution_count": 7,
   "metadata": {},
   "outputs": [],
   "source": [
    "df_mix_new = df_mix_new.rename(columns={19: 'iv_transport',\n",
    "                                        1: 'treat_agri',\n",
    "                                        2: 'treat_mine',\n",
    "                                        6: 'treat_fuel',\n",
    "                                        10: 'treat_metal'})"
   ]
  },
  {
   "cell_type": "code",
   "execution_count": 8,
   "metadata": {},
   "outputs": [],
   "source": [
    "# calculate the mean value of each column for each year\n",
    "mean_data = df_mix_new.groupby('t')[['treat_agri', 'treat_mine', 'treat_fuel', 'treat_metal']].mean().reset_index()\n",
    "mean_data = mean_data.rename(columns={'treat_agri': 'iv_agri', 'treat_mine': 'iv_mine', \n",
    "                                      'treat_fuel': 'iv_fuel', 'treat_metal': 'iv_metal'})\n",
    "\n",
    "# merge the original panel data with the mean data on the \"year\" column\n",
    "df_mix_new = pd.merge(df_mix_new, mean_data, on='t')"
   ]
  },
  {
   "cell_type": "code",
   "execution_count": 9,
   "metadata": {},
   "outputs": [],
   "source": [
    "# Define categorization function\n",
    "def categorize_value(value, q1_3, q2_3):\n",
    "    if value > q2_3:\n",
    "        return 1\n",
    "    elif value < q1_3:\n",
    "        return 0\n",
    "    else:\n",
    "        return np.nan\n",
    "\n",
    "# Columns to apply the transformation\n",
    "columns = ['treat_agri', 'treat_mine', 'treat_fuel', 'treat_metal', \n",
    "           'iv_transport', \n",
    "           'iv_agri', 'iv_mine', 'iv_fuel', 'iv_metal']\n",
    "\n",
    "# Iterate through the columns and apply the categorization function\n",
    "for col in columns:\n",
    "    q1_3 = df_mix_new[col].quantile(1/3)\n",
    "    q2_3 = df_mix_new[col].quantile(2/3)\n",
    "    \n",
    "    df_mix_new[col] = df_mix_new[col].apply(lambda x: categorize_value(x, q1_3, q2_3))"
   ]
  },
  {
   "cell_type": "code",
   "execution_count": 10,
   "metadata": {},
   "outputs": [],
   "source": [
    "df_mix_new.to_csv('df_mix.csv', index=False)"
   ]
  },
  {
   "attachments": {},
   "cell_type": "markdown",
   "metadata": {},
   "source": [
    "### 1.2 df_bp"
   ]
  },
  {
   "cell_type": "code",
   "execution_count": 11,
   "metadata": {},
   "outputs": [],
   "source": [
    "# Pivot the table using the 'sect' column as the new columns and 'gvcomix_diff' as the values\n",
    "pivoted_df = df_bp.pivot_table(values='gvcobp_diff', index=['country', 't'], columns='sect', aggfunc='first').reset_index()\n",
    "\n",
    "# Merge the original DataFrame with the pivoted DataFrame on the common columns\n",
    "merged_df = pd.merge(df_bp.drop(['sect','gvcobp_diff'], axis=1).drop_duplicates(), pivoted_df, on=['country', 't'])\n",
    "\n",
    "df_bp_new = merged_df"
   ]
  },
  {
   "cell_type": "code",
   "execution_count": 12,
   "metadata": {},
   "outputs": [],
   "source": [
    "df_bp_new = df_bp_new.rename(columns={19: 'iv_transport',\n",
    "                                        1: 'treat_agri',\n",
    "                                        2: 'treat_mine',\n",
    "                                        6: 'treat_fuel',\n",
    "                                        10: 'treat_metal'})"
   ]
  },
  {
   "cell_type": "code",
   "execution_count": 13,
   "metadata": {},
   "outputs": [],
   "source": [
    "# calculate the mean value of each column for each year\n",
    "mean_data = df_bp_new.groupby('t')[['treat_agri', 'treat_mine', 'treat_fuel', 'treat_metal']].mean().reset_index()\n",
    "mean_data = mean_data.rename(columns={'treat_agri': 'iv_agri', 'treat_mine': 'iv_mine', \n",
    "                                      'treat_fuel': 'iv_fuel', 'treat_metal': 'iv_metal'})\n",
    "\n",
    "# merge the original panel data with the mean data on the \"year\" column\n",
    "df_bp_new = pd.merge(df_bp_new, mean_data, on='t')"
   ]
  },
  {
   "cell_type": "code",
   "execution_count": 14,
   "metadata": {},
   "outputs": [],
   "source": [
    "# Columns to apply the transformation\n",
    "columns = ['treat_agri', 'treat_mine', 'treat_fuel', 'treat_metal', \n",
    "           'iv_transport', \n",
    "           'iv_agri', 'iv_mine', 'iv_fuel', 'iv_metal']\n",
    "\n",
    "# Iterate through the columns and apply the categorization function\n",
    "for col in columns:\n",
    "    q1_3 = df_bp_new[col].quantile(1/3)\n",
    "    q2_3 = df_bp_new[col].quantile(2/3)\n",
    "    \n",
    "    df_bp_new[col] = df_bp_new[col].apply(lambda x: categorize_value(x, q1_3, q2_3))"
   ]
  },
  {
   "cell_type": "code",
   "execution_count": 15,
   "metadata": {},
   "outputs": [],
   "source": [
    "df_bp_new.to_csv('df_bp.csv', index=False)"
   ]
  },
  {
   "attachments": {},
   "cell_type": "markdown",
   "metadata": {},
   "source": [
    "### 1.3 df_fp"
   ]
  },
  {
   "cell_type": "code",
   "execution_count": 16,
   "metadata": {},
   "outputs": [],
   "source": [
    "# Pivot the table using the 'sect' column as the new columns and 'gvcomix_diff' as the values\n",
    "pivoted_df = df_fp.pivot_table(values='gvcofp_diff', index=['country', 't'], columns='sect', aggfunc='first').reset_index()\n",
    "\n",
    "# Merge the original DataFrame with the pivoted DataFrame on the common columns\n",
    "merged_df = pd.merge(df_fp.drop(['sect','gvcofp_diff'], axis=1).drop_duplicates(), pivoted_df, on=['country', 't'])\n",
    "\n",
    "df_fp_new = merged_df"
   ]
  },
  {
   "cell_type": "code",
   "execution_count": 17,
   "metadata": {},
   "outputs": [],
   "source": [
    "df_fp_new = df_fp_new.rename(columns={19: 'iv_transport',\n",
    "                                        1: 'treat_agri',\n",
    "                                        2: 'treat_mine',\n",
    "                                        6: 'treat_fuel',\n",
    "                                        10: 'treat_metal'})"
   ]
  },
  {
   "cell_type": "code",
   "execution_count": 18,
   "metadata": {},
   "outputs": [],
   "source": [
    "# calculate the mean value of each column for each year\n",
    "mean_data = df_fp_new.groupby('t')[['treat_agri', 'treat_mine', 'treat_fuel', 'treat_metal']].mean().reset_index()\n",
    "mean_data = mean_data.rename(columns={'treat_agri': 'iv_agri', 'treat_mine': 'iv_mine', \n",
    "                                      'treat_fuel': 'iv_fuel', 'treat_metal': 'iv_metal'})\n",
    "\n",
    "# merge the original panel data with the mean data on the \"year\" column\n",
    "df_fp_new = pd.merge(df_fp_new, mean_data, on='t')"
   ]
  },
  {
   "cell_type": "code",
   "execution_count": 19,
   "metadata": {},
   "outputs": [],
   "source": [
    "# Columns to apply the transformation\n",
    "columns = ['treat_agri', 'treat_mine', 'treat_fuel', 'treat_metal', \n",
    "           'iv_transport', \n",
    "           'iv_agri', 'iv_mine', 'iv_fuel', 'iv_metal']\n",
    "\n",
    "# Iterate through the columns and apply the categorization function\n",
    "for col in columns:\n",
    "    q1_3 = df_fp_new[col].quantile(1/3)\n",
    "    q2_3 = df_fp_new[col].quantile(2/3)\n",
    "    \n",
    "    df_fp_new[col] = df_fp_new[col].apply(lambda x: categorize_value(x, q1_3, q2_3))"
   ]
  },
  {
   "cell_type": "code",
   "execution_count": 20,
   "metadata": {},
   "outputs": [],
   "source": [
    "df_fp_new.to_csv('df_fp.csv', index=False)"
   ]
  }
 ],
 "metadata": {
  "kernelspec": {
   "display_name": "Python 3",
   "language": "python",
   "name": "python3"
  },
  "language_info": {
   "codemirror_mode": {
    "name": "ipython",
    "version": 3
   },
   "file_extension": ".py",
   "mimetype": "text/x-python",
   "name": "python",
   "nbconvert_exporter": "python",
   "pygments_lexer": "ipython3",
   "version": "3.7.9"
  },
  "orig_nbformat": 4
 },
 "nbformat": 4,
 "nbformat_minor": 2
}
