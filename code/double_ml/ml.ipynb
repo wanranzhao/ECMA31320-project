{
 "cells": [
  {
   "attachments": {},
   "cell_type": "markdown",
   "metadata": {},
   "source": [
    "# Double ML"
   ]
  },
  {
   "cell_type": "code",
   "execution_count": 1,
   "metadata": {},
   "outputs": [],
   "source": [
    "import pandas as pd\n",
    "import numpy as np"
   ]
  },
  {
   "attachments": {},
   "cell_type": "markdown",
   "metadata": {},
   "source": [
    "## 1. Data Wrangling"
   ]
  },
  {
   "cell_type": "code",
   "execution_count": 6,
   "metadata": {},
   "outputs": [],
   "source": [
    "\n",
    "df = pd.read_csv('../../data/eora_merged.csv')"
   ]
  },
  {
   "cell_type": "code",
   "execution_count": 7,
   "metadata": {},
   "outputs": [
    {
     "data": {
      "text/plain": [
       "Index(['country', 'sect', 't', 'source', 'outp', 'outpd', 'outptt', 'gvco',\n",
       "       'gvcobp', 'gvcofp', 'gvcomix', 'outpd%', 'outptt%', 'gvco%', 'gvcobp%',\n",
       "       'gvcofp%', 'gvcomix%', 'outpd_diff', 'outptt_diff', 'gvco_diff',\n",
       "       'gvcobp_diff', 'gvcofp_diff', 'gvcomix_diff', 'Unnamed: 0',\n",
       "       'onset2COWCS', 'd2incidenceU', 'd3_6incidenceU', 'onsetUCS', 'coup',\n",
       "       'periregular', 'milexp_pergdpSIPRI', 'decade', 'ecgrowth', 'logpop_M',\n",
       "       'logpopdens', 'logoutreg', 'democracy', 'logmountain',\n",
       "       'ethnic_fractionalization', 'religion_fractionalization',\n",
       "       'language_fractionalization', 'leg_british', 'opec',\n",
       "       'milexp_pergdpSIPRI_diff', 'logpop_M_diff', 'logpopdens_diff',\n",
       "       'logoutreg_diff', 'ecgrowth_demeaned'],\n",
       "      dtype='object')"
      ]
     },
     "execution_count": 7,
     "metadata": {},
     "output_type": "execute_result"
    }
   ],
   "source": [
    "df.columns"
   ]
  },
  {
   "cell_type": "code",
   "execution_count": 9,
   "metadata": {},
   "outputs": [],
   "source": [
    "df = df[['country', 'sect', 't', \n",
    "         \n",
    "         'gvcobp_diff', 'gvcofp_diff', 'gvcomix_diff', \n",
    "\n",
    "         'onset2COWCS',\n",
    "         \n",
    "         'decade', 'democracy', 'logmountain','ethnic_fractionalization', 'religion_fractionalization', 'language_fractionalization', 'leg_british','opec', 'logpop_M_diff', 'logpopdens_diff', 'logoutreg_diff', 'ecgrowth_demeaned']]"
   ]
  },
  {
   "cell_type": "code",
   "execution_count": 11,
   "metadata": {},
   "outputs": [],
   "source": [
    "df_mix = df.drop(['gvcobp_diff', 'gvcofp_diff'], axis=1)\n",
    "df_bp = df.drop(['gvcofp_diff', 'gvcomix_diff'], axis=1)\n",
    "df_fp = df.drop(['gvcobp_diff', 'gvcomix_diff'], axis=1)"
   ]
  },
  {
   "attachments": {},
   "cell_type": "markdown",
   "metadata": {},
   "source": [
    "### 1.1 df_mix"
   ]
  },
  {
   "cell_type": "code",
   "execution_count": 51,
   "metadata": {},
   "outputs": [],
   "source": [
    "# Pivot the table using the 'sect' column as the new columns and 'gvcomix_diff' as the values\n",
    "pivoted_df = df_mix.pivot_table(values='gvcomix_diff', index=['country', 't'], columns='sect', aggfunc='first').reset_index()\n",
    "\n",
    "# Merge the original DataFrame with the pivoted DataFrame on the common columns\n",
    "merged_df = pd.merge(df_mix.drop(['sect','gvcomix_diff'], axis=1).drop_duplicates(), pivoted_df, on=['country', 't'])"
   ]
  },
  {
   "cell_type": "code",
   "execution_count": 52,
   "metadata": {},
   "outputs": [
    {
     "data": {
      "text/plain": [
       "3258"
      ]
     },
     "execution_count": 52,
     "metadata": {},
     "output_type": "execute_result"
    }
   ],
   "source": [
    "len(merged_df)"
   ]
  },
  {
   "cell_type": "code",
   "execution_count": 49,
   "metadata": {},
   "outputs": [],
   "source": [
    "merged_df.to_csv('df_mix.csv', index=False)\n"
   ]
  },
  {
   "cell_type": "code",
   "execution_count": null,
   "metadata": {},
   "outputs": [],
   "source": []
  },
  {
   "cell_type": "code",
   "execution_count": null,
   "metadata": {},
   "outputs": [],
   "source": []
  },
  {
   "cell_type": "code",
   "execution_count": null,
   "metadata": {},
   "outputs": [],
   "source": []
  }
 ],
 "metadata": {
  "kernelspec": {
   "display_name": "Python 3",
   "language": "python",
   "name": "python3"
  },
  "language_info": {
   "codemirror_mode": {
    "name": "ipython",
    "version": 3
   },
   "file_extension": ".py",
   "mimetype": "text/x-python",
   "name": "python",
   "nbconvert_exporter": "python",
   "pygments_lexer": "ipython3",
   "version": "3.7.9"
  },
  "orig_nbformat": 4
 },
 "nbformat": 4,
 "nbformat_minor": 2
}
