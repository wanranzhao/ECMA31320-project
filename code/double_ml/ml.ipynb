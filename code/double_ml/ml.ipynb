{
 "cells": [
  {
   "attachments": {},
   "cell_type": "markdown",
   "metadata": {},
   "source": [
    "# Double ML"
   ]
  },
  {
   "cell_type": "code",
   "execution_count": 1,
   "metadata": {},
   "outputs": [],
   "source": [
    "import pandas as pd\n",
    "import numpy as np"
   ]
  },
  {
   "attachments": {},
   "cell_type": "markdown",
   "metadata": {},
   "source": [
    "## 1. Data Wrangling"
   ]
  },
  {
   "cell_type": "code",
   "execution_count": 6,
   "metadata": {},
   "outputs": [],
   "source": [
    "\n",
    "df = pd.read_csv('../../data/eora_merged.csv')"
   ]
  },
  {
   "cell_type": "code",
   "execution_count": 7,
   "metadata": {},
   "outputs": [
    {
     "data": {
      "text/plain": [
       "Index(['country', 'sect', 't', 'source', 'outp', 'outpd', 'outptt', 'gvco',\n",
       "       'gvcobp', 'gvcofp', 'gvcomix', 'outpd%', 'outptt%', 'gvco%', 'gvcobp%',\n",
       "       'gvcofp%', 'gvcomix%', 'outpd_diff', 'outptt_diff', 'gvco_diff',\n",
       "       'gvcobp_diff', 'gvcofp_diff', 'gvcomix_diff', 'Unnamed: 0',\n",
       "       'onset2COWCS', 'd2incidenceU', 'd3_6incidenceU', 'onsetUCS', 'coup',\n",
       "       'periregular', 'milexp_pergdpSIPRI', 'decade', 'ecgrowth', 'logpop_M',\n",
       "       'logpopdens', 'logoutreg', 'democracy', 'logmountain',\n",
       "       'ethnic_fractionalization', 'religion_fractionalization',\n",
       "       'language_fractionalization', 'leg_british', 'opec',\n",
       "       'milexp_pergdpSIPRI_diff', 'logpop_M_diff', 'logpopdens_diff',\n",
       "       'logoutreg_diff', 'ecgrowth_demeaned'],\n",
       "      dtype='object')"
      ]
     },
     "execution_count": 7,
     "metadata": {},
     "output_type": "execute_result"
    }
   ],
   "source": [
    "df.columns"
   ]
  },
  {
   "cell_type": "code",
   "execution_count": 8,
   "metadata": {},
   "outputs": [],
   "source": [
    "df = df[['country', 'sect', 't', \n",
    "         'gvcobp%', 'gvcofp%', 'gvcomix%', \n",
    "         'gvcobp_diff', 'gvcofp_diff', 'gvcomix_diff', \n",
    "         'onset2COWCS',\n",
    "         'decade', 'ecgrowth', 'logpop_M', 'logpopdens', 'logoutreg', 'democracy', 'logmountain','ethnic_fractionalization', 'religion_fractionalization', 'language_fractionalization', 'leg_british','opec', 'milexp_pergdpSIPRI_diff', 'logpop_M_diff', 'logpopdens_diff', 'logoutreg_diff', 'ecgrowth_demeaned']]"
   ]
  },
  {
   "cell_type": "code",
   "execution_count": null,
   "metadata": {},
   "outputs": [],
   "source": [
    "# Pivot the dataframe to have one row per country and year with columns for each sector\n",
    "df_pivot = df.pivot_table(index=['country', 't'], columns='sect', values='gvcomix%', aggfunc='first').reset_index()\n",
    "\n",
    "# Flatten the MultiIndex in columns\n",
    "df_pivot.columns = [col if not isinstance(col, tuple) else f\"{col[0]} {col[1]}\" for col in df_pivot.columns]\n",
    "\n",
    "# List of additional columns to include in the final output\n",
    "additional_columns = ['onset2COWCS', 'decade', 'ecgrowth', 'logpop_M', 'logpopdens', 'logoutreg', 'democracy', 'logmountain', 'ethnic_fractionalization', 'religion_fractionalization', 'language_fractionalization', 'leg_british', 'opec']\n",
    "\n",
    "# Drop duplicates in the original dataframe based on 'country', 'year', and additional_columns\n",
    "df_unique = df[['country', 't'] + additional_columns].drop_duplicates()\n",
    "\n",
    "# Merge the pivoted dataframe with the unique dataframe\n",
    "df_final = pd.merge(df_pivot, df_unique, on=['country', 't'], how='left')\n",
    "\n",
    "# Save the transformed dataframe to a new CSV file\n",
    "df_final.to_csv('gvcomix_transformed.csv', index=False)"
   ]
  }
 ],
 "metadata": {
  "kernelspec": {
   "display_name": "Python 3",
   "language": "python",
   "name": "python3"
  },
  "language_info": {
   "codemirror_mode": {
    "name": "ipython",
    "version": 3
   },
   "file_extension": ".py",
   "mimetype": "text/x-python",
   "name": "python",
   "nbconvert_exporter": "python",
   "pygments_lexer": "ipython3",
   "version": "3.7.9"
  },
  "orig_nbformat": 4
 },
 "nbformat": 4,
 "nbformat_minor": 2
}
