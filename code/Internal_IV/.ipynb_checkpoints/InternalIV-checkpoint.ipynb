{
 "cells": [
  {
   "cell_type": "code",
   "execution_count": 1,
   "metadata": {},
   "outputs": [],
   "source": [
    "import pandas as pd\n",
    "from pydynpd import regression"
   ]
  },
  {
   "cell_type": "code",
   "execution_count": 2,
   "metadata": {},
   "outputs": [],
   "source": [
    "df = pd.read_csv(\"/Users/zwanran/Desktop/ECMA31320/ECMA31320-project/data/gvcobp_transformed.csv\", na_values= '#DIV/0!')"
   ]
  },
  {
   "cell_type": "code",
   "execution_count": 3,
   "metadata": {},
   "outputs": [],
   "source": [
    "from sklearn.preprocessing import LabelEncoder\n",
    "le = LabelEncoder()\n",
    "label = le.fit_transform(df['country'])\n",
    "df.drop('country', axis=1, inplace=True)\n",
    "df['country'] = label\n",
    "df.fillna(0, inplace=True)"
   ]
  },
  {
   "cell_type": "code",
   "execution_count": 4,
   "metadata": {},
   "outputs": [],
   "source": [
    "unstationary = 'ecgrowth logpop_M logpopdens logoutreg'\n",
    "stationary = 'logmountain ethnic_fractionalization religion_fractionalization language_fractionalization leg_british opec'"
   ]
  },
  {
   "cell_type": "code",
   "execution_count": 63,
   "metadata": {},
   "outputs": [],
   "source": [
    "# command_str='onset2COWCS L(1).onset2COWCS s1 s2 s6 s10 s19 | gmm(onset2COWCS, 2:4) gmm(s1, 1:3) gmm(s2, 1:3) gmm(s6, 1:3) gmm(s10, 1:3) gmm(s19, 1:3) | timedumm  nolevel'\n",
    "# command_str='onset2COWCS L(1:2).onset2COWCS s1 s2 s6 s10 s19 | gmm(onset2COWCS, 2:4) gmm(s1, 1:3) gmm(s2, 1:3) gmm(s6, 1:3) gmm(s10, 1:3) gmm(s19, 1:3) | timedumm  nolevel'"
   ]
  },
  {
   "cell_type": "markdown",
   "metadata": {},
   "source": [
    "# Assumption tests\n",
    "- [x] We expect to reject AR(1) but not AR(2)"
   ]
  },
  {
   "cell_type": "markdown",
   "metadata": {},
   "source": [
    "# Difference GMM"
   ]
  },
  {
   "cell_type": "code",
   "execution_count": 7,
   "metadata": {},
   "outputs": [
    {
     "name": "stdout",
     "output_type": "stream",
     "text": [
      " Dynamic panel-data estimation, two-step difference GMM\n",
      " Group variable: country                          Number of obs = 2715     \n",
      " Time variable: t                                 Min obs per group: 15    \n",
      " Number of instruments = 94                       Max obs per group: 15    \n",
      " Number of groups = 181                           Avg obs per group: 15.00 \n",
      "+----------------+------------+---------------------+------------+-----------+---+\n",
      "|  onset2COWCS   |   coef.    | Corrected Std. Err. |     z      |   P>|z|   |   |\n",
      "+----------------+------------+---------------------+------------+-----------+---+\n",
      "| L1.onset2COWCS | -0.0629026 |      0.0310476      | -2.0260068 | 0.0427641 | * |\n",
      "| L2.onset2COWCS | -0.0533959 |      0.0273064      | -1.9554344 | 0.0505318 |   |\n",
      "|       s6       | 0.0015438  |      0.0056862      | 0.2714914  | 0.7860131 |   |\n",
      "|    ecgrowth    | -0.0272834 |      0.1199612      | -0.2274351 | 0.8200854 |   |\n",
      "|    logpop_M    | -1.0039331 |      2.9460375      | -0.3407741 | 0.7332737 |   |\n",
      "|   logpopdens   | -1.0039182 |      2.9459939      | -0.3407740 | 0.7332737 |   |\n",
      "|   logoutreg    | 0.1782504  |      0.2266483      | 0.7864629  | 0.4315964 |   |\n",
      "+----------------+------------+---------------------+------------+-----------+---+\n",
      "Hansen test of overid. restrictions: chi(87) = 170.272 Prob > Chi2 = 0.000\n",
      "Arellano-Bond test for AR(1) in first differences: z = -3.99 Pr > z =0.000\n",
      "Arellano-Bond test for AR(2) in first differences: z = -0.65 Pr > z =0.517\n",
      "\n"
     ]
    },
    {
     "data": {
      "text/plain": [
       "<pydynpd.regression.abond at 0x7fd9ec4e0670>"
      ]
     },
     "execution_count": 7,
     "metadata": {},
     "output_type": "execute_result"
    }
   ],
   "source": [
    "## no time dummy, no stationary controls\n",
    "command_str='onset2COWCS L(1:2).onset2COWCS s6 ' + unstationary + ' | gmm(onset2COWCS, 2:4) gmm(s1, 1:3) |  nolevel'\n",
    "regression.abond(command_str, df, ['country', 't'])"
   ]
  },
  {
   "cell_type": "code",
   "execution_count": 13,
   "metadata": {},
   "outputs": [
    {
     "name": "stdout",
     "output_type": "stream",
     "text": [
      " Dynamic panel-data estimation, two-step difference GMM\n",
      " Group variable: country                           Number of obs = 2715     \n",
      " Time variable: t                                  Min obs per group: 15    \n",
      " Number of instruments = 100                       Max obs per group: 15    \n",
      " Number of groups = 181                            Avg obs per group: 15.00 \n",
      "+----------------------------+------------+---------------------+------------+-----------+---+\n",
      "|        onset2COWCS         |   coef.    | Corrected Std. Err. |     z      |   P>|z|   |   |\n",
      "+----------------------------+------------+---------------------+------------+-----------+---+\n",
      "|       L1.onset2COWCS       | -0.0629076 |      0.0310477      | -2.0261582 | 0.0427486 | * |\n",
      "|       L2.onset2COWCS       | -0.0533979 |      0.0273048      | -1.9556203 | 0.0505099 |   |\n",
      "|             s6             | 0.0015515  |      0.0056834      | 0.2729831  | 0.7848662 |   |\n",
      "|          ecgrowth          | -0.0272916 |      0.1199392      | -0.2275455 | 0.8199996 |   |\n",
      "|          logpop_M          | -1.0099665 |      2.9571970      | -0.3415283 | 0.7327059 |   |\n",
      "|         logpopdens         | -1.0099512 |      2.9571525      | -0.3415283 | 0.7327059 |   |\n",
      "|         logoutreg          | 0.1783348  |      0.2266532      | 0.7868181  | 0.4313884 |   |\n",
      "|        logmountain         | 0.0000000  |      0.0000000      |    nan     |    nan    |   |\n",
      "|  ethnic_fractionalization  | 0.0000000  |      0.0000000      |    nan     |    nan    |   |\n",
      "| religion_fractionalization | 0.0000000  |      0.0000000      |    nan     |    nan    |   |\n",
      "| language_fractionalization | 0.0000000  |      0.0000000      |    nan     |    nan    |   |\n",
      "|        leg_british         | 0.0000000  |      0.0000000      |    nan     |    nan    |   |\n",
      "|            opec            | -0.0027291 |      0.0033870      | -0.8057821 | 0.4203685 |   |\n",
      "+----------------------------+------------+---------------------+------------+-----------+---+\n",
      "Hansen test of overid. restrictions: chi(87) = 170.277 Prob > Chi2 = 0.000\n",
      "Arellano-Bond test for AR(1) in first differences: z = -3.99 Pr > z =0.000\n",
      "Arellano-Bond test for AR(2) in first differences: z = -0.65 Pr > z =0.517\n",
      "\n"
     ]
    },
    {
     "data": {
      "text/plain": [
       "<pydynpd.regression.abond at 0x7fd9ee1f7a00>"
      ]
     },
     "execution_count": 13,
     "metadata": {},
     "output_type": "execute_result"
    }
   ],
   "source": [
    "## no time dummy, stationary controls\n",
    "command_str='onset2COWCS L(1:2).onset2COWCS s6 ' + unstationary + ' ' + stationary + ' | gmm(onset2COWCS, 2:4) gmm(s1, 1:3) |  nolevel'\n",
    "regression.abond(command_str, df, ['country', 't'])"
   ]
  },
  {
   "cell_type": "code",
   "execution_count": 8,
   "metadata": {},
   "outputs": [
    {
     "name": "stdout",
     "output_type": "stream",
     "text": [
      " Dynamic panel-data estimation, two-step difference GMM\n",
      " Group variable: country                           Number of obs = 2715     \n",
      " Time variable: t                                  Min obs per group: 15    \n",
      " Number of instruments = 109                       Max obs per group: 15    \n",
      " Number of groups = 181                            Avg obs per group: 15.00 \n",
      "+----------------+------------+---------------------+------------+-----------+---+\n",
      "|  onset2COWCS   |   coef.    | Corrected Std. Err. |     z      |   P>|z|   |   |\n",
      "+----------------+------------+---------------------+------------+-----------+---+\n",
      "| L1.onset2COWCS | -0.0617377 |      0.0304352      | -2.0285005 | 0.0425092 | * |\n",
      "| L2.onset2COWCS | -0.0544541 |      0.0275318      | -1.9778664 | 0.0479438 | * |\n",
      "|       s6       | 0.0115274  |      0.0123115      | 0.9363109  | 0.3491131 |   |\n",
      "|    ecgrowth    | -0.0262401 |      0.1203365      | -0.2180562 | 0.8273853 |   |\n",
      "|    logpop_M    | -0.1470442 |      5.1160009      | -0.0287420 | 0.9770703 |   |\n",
      "|   logpopdens   | -0.1470442 |      5.1160025      | -0.0287420 | 0.9770703 |   |\n",
      "|   logoutreg    | 0.2798147  |      0.5263845      | 0.5315786  | 0.5950179 |   |\n",
      "|     t_1994     | 0.0036912  |      0.0119084      | 0.3099686  | 0.7565848 |   |\n",
      "|     t_1995     | -0.0051498 |      0.0103036      | -0.4998008 | 0.6172153 |   |\n",
      "|     t_1996     | 0.0061251  |      0.0092787      | 0.6601225  | 0.5091752 |   |\n",
      "|     t_1997     | -0.0042574 |      0.0120675      | -0.3527951 | 0.7242421 |   |\n",
      "|     t_1998     | 0.0157369  |      0.0137292      | 1.1462348  | 0.2516980 |   |\n",
      "|     t_1999     | -0.0065565 |      0.0118849      | -0.5516688 | 0.5811753 |   |\n",
      "|     t_2000     | -0.0025840 |      0.0152208      | -0.1697676 | 0.8651929 |   |\n",
      "|     t_2001     | 0.0013265  |      0.0141673      | 0.0936293  | 0.9254036 |   |\n",
      "|     t_2002     | -0.0106592 |      0.0143293      | -0.7438772 | 0.4569508 |   |\n",
      "|     t_2003     | -0.0060767 |      0.0191258      | -0.3177216 | 0.7506961 |   |\n",
      "|     t_2004     | -0.0018671 |      0.0175087      | -0.1066401 | 0.9150745 |   |\n",
      "|     t_2005     | -0.0096968 |      0.0179675      | -0.5396855 | 0.5894140 |   |\n",
      "|     t_2006     | -0.0086460 |      0.0212458      | -0.4069505 | 0.6840443 |   |\n",
      "|     t_2007     | -0.0111986 |      0.0213456      | -0.5246309 | 0.5998398 |   |\n",
      "|     t_2008     | -0.0149569 |      0.0209631      | -0.7134869 | 0.4755445 |   |\n",
      "+----------------+------------+---------------------+------------+-----------+---+\n",
      "Hansen test of overid. restrictions: chi(87) = 179.900 Prob > Chi2 = 0.000\n",
      "Arellano-Bond test for AR(1) in first differences: z = -4.04 Pr > z =0.000\n",
      "Arellano-Bond test for AR(2) in first differences: z = -0.65 Pr > z =0.517\n",
      "\n"
     ]
    },
    {
     "data": {
      "text/plain": [
       "<pydynpd.regression.abond at 0x7fd9ec4e0a90>"
      ]
     },
     "execution_count": 8,
     "metadata": {},
     "output_type": "execute_result"
    }
   ],
   "source": [
    "## time dummy, no stationary controls\n",
    "command_str='onset2COWCS L(1:2).onset2COWCS s6 ' + unstationary + ' | gmm(onset2COWCS, 2:4) gmm(s1, 1:3) | timedumm  nolevel'\n",
    "regression.abond(command_str, df, ['country', 't'])"
   ]
  },
  {
   "cell_type": "code",
   "execution_count": 14,
   "metadata": {},
   "outputs": [
    {
     "name": "stdout",
     "output_type": "stream",
     "text": [
      " Dynamic panel-data estimation, two-step difference GMM\n",
      " Group variable: country                           Number of obs = 2715     \n",
      " Time variable: t                                  Min obs per group: 15    \n",
      " Number of instruments = 115                       Max obs per group: 15    \n",
      " Number of groups = 181                            Avg obs per group: 15.00 \n",
      "+----------------------------+------------+---------------------+------------+-----------+---+\n",
      "|        onset2COWCS         |   coef.    | Corrected Std. Err. |     z      |   P>|z|   |   |\n",
      "+----------------------------+------------+---------------------+------------+-----------+---+\n",
      "|       L1.onset2COWCS       | -0.0617550 |      0.0304349      | -2.0290830 | 0.0424498 | * |\n",
      "|       L2.onset2COWCS       | -0.0544672 |      0.0275297      | -1.9784883 | 0.0478737 | * |\n",
      "|             s6             | 0.0115496  |      0.0122670      | 0.9415229  | 0.3464369 |   |\n",
      "|          ecgrowth          | -0.0262425 |      0.1203300      | -0.2180882 | 0.8273604 |   |\n",
      "|          logpop_M          | -0.1597549 |      5.1065136      | -0.0312845 | 0.9750426 |   |\n",
      "|         logpopdens         | -0.1597499 |      5.1063433      | -0.0312846 | 0.9750426 |   |\n",
      "|         logoutreg          | 0.2796472  |      0.5265246      | 0.5311189  | 0.5953364 |   |\n",
      "|        logmountain         | -0.0000000 |      0.0000000      | -0.0377775 | 0.9698651 |   |\n",
      "|  ethnic_fractionalization  | -0.0000000 |      0.0000000      | -0.0322738 | 0.9742537 |   |\n",
      "| religion_fractionalization | 0.0000000  |      0.0000000      | 0.0315161  | 0.9748579 |   |\n",
      "| language_fractionalization | 0.0000000  |      0.0000000      | 0.0314626  | 0.9749006 |   |\n",
      "|        leg_british         | 0.0000000  |      0.0000000      | 0.0315167  | 0.9748575 |   |\n",
      "|            opec            | -0.0113143 |      0.0112447      | -1.0061943 | 0.3143221 |   |\n",
      "|           t_1994           | 0.0036951  |      0.0119199      | 0.3099903  | 0.7565683 |   |\n",
      "|           t_1995           | -0.0052077 |      0.0103105      | -0.5050855 | 0.6134988 |   |\n",
      "|           t_1996           | 0.0060699  |      0.0092634      | 0.6552576  | 0.5123019 |   |\n",
      "|           t_1997           | -0.0043092 |      0.0120446      | -0.3577670 | 0.7205177 |   |\n",
      "|           t_1998           | 0.0156886  |      0.0137141      | 1.1439690  | 0.2526365 |   |\n",
      "|           t_1999           | -0.0066020 |      0.0118689      | -0.5562436 | 0.5780443 |   |\n",
      "|           t_2000           | -0.0026281 |      0.0151834      | -0.1730893 | 0.8625813 |   |\n",
      "|           t_2001           | 0.0012866  |      0.0141323      | 0.0910383  | 0.9274622 |   |\n",
      "|           t_2002           | -0.0106955 |      0.0142934      | -0.7482861 | 0.4542876 |   |\n",
      "|           t_2003           | -0.0061097 |      0.0190935      | -0.3199864 | 0.7489786 |   |\n",
      "|           t_2004           | -0.0018969 |      0.0174896      | -0.1084570 | 0.9136332 |   |\n",
      "|           t_2005           | -0.0097209 |      0.0179577      | -0.5413219 | 0.5882857 |   |\n",
      "|           t_2006           | -0.0086713 |      0.0211901      | -0.4092134 | 0.6823831 |   |\n",
      "|           t_2007           | -0.0112197 |      0.0212994      | -0.5267604 | 0.5983600 |   |\n",
      "|           t_2008           | -0.0149735 |      0.0209346      | -0.7152501 | 0.4744545 |   |\n",
      "+----------------------------+------------+---------------------+------------+-----------+---+\n",
      "Hansen test of overid. restrictions: chi(87) = 179.896 Prob > Chi2 = 0.000\n",
      "Arellano-Bond test for AR(1) in first differences: z = -4.04 Pr > z =0.000\n",
      "Arellano-Bond test for AR(2) in first differences: z = -0.65 Pr > z =0.517\n",
      "\n"
     ]
    },
    {
     "data": {
      "text/plain": [
       "<pydynpd.regression.abond at 0x7fd9ec4e0c70>"
      ]
     },
     "execution_count": 14,
     "metadata": {},
     "output_type": "execute_result"
    }
   ],
   "source": [
    "## time dummy, stationary controls\n",
    "command_str='onset2COWCS L(1:2).onset2COWCS s6 ' + unstationary + ' ' + stationary + ' | gmm(onset2COWCS, 2:4) gmm(s1, 1:3) | timedumm nolevel'\n",
    "regression.abond(command_str, df, ['country', 't'])"
   ]
  },
  {
   "cell_type": "markdown",
   "metadata": {},
   "source": [
    "# System GMM"
   ]
  },
  {
   "cell_type": "code",
   "execution_count": 15,
   "metadata": {},
   "outputs": [
    {
     "name": "stdout",
     "output_type": "stream",
     "text": [
      " Dynamic panel-data estimation, two-step system GMM\n",
      " Group variable: country                           Number of obs = 2715     \n",
      " Time variable: t                                  Min obs per group: 15    \n",
      " Number of instruments = 127                       Max obs per group: 15    \n",
      " Number of groups = 181                            Avg obs per group: 15.00 \n",
      "+----------------+------------+---------------------+------------+-----------+----+\n",
      "|  onset2COWCS   |   coef.    | Corrected Std. Err. |     z      |   P>|z|   |    |\n",
      "+----------------+------------+---------------------+------------+-----------+----+\n",
      "| L1.onset2COWCS | -0.0145912 |      0.0047019      | -3.1032577 | 0.0019140 | ** |\n",
      "| L2.onset2COWCS | -0.0142497 |      0.0046920      | -3.0369949 | 0.0023895 | ** |\n",
      "|       s6       | 0.0010032  |      0.0057044      | 0.1758659  | 0.8603993 |    |\n",
      "|    ecgrowth    | -0.0744998 |      0.0899269      | -0.8284479 | 0.4074169 |    |\n",
      "|    logpop_M    | 0.2126417  |      0.0871179      | 2.4408513  | 0.0146527 | *  |\n",
      "|   logpopdens   | -0.1490350 |      0.1730009      | -0.8614691 | 0.3889797 |    |\n",
      "|   logoutreg    | 0.0674368  |      0.2000438      | 0.3371103  | 0.7360337 |    |\n",
      "|      _con      | -0.0131254 |      0.0351037      | -0.3739041 | 0.7084757 |    |\n",
      "+----------------+------------+---------------------+------------+-----------+----+\n",
      "Hansen test of overid. restrictions: chi(119) = 146.609 Prob > Chi2 = 0.044\n",
      "Arellano-Bond test for AR(1) in first differences: z = -4.03 Pr > z =0.000\n",
      "Arellano-Bond test for AR(2) in first differences: z = -1.18 Pr > z =0.238\n",
      "\n"
     ]
    },
    {
     "data": {
      "text/plain": [
       "<pydynpd.regression.abond at 0x7fd9ee0a6ef0>"
      ]
     },
     "execution_count": 15,
     "metadata": {},
     "output_type": "execute_result"
    }
   ],
   "source": [
    "## no time dummy, no stationary controls\n",
    "command_str='onset2COWCS L(1:2).onset2COWCS s6 ' + unstationary + ' | gmm(onset2COWCS, 2:4) gmm(s1, 1:3)'\n",
    "regression.abond(command_str, df, ['country', 't'])"
   ]
  },
  {
   "cell_type": "code",
   "execution_count": 16,
   "metadata": {},
   "outputs": [
    {
     "name": "stdout",
     "output_type": "stream",
     "text": [
      " Dynamic panel-data estimation, two-step system GMM\n",
      " Group variable: country                           Number of obs = 2715     \n",
      " Time variable: t                                  Min obs per group: 15    \n",
      " Number of instruments = 133                       Max obs per group: 15    \n",
      " Number of groups = 181                            Avg obs per group: 15.00 \n",
      "+----------------------------+------------+---------------------+------------+-----------+-----+\n",
      "|        onset2COWCS         |   coef.    | Corrected Std. Err. |     z      |   P>|z|   |     |\n",
      "+----------------------------+------------+---------------------+------------+-----------+-----+\n",
      "|       L1.onset2COWCS       | -0.0167309 |      0.0047108      | -3.5516090 | 0.0003829 | *** |\n",
      "|       L2.onset2COWCS       | -0.0166857 |      0.0047981      | -3.4775807 | 0.0005060 | *** |\n",
      "|             s6             | 0.0024890  |      0.0078179      | 0.3183762  | 0.7501996 |     |\n",
      "|          ecgrowth          | -0.0717675 |      0.0872192      | -0.8228408 | 0.4105985 |     |\n",
      "|          logpop_M          | 0.1557366  |      0.1067575      | 1.4587878  | 0.1446235 |     |\n",
      "|         logpopdens         | -0.0457253 |      0.1792821      | -0.2550469 | 0.7986869 |     |\n",
      "|         logoutreg          | 0.0710845  |      0.1972975      | 0.3602910  | 0.7186295 |     |\n",
      "|        logmountain         | 0.0767100  |      0.0391788      | 1.9579479  | 0.0502361 |     |\n",
      "|  ethnic_fractionalization  | 0.2559537  |      0.9089459      | 0.2815939  | 0.7782549 |     |\n",
      "| religion_fractionalization | 0.1784318  |      0.9442224      | 0.1889722  | 0.8501146 |     |\n",
      "| language_fractionalization | 0.5621811  |      0.8236833      | 0.6825210  | 0.4949096 |     |\n",
      "|        leg_british         | 0.2479651  |      0.4621362      | 0.5365628  | 0.5915697 |     |\n",
      "|            opec            | 0.0009760  |      0.0128420      | 0.0759980  | 0.9394207 |     |\n",
      "|            _con            | -0.0176737 |      0.0345190      | -0.5119989 | 0.6086518 |     |\n",
      "+----------------------------+------------+---------------------+------------+-----------+-----+\n",
      "Hansen test of overid. restrictions: chi(119) = 142.947 Prob > Chi2 = 0.067\n",
      "Arellano-Bond test for AR(1) in first differences: z = -4.04 Pr > z =0.000\n",
      "Arellano-Bond test for AR(2) in first differences: z = -1.14 Pr > z =0.254\n",
      "\n"
     ]
    },
    {
     "data": {
      "text/plain": [
       "<pydynpd.regression.abond at 0x7fd9ee1f7c10>"
      ]
     },
     "execution_count": 16,
     "metadata": {},
     "output_type": "execute_result"
    }
   ],
   "source": [
    "## no time dummy, stationary controls\n",
    "command_str='onset2COWCS L(1:2).onset2COWCS s6 ' + unstationary + ' ' + stationary + ' | gmm(onset2COWCS, 2:4) gmm(s1, 1:3)'\n",
    "regression.abond(command_str, df, ['country', 't'])"
   ]
  },
  {
   "cell_type": "code",
   "execution_count": 17,
   "metadata": {},
   "outputs": [
    {
     "name": "stdout",
     "output_type": "stream",
     "text": [
      " Dynamic panel-data estimation, two-step system GMM\n",
      " Group variable: country                           Number of obs = 2715     \n",
      " Time variable: t                                  Min obs per group: 15    \n",
      " Number of instruments = 142                       Max obs per group: 15    \n",
      " Number of groups = 181                            Avg obs per group: 15.00 \n",
      "+----------------+------------+---------------------+------------+-----------+----+\n",
      "|  onset2COWCS   |   coef.    | Corrected Std. Err. |     z      |   P>|z|   |    |\n",
      "+----------------+------------+---------------------+------------+-----------+----+\n",
      "| L1.onset2COWCS | -0.0142249 |      0.0049205      | -2.8909305 | 0.0038410 | ** |\n",
      "| L2.onset2COWCS | -0.0159077 |      0.0054706      | -2.9078739 | 0.0036390 | ** |\n",
      "|       s6       | 0.0197258  |      0.0153067      | 1.2887004  | 0.1975023 |    |\n",
      "|    ecgrowth    | -0.0650394 |      0.0883457      | -0.7361923 | 0.4616137 |    |\n",
      "|    logpop_M    | 0.2112564  |      0.0911889      | 2.3166908  | 0.0205206 | *  |\n",
      "|   logpopdens   | -0.1237746 |      0.1561049      | -0.7928935 | 0.4278399 |    |\n",
      "|   logoutreg    | 0.2131390  |      0.4661824      | 0.4572009  | 0.6475266 |    |\n",
      "|     t_1994     | 0.0051594  |      0.0121430      | 0.4248845  | 0.6709209 |    |\n",
      "|     t_1995     | -0.0034442 |      0.0095072      | -0.3622752 | 0.7171464 |    |\n",
      "|     t_1996     | 0.0079602  |      0.0090452      | 0.8800505  | 0.3788320 |    |\n",
      "|     t_1997     | -0.0025285 |      0.0098804      | -0.2559168 | 0.7980151 |    |\n",
      "|     t_1998     | 0.0176586  |      0.0142052      | 1.2431037  | 0.2138296 |    |\n",
      "|     t_1999     | -0.0050876 |      0.0095255      | -0.5341035 | 0.5932699 |    |\n",
      "|     t_2000     | -0.0014340 |      0.0110199      | -0.1301237 | 0.8964686 |    |\n",
      "|     t_2001     | 0.0030122  |      0.0111814      | 0.2693915  | 0.7876284 |    |\n",
      "|     t_2002     | -0.0087549 |      0.0079702      | -1.0984585 | 0.2720044 |    |\n",
      "|     t_2003     | -0.0037797 |      0.0104298      | -0.3623922 | 0.7170590 |    |\n",
      "|     t_2004     | 0.0016307  |      0.0110285      | 0.1478602  | 0.8824531 |    |\n",
      "|     t_2005     | -0.0062422 |      0.0103763      | -0.6015851 | 0.5474503 |    |\n",
      "|     t_2006     | -0.0064648 |      0.0093673      | -0.6901499 | 0.4900999 |    |\n",
      "|     t_2007     | -0.0081700 |      0.0082953      | -0.9849031 | 0.3246717 |    |\n",
      "|     t_2008     | -0.0114135 |      0.0088433      | -1.2906319 | 0.1968314 |    |\n",
      "|      _con      | -0.0377191 |      0.0810224      | -0.4655398 | 0.6415450 |    |\n",
      "+----------------+------------+---------------------+------------+-----------+----+\n",
      "Hansen test of overid. restrictions: chi(119) = 176.075 Prob > Chi2 = 0.001\n",
      "Arellano-Bond test for AR(1) in first differences: z = -4.09 Pr > z =0.000\n",
      "Arellano-Bond test for AR(2) in first differences: z = -1.16 Pr > z =0.245\n",
      "\n"
     ]
    },
    {
     "data": {
      "text/plain": [
       "<pydynpd.regression.abond at 0x7fd9edef4130>"
      ]
     },
     "execution_count": 17,
     "metadata": {},
     "output_type": "execute_result"
    }
   ],
   "source": [
    "## time dummy, no stationary controls\n",
    "command_str='onset2COWCS L(1:2).onset2COWCS s6 ' + unstationary + ' | gmm(onset2COWCS, 2:4) gmm(s1, 1:3) | timedumm'\n",
    "regression.abond(command_str, df, ['country', 't'])"
   ]
  },
  {
   "cell_type": "code",
   "execution_count": 18,
   "metadata": {},
   "outputs": [
    {
     "name": "stdout",
     "output_type": "stream",
     "text": [
      " Dynamic panel-data estimation, two-step system GMM\n",
      " Group variable: country                           Number of obs = 2715     \n",
      " Time variable: t                                  Min obs per group: 15    \n",
      " Number of instruments = 148                       Max obs per group: 15    \n",
      " Number of groups = 181                            Avg obs per group: 15.00 \n",
      "+----------------------------+------------+---------------------+------------+-----------+-----+\n",
      "|        onset2COWCS         |   coef.    | Corrected Std. Err. |     z      |   P>|z|   |     |\n",
      "+----------------------------+------------+---------------------+------------+-----------+-----+\n",
      "|       L1.onset2COWCS       | -0.0165648 |      0.0049797      | -3.3264837 | 0.0008795 | *** |\n",
      "|       L2.onset2COWCS       | -0.0183011 |      0.0054212      | -3.3758190 | 0.0007360 | *** |\n",
      "|             s6             | 0.0200346  |      0.0153955      | 1.3013217  | 0.1931484 |     |\n",
      "|          ecgrowth          | -0.0642860 |      0.0863185      | -0.7447535 | 0.4564208 |     |\n",
      "|          logpop_M          | 0.1463269  |      0.1123050      | 1.3029417  | 0.1925947 |     |\n",
      "|         logpopdens         | -0.0115548 |      0.1952456      | -0.0591809 | 0.9528080 |     |\n",
      "|         logoutreg          | 0.2498107  |      0.4453782      | 0.5608956  | 0.5748687 |     |\n",
      "|        logmountain         | 0.0787675  |      0.0385777      | 2.0417911  | 0.0411723 |  *  |\n",
      "|  ethnic_fractionalization  | 0.4033984  |      0.8092305      | 0.4984963  | 0.6181343 |     |\n",
      "| religion_fractionalization | -0.0330107 |      1.0145230      | -0.0325381 | 0.9740429 |     |\n",
      "| language_fractionalization | 0.6094629  |      0.8083723      | 0.7539383  | 0.4508863 |     |\n",
      "|        leg_british         | 0.4499836  |      0.4742493      | 0.9488335  | 0.3427053 |     |\n",
      "|            opec            | -0.0000615 |      0.0125390      | -0.0049050 | 0.9960864 |     |\n",
      "|           t_1994           | 0.0049348  |      0.0118047      | 0.4180349  | 0.6759216 |     |\n",
      "|           t_1995           | -0.0034150 |      0.0094312      | -0.3620979 | 0.7172788 |     |\n",
      "|           t_1996           | 0.0078743  |      0.0089957      | 0.8753397  | 0.3813891 |     |\n",
      "|           t_1997           | -0.0024147 |      0.0097200      | -0.2484277 | 0.8038035 |     |\n",
      "|           t_1998           | 0.0174672  |      0.0142251      | 1.2279172  | 0.2194780 |     |\n",
      "|           t_1999           | -0.0054405 |      0.0094050      | -0.5784727 | 0.5629450 |     |\n",
      "|           t_2000           | -0.0012719 |      0.0108174      | -0.1175794 | 0.9064009 |     |\n",
      "|           t_2001           | 0.0033842  |      0.0110688      | 0.3057474  | 0.7597970 |     |\n",
      "|           t_2002           | -0.0087425 |      0.0078603      | -1.1122387 | 0.2660355 |     |\n",
      "|           t_2003           | -0.0038222 |      0.0103885      | -0.3679262 | 0.7129283 |     |\n",
      "|           t_2004           | 0.0011667  |      0.0107634      | 0.1083904  | 0.9136860 |     |\n",
      "|           t_2005           | -0.0069814 |      0.0099971      | -0.6983421 | 0.4849633 |     |\n",
      "|           t_2006           | -0.0063229 |      0.0092660      | -0.6823787 | 0.4949995 |     |\n",
      "|           t_2007           | -0.0083178 |      0.0081999      | -1.0143841 | 0.3103995 |     |\n",
      "|           t_2008           | -0.0119386 |      0.0086148      | -1.3858198 | 0.1658019 |     |\n",
      "|            _con            | -0.0477189 |      0.0773040      | -0.6172880 | 0.5370448 |     |\n",
      "+----------------------------+------------+---------------------+------------+-----------+-----+\n",
      "Hansen test of overid. restrictions: chi(119) = 174.603 Prob > Chi2 = 0.001\n",
      "Arellano-Bond test for AR(1) in first differences: z = -4.09 Pr > z =0.000\n",
      "Arellano-Bond test for AR(2) in first differences: z = -1.13 Pr > z =0.259\n",
      "\n"
     ]
    },
    {
     "data": {
      "text/plain": [
       "<pydynpd.regression.abond at 0x7fd9edef5930>"
      ]
     },
     "execution_count": 18,
     "metadata": {},
     "output_type": "execute_result"
    }
   ],
   "source": [
    "## time dummy, stationary controls\n",
    "command_str='onset2COWCS L(1:2).onset2COWCS s6 ' + unstationary + ' ' + stationary + ' | gmm(onset2COWCS, 2:4) gmm(s1, 1:3) | timedumm'\n",
    "regression.abond(command_str, df, ['country', 't'])"
   ]
  },
  {
   "cell_type": "code",
   "execution_count": null,
   "metadata": {},
   "outputs": [],
   "source": []
  }
 ],
 "metadata": {
  "kernelspec": {
   "display_name": "Python 3 (ipykernel)",
   "language": "python",
   "name": "python3"
  },
  "language_info": {
   "codemirror_mode": {
    "name": "ipython",
    "version": 3
   },
   "file_extension": ".py",
   "mimetype": "text/x-python",
   "name": "python",
   "nbconvert_exporter": "python",
   "pygments_lexer": "ipython3",
   "version": "3.10.9"
  }
 },
 "nbformat": 4,
 "nbformat_minor": 2
}
