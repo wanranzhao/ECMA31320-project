{
 "cells": [
  {
   "cell_type": "code",
   "execution_count": 28,
   "metadata": {},
   "outputs": [],
   "source": [
    "import pandas as pd\n",
    "from pydynpd import regression"
   ]
  },
  {
   "cell_type": "code",
   "execution_count": 29,
   "metadata": {},
   "outputs": [],
   "source": [
    "df = pd.read_csv(\"/Users/zwanran/Desktop/ECMA31320/ECMA31320-project/data/gvcomix_transformed.csv\", na_values= '#DIV/0!')"
   ]
  },
  {
   "cell_type": "code",
   "execution_count": 30,
   "metadata": {},
   "outputs": [],
   "source": [
    "from sklearn.preprocessing import LabelEncoder\n",
    "le = LabelEncoder()\n",
    "label = le.fit_transform(df['country'])\n",
    "df.drop('country', axis=1, inplace=True)\n",
    "df['country'] = label\n",
    "df.fillna(0, inplace=True)"
   ]
  },
  {
   "cell_type": "code",
   "execution_count": 31,
   "metadata": {},
   "outputs": [],
   "source": [
    "unstationary = 'ecgrowth logpop_M logpopdens logoutreg'\n",
    "stationary = 'logmountain ethnic_fractionalization religion_fractionalization language_fractionalization leg_british opec'"
   ]
  },
  {
   "cell_type": "code",
   "execution_count": 63,
   "metadata": {},
   "outputs": [],
   "source": [
    "# command_str='onset2COWCS L(1).onset2COWCS s1 s2 s6 s10 s19 | gmm(onset2COWCS, 2:4) gmm(s1, 1:3) gmm(s2, 1:3) gmm(s6, 1:3) gmm(s10, 1:3) gmm(s19, 1:3) | timedumm  nolevel'\n",
    "# command_str='onset2COWCS L(1:2).onset2COWCS s1 s2 s6 s10 s19 | gmm(onset2COWCS, 2:4) gmm(s1, 1:3) gmm(s2, 1:3) gmm(s6, 1:3) gmm(s10, 1:3) gmm(s19, 1:3) | timedumm  nolevel'"
   ]
  },
  {
   "cell_type": "markdown",
   "metadata": {},
   "source": [
    "# Assumption tests\n",
    "## AR\n",
    "- [x] We expect to reject AR(1) but not AR(2)\n",
    "## Overidentification\n",
    "A suggested rule of thumb is that any p-value between 0.1 and 0.25 should be fine as it is reasonably larger than a significance level of 0.05 and it is reasonably small enough to not suspect severe p-value inflation. In that case, system GMM without time dummy is the best result that we can get."
   ]
  },
  {
   "cell_type": "markdown",
   "metadata": {},
   "source": [
    "# Difference GMM"
   ]
  },
  {
   "cell_type": "code",
   "execution_count": 32,
   "metadata": {},
   "outputs": [
    {
     "name": "stdout",
     "output_type": "stream",
     "text": [
      " Dynamic panel-data estimation, two-step difference GMM\n",
      " Group variable: country                          Number of obs = 2715     \n",
      " Time variable: t                                 Min obs per group: 15    \n",
      " Number of instruments = 93                       Max obs per group: 15    \n",
      " Number of groups = 181                           Avg obs per group: 15.00 \n",
      "+----------------+------------+---------------------+------------+-----------+---+\n",
      "|  onset2COWCS   |   coef.    | Corrected Std. Err. |     z      |   P>|z|   |   |\n",
      "+----------------+------------+---------------------+------------+-----------+---+\n",
      "| L1.onset2COWCS | -0.0619312 |      0.0297096      | -2.0845549 | 0.0371097 | * |\n",
      "| L2.onset2COWCS | -0.0533261 |      0.0264486      | -2.0162176 | 0.0437772 | * |\n",
      "|       s6       | -0.0042725 |      0.0102963      | -0.4149540 | 0.6781755 |   |\n",
      "|    ecgrowth    | -0.0294093 |      0.1201573      | -0.2447569 | 0.8066447 |   |\n",
      "|    logpop_M    | -0.4130736 |      2.5536713      | -0.1617568 | 0.8714974 |   |\n",
      "|   logpopdens   | -0.4130730 |      2.5536673      | -0.1617568 | 0.8714974 |   |\n",
      "|   logoutreg    | 0.1086091  |      0.2518321      | 0.4312759  | 0.6662677 |   |\n",
      "+----------------+------------+---------------------+------------+-----------+---+\n",
      "Hansen test of overid. restrictions: chi(86) = 154.433 Prob > Chi2 = 0.000\n",
      "Arellano-Bond test for AR(1) in first differences: z = -3.99 Pr > z =0.000\n",
      "Arellano-Bond test for AR(2) in first differences: z = -0.64 Pr > z =0.522\n",
      "\n"
     ]
    },
    {
     "data": {
      "text/plain": [
       "<pydynpd.regression.abond at 0x7fd9ef6071f0>"
      ]
     },
     "execution_count": 32,
     "metadata": {},
     "output_type": "execute_result"
    }
   ],
   "source": [
    "## no time dummy, no stationary controls\n",
    "command_str='onset2COWCS L(1:2).onset2COWCS s6 ' + unstationary + ' | gmm(onset2COWCS, 2:4) gmm(s6, 1:3) |  nolevel'\n",
    "regression.abond(command_str, df, ['country', 't'])"
   ]
  },
  {
   "cell_type": "code",
   "execution_count": 33,
   "metadata": {},
   "outputs": [
    {
     "name": "stdout",
     "output_type": "stream",
     "text": [
      " Dynamic panel-data estimation, two-step difference GMM\n",
      " Group variable: country                          Number of obs = 2715     \n",
      " Time variable: t                                 Min obs per group: 15    \n",
      " Number of instruments = 99                       Max obs per group: 15    \n",
      " Number of groups = 181                           Avg obs per group: 15.00 \n",
      "+----------------------------+------------+---------------------+------------+-----------+---+\n",
      "|        onset2COWCS         |   coef.    | Corrected Std. Err. |     z      |   P>|z|   |   |\n",
      "+----------------------------+------------+---------------------+------------+-----------+---+\n",
      "|       L1.onset2COWCS       | -0.0619319 |      0.0297083      | -2.0846627 | 0.0370999 | * |\n",
      "|       L2.onset2COWCS       | -0.0533256 |      0.0264466      | -2.0163542 | 0.0437630 | * |\n",
      "|             s6             | -0.0042690 |      0.0102896      | -0.4148821 | 0.6782282 |   |\n",
      "|          ecgrowth          | -0.0294119 |      0.1201900      | -0.2447114 | 0.8066799 |   |\n",
      "|          logpop_M          | -0.4151840 |      2.5549905      | -0.1624992 | 0.8709127 |   |\n",
      "|         logpopdens         | -0.4151834 |      2.5549863      | -0.1624992 | 0.8709127 |   |\n",
      "|         logoutreg          | 0.1086517  |      0.2518998      | 0.4313292  | 0.6662290 |   |\n",
      "|        logmountain         | 0.0000000  |      0.0000000      |    nan     |    nan    |   |\n",
      "|  ethnic_fractionalization  | 0.0000000  |      0.0000000      |    nan     |    nan    |   |\n",
      "| religion_fractionalization | 0.0000000  |      0.0000000      |    nan     |    nan    |   |\n",
      "| language_fractionalization | 0.0000000  |      0.0000000      |    nan     |    nan    |   |\n",
      "|        leg_british         | 0.0000000  |      0.0000000      |    nan     |    nan    |   |\n",
      "|            opec            | -0.0004434 |      0.0056422      | -0.0785792 | 0.9373673 |   |\n",
      "+----------------------------+------------+---------------------+------------+-----------+---+\n",
      "Hansen test of overid. restrictions: chi(86) = 154.481 Prob > Chi2 = 0.000\n",
      "Arellano-Bond test for AR(1) in first differences: z = -3.99 Pr > z =0.000\n",
      "Arellano-Bond test for AR(2) in first differences: z = -0.64 Pr > z =0.522\n",
      "\n"
     ]
    },
    {
     "data": {
      "text/plain": [
       "<pydynpd.regression.abond at 0x7fd9ef607d90>"
      ]
     },
     "execution_count": 33,
     "metadata": {},
     "output_type": "execute_result"
    }
   ],
   "source": [
    "## no time dummy, stationary controls\n",
    "command_str='onset2COWCS L(1:2).onset2COWCS s6 ' + unstationary + ' ' + stationary + ' | gmm(onset2COWCS, 2:4) gmm(s6, 1:3) |  nolevel'\n",
    "regression.abond(command_str, df, ['country', 't'])"
   ]
  },
  {
   "cell_type": "code",
   "execution_count": 34,
   "metadata": {},
   "outputs": [
    {
     "name": "stdout",
     "output_type": "stream",
     "text": [
      " Dynamic panel-data estimation, two-step difference GMM\n",
      " Group variable: country                           Number of obs = 2715     \n",
      " Time variable: t                                  Min obs per group: 15    \n",
      " Number of instruments = 108                       Max obs per group: 15    \n",
      " Number of groups = 181                            Avg obs per group: 15.00 \n",
      "+----------------+------------+---------------------+------------+-----------+---+\n",
      "|  onset2COWCS   |   coef.    | Corrected Std. Err. |     z      |   P>|z|   |   |\n",
      "+----------------+------------+---------------------+------------+-----------+---+\n",
      "| L1.onset2COWCS | -0.0626576 |      0.0299698      | -2.0906908 | 0.0365558 | * |\n",
      "| L2.onset2COWCS | -0.0550443 |      0.0270997      | -2.0311786 | 0.0422369 | * |\n",
      "|       s6       | 0.0002328  |      0.0098483      | 0.0236362  | 0.9811428 |   |\n",
      "|    ecgrowth    | -0.0304394 |      0.1188900      | -0.2560301 | 0.7979276 |   |\n",
      "|    logpop_M    | -1.8544365 |      4.8947780      | -0.3788602 | 0.7047917 |   |\n",
      "|   logpopdens   | -1.8544370 |      4.8947794      | -0.3788602 | 0.7047917 |   |\n",
      "|   logoutreg    | 0.1642727  |      0.5238076      | 0.3136126  | 0.7538153 |   |\n",
      "|     t_1994     | 0.0044997  |      0.0120966      | 0.3719817  | 0.7099065 |   |\n",
      "|     t_1995     | -0.0044957 |      0.0102831      | -0.4371953 | 0.6619697 |   |\n",
      "|     t_1996     | 0.0070261  |      0.0093432      | 0.7520019  | 0.4520499 |   |\n",
      "|     t_1997     | -0.0030525 |      0.0120466      | -0.2533936 | 0.7999641 |   |\n",
      "|     t_1998     | 0.0180831  |      0.0146502      | 1.2343260  | 0.2170814 |   |\n",
      "|     t_1999     | -0.0032818 |      0.0119567      | -0.2744760 | 0.7837189 |   |\n",
      "|     t_2000     | -0.0004830 |      0.0152661      | -0.0316374 | 0.9747612 |   |\n",
      "|     t_2001     | 0.0039445  |      0.0138003      | 0.2858286  | 0.7750094 |   |\n",
      "|     t_2002     | -0.0070374 |      0.0140502      | -0.5008760 | 0.6164584 |   |\n",
      "|     t_2003     | -0.0017278 |      0.0186200      | -0.0927940 | 0.9260672 |   |\n",
      "|     t_2004     | 0.0035202  |      0.0168301      | 0.2091625  | 0.8343214 |   |\n",
      "|     t_2005     | -0.0027194 |      0.0171748      | -0.1583366 | 0.8741916 |   |\n",
      "|     t_2006     | -0.0038664 |      0.0208998      | -0.1849952 | 0.8532328 |   |\n",
      "|     t_2007     | -0.0052852 |      0.0208033      | -0.2540568 | 0.7994516 |   |\n",
      "|     t_2008     | -0.0074426 |      0.0201823      | -0.3687706 | 0.7122988 |   |\n",
      "+----------------+------------+---------------------+------------+-----------+---+\n",
      "Hansen test of overid. restrictions: chi(86) = 179.987 Prob > Chi2 = 0.000\n",
      "Arellano-Bond test for AR(1) in first differences: z = -4.04 Pr > z =0.000\n",
      "Arellano-Bond test for AR(2) in first differences: z = -0.65 Pr > z =0.518\n",
      "\n"
     ]
    },
    {
     "data": {
      "text/plain": [
       "<pydynpd.regression.abond at 0x7fd9ef6ba350>"
      ]
     },
     "execution_count": 34,
     "metadata": {},
     "output_type": "execute_result"
    }
   ],
   "source": [
    "## time dummy, no stationary controls\n",
    "command_str='onset2COWCS L(1:2).onset2COWCS s6 ' + unstationary + ' | gmm(onset2COWCS, 2:4) gmm(s6, 1:3) | timedumm  nolevel'\n",
    "regression.abond(command_str, df, ['country', 't'])"
   ]
  },
  {
   "cell_type": "code",
   "execution_count": 35,
   "metadata": {},
   "outputs": [
    {
     "name": "stdout",
     "output_type": "stream",
     "text": [
      " Dynamic panel-data estimation, two-step difference GMM\n",
      " Group variable: country                           Number of obs = 2715     \n",
      " Time variable: t                                  Min obs per group: 15    \n",
      " Number of instruments = 114                       Max obs per group: 15    \n",
      " Number of groups = 181                            Avg obs per group: 15.00 \n",
      "+----------------------------+------------+---------------------+------------+-----------+---+\n",
      "|        onset2COWCS         |   coef.    | Corrected Std. Err. |     z      |   P>|z|   |   |\n",
      "+----------------------------+------------+---------------------+------------+-----------+---+\n",
      "|       L1.onset2COWCS       | -0.0626708 |      0.0299707      | -2.0910678 | 0.0365220 | * |\n",
      "|       L2.onset2COWCS       | -0.0550546 |      0.0271001      | -2.0315268 | 0.0422016 | * |\n",
      "|             s6             | 0.0002480  |      0.0098340      | 0.0252209  | 0.9798788 |   |\n",
      "|          ecgrowth          | -0.0304561 |      0.1188741      | -0.2562048 | 0.7977927 |   |\n",
      "|          logpop_M          | -1.8615439 |      4.8892093      | -0.3807454 | 0.7033922 |   |\n",
      "|         logpopdens         | -1.8615581 |      4.8892464      | -0.3807454 | 0.7033922 |   |\n",
      "|         logoutreg          | 0.1644087  |      0.5241085      | 0.3136921  | 0.7537549 |   |\n",
      "|        logmountain         | 0.0000000  |      0.0000000      | 0.4096853  | 0.6820368 |   |\n",
      "|  ethnic_fractionalization  | 0.0000000  |      0.0000000      | 0.3056264  | 0.7598891 |   |\n",
      "| religion_fractionalization | -0.0000000 |      0.0000000      | -0.3811685 | 0.7030782 |   |\n",
      "| language_fractionalization | 0.0000000  |      0.0000000      | 0.3601806  | 0.7187120 |   |\n",
      "|        leg_british         | -0.0000000 |      0.0000000      | -0.3451014 | 0.7300181 |   |\n",
      "|            opec            | -0.0075136 |      0.0152222      | -0.4935936 | 0.6215932 |   |\n",
      "|           t_1994           | 0.0045012  |      0.0120963      | 0.3721120  | 0.7098094 |   |\n",
      "|           t_1995           | -0.0045287 |      0.0102609      | -0.4413522 | 0.6589580 |   |\n",
      "|           t_1996           | 0.0069959  |      0.0093120      | 0.7512842  | 0.4524817 |   |\n",
      "|           t_1997           | -0.0030825 |      0.0120124      | -0.2566087 | 0.7974809 |   |\n",
      "|           t_1998           | 0.0180550  |      0.0146121      | 1.2356209  | 0.2165995 |   |\n",
      "|           t_1999           | -0.0033096 |      0.0119144      | -0.2777781 | 0.7811827 |   |\n",
      "|           t_2000           | -0.0005066 |      0.0152320      | -0.0332599 | 0.9734673 |   |\n",
      "|           t_2001           | 0.0039215  |      0.0137615      | 0.2849650  | 0.7756709 |   |\n",
      "|           t_2002           | -0.0070595 |      0.0140091      | -0.5039205 | 0.6143173 |   |\n",
      "|           t_2003           | -0.0017494 |      0.0185750      | -0.0941809 | 0.9249655 |   |\n",
      "|           t_2004           | 0.0034990  |      0.0167962      | 0.2083223  | 0.8349773 |   |\n",
      "|           t_2005           | -0.0027400 |      0.0171380      | -0.1598780 | 0.8729772 |   |\n",
      "|           t_2006           | -0.0038825 |      0.0208652      | -0.1860763 | 0.8523849 |   |\n",
      "|           t_2007           | -0.0053011 |      0.0207681      | -0.2552531 | 0.7985276 |   |\n",
      "|           t_2008           | -0.0074594 |      0.0201476      | -0.3702372 | 0.7112058 |   |\n",
      "+----------------------------+------------+---------------------+------------+-----------+---+\n",
      "Hansen test of overid. restrictions: chi(86) = 179.986 Prob > Chi2 = 0.000\n",
      "Arellano-Bond test for AR(1) in first differences: z = -4.04 Pr > z =0.000\n",
      "Arellano-Bond test for AR(2) in first differences: z = -0.65 Pr > z =0.519\n",
      "\n"
     ]
    },
    {
     "data": {
      "text/plain": [
       "<pydynpd.regression.abond at 0x7fd9ef6ba530>"
      ]
     },
     "execution_count": 35,
     "metadata": {},
     "output_type": "execute_result"
    }
   ],
   "source": [
    "## time dummy, stationary controls\n",
    "command_str='onset2COWCS L(1:2).onset2COWCS s6 ' + unstationary + ' ' + stationary + ' | gmm(onset2COWCS, 2:4) gmm(s6, 1:3) | timedumm nolevel'\n",
    "regression.abond(command_str, df, ['country', 't'])"
   ]
  },
  {
   "cell_type": "markdown",
   "metadata": {},
   "source": [
    "# System GMM"
   ]
  },
  {
   "cell_type": "code",
   "execution_count": 36,
   "metadata": {},
   "outputs": [
    {
     "name": "stdout",
     "output_type": "stream",
     "text": [
      " Dynamic panel-data estimation, two-step system GMM\n",
      " Group variable: country                           Number of obs = 2715     \n",
      " Time variable: t                                  Min obs per group: 15    \n",
      " Number of instruments = 126                       Max obs per group: 15    \n",
      " Number of groups = 181                            Avg obs per group: 15.00 \n",
      "+----------------+------------+---------------------+------------+-----------+----+\n",
      "|  onset2COWCS   |   coef.    | Corrected Std. Err. |     z      |   P>|z|   |    |\n",
      "+----------------+------------+---------------------+------------+-----------+----+\n",
      "| L1.onset2COWCS | -0.0143792 |      0.0045290      | -3.1748940 | 0.0014989 | ** |\n",
      "| L2.onset2COWCS | -0.0141699 |      0.0047631      | -2.9749277 | 0.0029306 | ** |\n",
      "|       s6       | 0.0046265  |      0.0053841      | 0.8592815  | 0.3901852 |    |\n",
      "|    ecgrowth    | -0.0700774 |      0.0877452      | -0.7986465 | 0.4244954 |    |\n",
      "|    logpop_M    | 0.2124114  |      0.0852755      | 2.4908851  | 0.0127425 | *  |\n",
      "|   logpopdens   | -0.1360643 |      0.1464542      | -0.9290567 | 0.3528597 |    |\n",
      "|   logoutreg    | 0.0533767  |      0.1908070      | 0.2797418  | 0.7796756 |    |\n",
      "|      _con      | -0.0112930 |      0.0332623      | -0.3395147 | 0.7342220 |    |\n",
      "+----------------+------------+---------------------+------------+-----------+----+\n",
      "Hansen test of overid. restrictions: chi(118) = 147.990 Prob > Chi2 = 0.032\n",
      "Arellano-Bond test for AR(1) in first differences: z = -4.04 Pr > z =0.000\n",
      "Arellano-Bond test for AR(2) in first differences: z = -1.18 Pr > z =0.238\n",
      "\n"
     ]
    },
    {
     "data": {
      "text/plain": [
       "<pydynpd.regression.abond at 0x7fd9ef6ba4d0>"
      ]
     },
     "execution_count": 36,
     "metadata": {},
     "output_type": "execute_result"
    }
   ],
   "source": [
    "## no time dummy, no stationary controls\n",
    "command_str='onset2COWCS L(1:2).onset2COWCS s6 ' + unstationary + ' | gmm(onset2COWCS, 2:4) gmm(s6, 1:3)'\n",
    "regression.abond(command_str, df, ['country', 't'])"
   ]
  },
  {
   "cell_type": "code",
   "execution_count": 37,
   "metadata": {},
   "outputs": [
    {
     "name": "stdout",
     "output_type": "stream",
     "text": [
      " Dynamic panel-data estimation, two-step system GMM\n",
      " Group variable: country                           Number of obs = 2715     \n",
      " Time variable: t                                  Min obs per group: 15    \n",
      " Number of instruments = 132                       Max obs per group: 15    \n",
      " Number of groups = 181                            Avg obs per group: 15.00 \n",
      "+----------------------------+------------+---------------------+------------+-----------+-----+\n",
      "|        onset2COWCS         |   coef.    | Corrected Std. Err. |     z      |   P>|z|   |     |\n",
      "+----------------------------+------------+---------------------+------------+-----------+-----+\n",
      "|       L1.onset2COWCS       | -0.0163379 |      0.0043127      | -3.7883695 | 0.0001516 | *** |\n",
      "|       L2.onset2COWCS       | -0.0164544 |      0.0046544      | -3.5352416 | 0.0004074 | *** |\n",
      "|             s6             | 0.0033955  |      0.0059283      | 0.5727683  | 0.5668016 |     |\n",
      "|          ecgrowth          | -0.0640110 |      0.0783601      | -0.8168827 | 0.4139955 |     |\n",
      "|          logpop_M          | 0.1544151  |      0.1057925      | 1.4596039  | 0.1443990 |     |\n",
      "|         logpopdens         | -0.0395591 |      0.1836529      | -0.2154015 | 0.8294543 |     |\n",
      "|         logoutreg          | 0.0469948  |      0.1888672      | 0.2488248  | 0.8034963 |     |\n",
      "|        logmountain         | 0.0811086  |      0.0402713      | 2.0140552  | 0.0440037 |  *  |\n",
      "|  ethnic_fractionalization  | 0.3507515  |      0.8765315      | 0.4001584  | 0.6890398 |     |\n",
      "| religion_fractionalization | 0.1526661  |      0.7667628      | 0.1991047  | 0.8421809 |     |\n",
      "| language_fractionalization | 0.4637843  |      0.9560532      | 0.4851030  | 0.6276033 |     |\n",
      "|        leg_british         | 0.2839877  |      0.3841997      | 0.7391668  | 0.4598057 |     |\n",
      "|            opec            | 0.0009842  |      0.0126096      | 0.0780481  | 0.9377898 |     |\n",
      "|            _con            | -0.0143452 |      0.0337329      | -0.4252584 | 0.6706483 |     |\n",
      "+----------------------------+------------+---------------------+------------+-----------+-----+\n",
      "Hansen test of overid. restrictions: chi(118) = 131.038 Prob > Chi2 = 0.194\n",
      "Arellano-Bond test for AR(1) in first differences: z = -4.04 Pr > z =0.000\n",
      "Arellano-Bond test for AR(2) in first differences: z = -1.14 Pr > z =0.253\n",
      "\n"
     ]
    },
    {
     "data": {
      "text/plain": [
       "<pydynpd.regression.abond at 0x7fd9ef6c5600>"
      ]
     },
     "execution_count": 37,
     "metadata": {},
     "output_type": "execute_result"
    }
   ],
   "source": [
    "## no time dummy, stationary controls\n",
    "command_str='onset2COWCS L(1:2).onset2COWCS s6 ' + unstationary + ' ' + stationary + ' | gmm(onset2COWCS, 2:4) gmm(s6, 1:3)'\n",
    "regression.abond(command_str, df, ['country', 't'])"
   ]
  },
  {
   "cell_type": "code",
   "execution_count": 38,
   "metadata": {},
   "outputs": [
    {
     "name": "stdout",
     "output_type": "stream",
     "text": [
      " Dynamic panel-data estimation, two-step system GMM\n",
      " Group variable: country                           Number of obs = 2715     \n",
      " Time variable: t                                  Min obs per group: 15    \n",
      " Number of instruments = 141                       Max obs per group: 15    \n",
      " Number of groups = 181                            Avg obs per group: 15.00 \n",
      "+----------------+------------+---------------------+------------+-----------+----+\n",
      "|  onset2COWCS   |   coef.    | Corrected Std. Err. |     z      |   P>|z|   |    |\n",
      "+----------------+------------+---------------------+------------+-----------+----+\n",
      "| L1.onset2COWCS | -0.0141448 |      0.0048868      | -2.8945184 | 0.0037974 | ** |\n",
      "| L2.onset2COWCS | -0.0158712 |      0.0053739      | -2.9534025 | 0.0031429 | ** |\n",
      "|       s6       | 0.0091576  |      0.0085061      | 1.0765908  | 0.2816631 |    |\n",
      "|    ecgrowth    | -0.0637377 |      0.0878266      | -0.7257213 | 0.4680096 |    |\n",
      "|    logpop_M    | 0.2099283  |      0.0865477      | 2.4255794  | 0.0152840 | *  |\n",
      "|   logpopdens   | -0.1186782 |      0.1500630      | -0.7908559 | 0.4290281 |    |\n",
      "|   logoutreg    | 0.1256986  |      0.4713820      | 0.2666597  | 0.7897312 |    |\n",
      "|     t_1994     | 0.0052033  |      0.0122257      | 0.4256026  | 0.6703974 |    |\n",
      "|     t_1995     | -0.0038969 |      0.0095397      | -0.4084951 | 0.6829102 |    |\n",
      "|     t_1996     | 0.0074618  |      0.0089408      | 0.8345763  | 0.4039563 |    |\n",
      "|     t_1997     | -0.0031673 |      0.0097791      | -0.3238895 | 0.7460217 |    |\n",
      "|     t_1998     | 0.0176292  |      0.0142348      | 1.2384597  | 0.2155457 |    |\n",
      "|     t_1999     | -0.0048639 |      0.0095591      | -0.5088195 | 0.6108787 |    |\n",
      "|     t_2000     | -0.0024884 |      0.0109744      | -0.2267488 | 0.8206191 |    |\n",
      "|     t_2001     | 0.0019891  |      0.0110455      | 0.1800848  | 0.8570860 |    |\n",
      "|     t_2002     | -0.0093205 |      0.0078074      | -1.1938042 | 0.2325546 |    |\n",
      "|     t_2003     | -0.0041901 |      0.0102786      | -0.4076526 | 0.6835288 |    |\n",
      "|     t_2004     | 0.0019007  |      0.0110002      | 0.1727857  | 0.8628199 |    |\n",
      "|     t_2005     | -0.0051177 |      0.0104081      | -0.4917029 | 0.6229294 |    |\n",
      "|     t_2006     | -0.0074523 |      0.0092060      | -0.8095099 | 0.4182219 |    |\n",
      "|     t_2007     | -0.0085226 |      0.0080903      | -1.0534351 | 0.2921416 |    |\n",
      "|     t_2008     | -0.0108327 |      0.0087655      | -1.2358345 | 0.2165201 |    |\n",
      "|      _con      | -0.0226802 |      0.0819270      | -0.2768346 | 0.7819071 |    |\n",
      "+----------------+------------+---------------------+------------+-----------+----+\n",
      "Hansen test of overid. restrictions: chi(118) = 176.791 Prob > Chi2 = 0.000\n",
      "Arellano-Bond test for AR(1) in first differences: z = -4.09 Pr > z =0.000\n",
      "Arellano-Bond test for AR(2) in first differences: z = -1.16 Pr > z =0.245\n",
      "\n"
     ]
    },
    {
     "data": {
      "text/plain": [
       "<pydynpd.regression.abond at 0x7fd9ef6c64d0>"
      ]
     },
     "execution_count": 38,
     "metadata": {},
     "output_type": "execute_result"
    }
   ],
   "source": [
    "## time dummy, no stationary controls\n",
    "command_str='onset2COWCS L(1:2).onset2COWCS s6 ' + unstationary + ' | gmm(onset2COWCS, 2:4) gmm(s6, 1:3) | timedumm'\n",
    "regression.abond(command_str, df, ['country', 't'])"
   ]
  },
  {
   "cell_type": "code",
   "execution_count": 39,
   "metadata": {},
   "outputs": [
    {
     "name": "stdout",
     "output_type": "stream",
     "text": [
      " Dynamic panel-data estimation, two-step system GMM\n",
      " Group variable: country                           Number of obs = 2715     \n",
      " Time variable: t                                  Min obs per group: 15    \n",
      " Number of instruments = 147                       Max obs per group: 15    \n",
      " Number of groups = 181                            Avg obs per group: 15.00 \n",
      "+----------------------------+------------+---------------------+------------+-----------+-----+\n",
      "|        onset2COWCS         |   coef.    | Corrected Std. Err. |     z      |   P>|z|   |     |\n",
      "+----------------------------+------------+---------------------+------------+-----------+-----+\n",
      "|       L1.onset2COWCS       | -0.0162966 |      0.0047150      | -3.4563225 | 0.0005476 | *** |\n",
      "|       L2.onset2COWCS       | -0.0182388 |      0.0053381      | -3.4167123 | 0.0006338 | *** |\n",
      "|             s6             | 0.0078603  |      0.0090080      | 0.8725958  | 0.3828835 |     |\n",
      "|          ecgrowth          | -0.0607771 |      0.0834811      | -0.7280336 | 0.4665930 |     |\n",
      "|          logpop_M          | 0.1316043  |      0.1069782      | 1.2301983  | 0.2186229 |     |\n",
      "|         logpopdens         | 0.0153658  |      0.1936050      | 0.0793669  | 0.9367408 |     |\n",
      "|         logoutreg          | 0.1045305  |      0.4520135      | 0.2312552  | 0.8171165 |     |\n",
      "|        logmountain         | 0.0756613  |      0.0380724      | 1.9872991  | 0.0468893 |  *  |\n",
      "|  ethnic_fractionalization  | 0.5580480  |      0.8455287      | 0.6599989  | 0.5092546 |     |\n",
      "| religion_fractionalization | -0.2959312 |      1.0141890      | -0.2917910 | 0.7704464 |     |\n",
      "| language_fractionalization | 0.5700159  |      0.8260504      | 0.6900498  | 0.4901629 |     |\n",
      "|        leg_british         | 0.4100293  |      0.4252868      | 0.9641242  | 0.3349837 |     |\n",
      "|            opec            | -0.0005475 |      0.0127596      | -0.0429080 | 0.9657749 |     |\n",
      "|           t_1994           | 0.0052907  |      0.0120928      | 0.4375106  | 0.6617411 |     |\n",
      "|           t_1995           | -0.0040045 |      0.0095133      | -0.4209336 | 0.6738036 |     |\n",
      "|           t_1996           | 0.0072291  |      0.0089023      | 0.8120496  | 0.4167632 |     |\n",
      "|           t_1997           | -0.0034265 |      0.0096845      | -0.3538078 | 0.7234829 |     |\n",
      "|           t_1998           | 0.0172749  |      0.0142051      | 1.2161036  | 0.2239454 |     |\n",
      "|           t_1999           | -0.0049029 |      0.0094141      | -0.5208075 | 0.6025009 |     |\n",
      "|           t_2000           | -0.0028056 |      0.0109345      | -0.2565860 | 0.7974984 |     |\n",
      "|           t_2001           | 0.0016092  |      0.0110132      | 0.1461139  | 0.8838315 |     |\n",
      "|           t_2002           | -0.0095471 |      0.0077844      | -1.2264414 | 0.2200326 |     |\n",
      "|           t_2003           | -0.0043845 |      0.0100808      | -0.4349370 | 0.6636081 |     |\n",
      "|           t_2004           | 0.0017663  |      0.0107689      | 0.1640215  | 0.8697142 |     |\n",
      "|           t_2005           | -0.0050373 |      0.0100359      | -0.5019255 | 0.6157199 |     |\n",
      "|           t_2006           | -0.0078504 |      0.0091072      | -0.8619953 | 0.3886901 |     |\n",
      "|           t_2007           | -0.0088169 |      0.0079969      | -1.1025425 | 0.2702259 |     |\n",
      "|           t_2008           | -0.0108536 |      0.0084855      | -1.2790733 | 0.2008712 |     |\n",
      "|            _con            | -0.0215896 |      0.0780802      | -0.2765055 | 0.7821599 |     |\n",
      "+----------------------------+------------+---------------------+------------+-----------+-----+\n",
      "Hansen test of overid. restrictions: chi(118) = 175.017 Prob > Chi2 = 0.001\n",
      "Arellano-Bond test for AR(1) in first differences: z = -4.09 Pr > z =0.000\n",
      "Arellano-Bond test for AR(2) in first differences: z = -1.13 Pr > z =0.260\n",
      "\n"
     ]
    },
    {
     "data": {
      "text/plain": [
       "<pydynpd.regression.abond at 0x7fd9ef6d9360>"
      ]
     },
     "execution_count": 39,
     "metadata": {},
     "output_type": "execute_result"
    }
   ],
   "source": [
    "## time dummy, stationary controls\n",
    "command_str='onset2COWCS L(1:2).onset2COWCS s6 ' + unstationary + ' ' + stationary + ' | gmm(onset2COWCS, 2:4) gmm(s6, 1:3) | timedumm'\n",
    "regression.abond(command_str, df, ['country', 't'])"
   ]
  },
  {
   "cell_type": "code",
   "execution_count": null,
   "metadata": {},
   "outputs": [],
   "source": []
  }
 ],
 "metadata": {
  "kernelspec": {
   "display_name": "Python 3 (ipykernel)",
   "language": "python",
   "name": "python3"
  },
  "language_info": {
   "codemirror_mode": {
    "name": "ipython",
    "version": 3
   },
   "file_extension": ".py",
   "mimetype": "text/x-python",
   "name": "python",
   "nbconvert_exporter": "python",
   "pygments_lexer": "ipython3",
   "version": "3.10.9"
  }
 },
 "nbformat": 4,
 "nbformat_minor": 2
}
