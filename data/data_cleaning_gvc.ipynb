{
  "cells": [
    {
      "cell_type": "code",
      "execution_count": 3,
      "metadata": {},
      "outputs": [
        {
          "name": "stdout",
          "output_type": "stream",
          "text": [
            "^C\n",
            "Note: you may need to restart the kernel to use updated packages.\n"
          ]
        },
        {
          "name": "stdout",
          "output_type": "stream",
          "text": [
            "Collecting pandas\n",
            "  Downloading pandas-2.0.1-cp310-cp310-win_amd64.whl (10.7 MB)\n",
            "     ---------------------------------------- 0.0/10.7 MB ? eta -:--:--\n",
            "     - -------------------------------------- 0.3/10.7 MB 5.9 MB/s eta 0:00:02\n",
            "     -- ------------------------------------- 0.8/10.7 MB 8.0 MB/s eta 0:00:02\n",
            "     ----- ---------------------------------- 1.4/10.7 MB 9.9 MB/s eta 0:00:01\n",
            "     -------- ------------------------------- 2.2/10.7 MB 10.8 MB/s eta 0:00:01\n",
            "     ---------- ----------------------------- 2.9/10.7 MB 11.0 MB/s eta 0:00:01\n",
            "     ------------- -------------------------- 3.6/10.7 MB 12.2 MB/s eta 0:00:01\n",
            "     ---------------- ----------------------- 4.4/10.7 MB 12.8 MB/s eta 0:00:01\n",
            "     ------------------- -------------------- 5.2/10.7 MB 12.8 MB/s eta 0:00:01\n",
            "     -------------------- ------------------- 5.4/10.7 MB 11.8 MB/s eta 0:00:01\n",
            "     ---------------------- ----------------- 6.1/10.7 MB 12.1 MB/s eta 0:00:01\n",
            "     -------------------------- ------------- 7.0/10.7 MB 12.7 MB/s eta 0:00:01\n",
            "     ----------------------------- ---------- 7.8/10.7 MB 13.1 MB/s eta 0:00:01\n",
            "     ------------------------------- -------- 8.5/10.7 MB 13.0 MB/s eta 0:00:01\n",
            "     ----------------------------------- ---- 9.5/10.7 MB 13.4 MB/s eta 0:00:01\n",
            "     --------------------------------------  10.4/10.7 MB 13.9 MB/s eta 0:00:01\n",
            "     --------------------------------------  10.6/10.7 MB 14.2 MB/s eta 0:00:01\n",
            "     --------------------------------------  10.6/10.7 MB 14.2 MB/s eta 0:00:01\n",
            "     --------------------------------------  10.6/10.7 MB 14.2 MB/s eta 0:00:01\n",
            "     --------------------------------------- 10.7/10.7 MB 11.5 MB/s eta 0:00:00\n",
            "Requirement already satisfied: numpy>=1.21.0 in c:\\users\\yezon\\appdata\\local\\packages\\pythonsoftwarefoundation.python.3.10_qbz5n2kfra8p0\\localcache\\local-packages\\python310\\site-packages (from pandas) (1.23.1)\n",
            "Collecting pytz>=2020.1\n",
            "  Using cached pytz-2023.3-py2.py3-none-any.whl (502 kB)\n",
            "Collecting tzdata>=2022.1\n",
            "  Using cached tzdata-2023.3-py2.py3-none-any.whl (341 kB)\n",
            "Requirement already satisfied: python-dateutil>=2.8.2 in c:\\users\\yezon\\appdata\\local\\packages\\pythonsoftwarefoundation.python.3.10_qbz5n2kfra8p0\\localcache\\local-packages\\python310\\site-packages (from pandas) (2.8.2)\n",
            "Requirement already satisfied: six>=1.5 in c:\\users\\yezon\\appdata\\local\\packages\\pythonsoftwarefoundation.python.3.10_qbz5n2kfra8p0\\localcache\\local-packages\\python310\\site-packages (from python-dateutil>=2.8.2->pandas) (1.16.0)\n",
            "Installing collected packages: pytz, tzdata, pandas\n",
            "Successfully installed pandas-2.0.1 pytz-2023.3 tzdata-2023.3\n"
          ]
        },
        {
          "name": "stderr",
          "output_type": "stream",
          "text": [
            "\n",
            "[notice] A new release of pip is available: 23.0.1 -> 23.1.2\n",
            "[notice] To update, run: C:\\Users\\yezon\\AppData\\Local\\Microsoft\\WindowsApps\\PythonSoftwareFoundation.Python.3.10_qbz5n2kfra8p0\\python.exe -m pip install --upgrade pip\n"
          ]
        }
      ],
      "source": [
        "pip install pandas"
      ]
    },
    {
      "cell_type": "code",
      "execution_count": 5,
      "metadata": {
        "colab": {
          "base_uri": "https://localhost:8080/",
          "height": 156
        },
        "id": "Daevheno7IvU",
        "outputId": "6f841d07-3c41-41a9-8646-0e2afb31af8f"
      },
      "outputs": [],
      "source": [
        "\n",
        "import pandas as pd\n",
        "import io\n",
        "\n",
        "df = pd.read_csv('gvc_output_WITS.csv')\n",
        "\n",
        "# Filter data for sector codes of interest\n",
        "sectors_of_interest = [1, 2, 6, 10]\n",
        "filtered_df = df[df['sect'].isin(sectors_of_interest)]\n",
        "\n",
        "# Sort data by year for each country\n",
        "sorted_df = filtered_df.sort_values(['country', 't'], ascending=[True, True])\n",
        "\n",
        "# Save the filtered and sorted data to a new .csv file\n",
        "output_file_path = 'GVC_cleaned.csv'\n",
        "sorted_df.to_csv(output_file_path, index=False)\n"
      ]
    },
    {
      "cell_type": "code",
      "execution_count": 6,
      "metadata": {
        "colab": {
          "base_uri": "https://localhost:8080/",
          "height": 17
        },
        "id": "GvKLN9fS9944",
        "outputId": "0b05033f-d6e5-45e6-b1e0-4efc69865b96"
      },
      "outputs": [],
      "source": [
        "columns_to_diff = ['outp', 'outpd', 'outptt', 'gvco', 'gvcobp', 'gvcofp', 'gvcomix']\n",
        "\n",
        "# Read the combined file containing data for all the sectors\n",
        "file_path = 'GVC_cleaned.csv'\n",
        "combined_df = pd.read_csv(file_path)\n",
        "\n",
        "# Group by country and sector, and calculate year-on-year differences\n",
        "combined_diff = combined_df.groupby(['country', 'sect'])[columns_to_diff].diff()\n",
        "\n",
        "# Add the year-on-year differences as new columns in the original combined DataFrame\n",
        "for column in columns_to_diff:\n",
        "    combined_df[f'{column}_diff'] = combined_diff[column]\n",
        "\n",
        "# Save the combined DataFrame with year-on-year differences to a .csv file\n",
        "output_file_path = 'GVC_year_on_year_differences.csv'\n",
        "combined_df.to_csv(output_file_path, index=False)"
      ]
    }
  ],
  "metadata": {
    "colab": {
      "provenance": []
    },
    "kernelspec": {
      "display_name": "Python 3",
      "name": "python3"
    },
    "language_info": {
      "codemirror_mode": {
        "name": "ipython",
        "version": 3
      },
      "file_extension": ".py",
      "mimetype": "text/x-python",
      "name": "python",
      "nbconvert_exporter": "python",
      "pygments_lexer": "ipython3",
      "version": "3.10.11"
    }
  },
  "nbformat": 4,
  "nbformat_minor": 0
}
