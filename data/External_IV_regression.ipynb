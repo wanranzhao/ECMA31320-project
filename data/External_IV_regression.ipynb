{
 "cells": [
  {
   "cell_type": "code",
   "execution_count": 17,
   "metadata": {},
   "outputs": [
    {
     "name": "stderr",
     "output_type": "stream",
     "text": [
      "C:\\Users\\yezon\\AppData\\Local\\Temp\\ipykernel_6784\\495433340.py:11: SettingWithCopyWarning: \n",
      "A value is trying to be set on a copy of a slice from a DataFrame.\n",
      "Try using .loc[row_indexer,col_indexer] = value instead\n",
      "\n",
      "See the caveats in the documentation: https://pandas.pydata.org/pandas-docs/stable/user_guide/indexing.html#returning-a-view-versus-a-copy\n",
      "  X['const'] = 1  # Add a constant term\n"
     ]
    },
    {
     "ename": "ValueError",
     "evalue": "The number of instruments (2689) must be at least as large as the number of endogenous regressors (10752).",
     "output_type": "error",
     "traceback": [
      "\u001b[1;31m---------------------------------------------------------------------------\u001b[0m",
      "\u001b[1;31mValueError\u001b[0m                                Traceback (most recent call last)",
      "Cell \u001b[1;32mIn[17], line 15\u001b[0m\n\u001b[0;32m     12\u001b[0m y \u001b[39m=\u001b[39m df[\u001b[39m'\u001b[39m\u001b[39monset2COWCS\u001b[39m\u001b[39m'\u001b[39m]\n\u001b[0;32m     13\u001b[0m instrument \u001b[39m=\u001b[39m df[\u001b[39m'\u001b[39m\u001b[39ms19\u001b[39m\u001b[39m'\u001b[39m]\n\u001b[1;32m---> 15\u001b[0m model \u001b[39m=\u001b[39m IV2SLS(dependent\u001b[39m=\u001b[39;49my, exog\u001b[39m=\u001b[39;49m\u001b[39mNone\u001b[39;49;00m, endog\u001b[39m=\u001b[39;49mX, instruments\u001b[39m=\u001b[39;49minstrument)\n\u001b[0;32m     16\u001b[0m results \u001b[39m=\u001b[39m model\u001b[39m.\u001b[39mfit()\n\u001b[0;32m     18\u001b[0m \u001b[39mprint\u001b[39m(results\u001b[39m.\u001b[39msummary())\n",
      "File \u001b[1;32m~\\AppData\\Local\\Packages\\PythonSoftwareFoundation.Python.3.10_qbz5n2kfra8p0\\LocalCache\\local-packages\\Python310\\site-packages\\linearmodels\\iv\\model.py:884\u001b[0m, in \u001b[0;36mIV2SLS.__init__\u001b[1;34m(self, dependent, exog, endog, instruments, weights)\u001b[0m\n\u001b[0;32m    874\u001b[0m \u001b[39mdef\u001b[39;00m \u001b[39m__init__\u001b[39m(\n\u001b[0;32m    875\u001b[0m     \u001b[39mself\u001b[39m,\n\u001b[0;32m    876\u001b[0m     dependent: IVDataLike,\n\u001b[1;32m   (...)\u001b[0m\n\u001b[0;32m    881\u001b[0m     weights: IVDataLike \u001b[39m|\u001b[39m \u001b[39mNone\u001b[39;00m \u001b[39m=\u001b[39m \u001b[39mNone\u001b[39;00m,\n\u001b[0;32m    882\u001b[0m ):\n\u001b[0;32m    883\u001b[0m     \u001b[39mself\u001b[39m\u001b[39m.\u001b[39m_method \u001b[39m=\u001b[39m \u001b[39m\"\u001b[39m\u001b[39mIV-2SLS\u001b[39m\u001b[39m\"\u001b[39m\n\u001b[1;32m--> 884\u001b[0m     \u001b[39msuper\u001b[39;49m()\u001b[39m.\u001b[39;49m\u001b[39m__init__\u001b[39;49m(\n\u001b[0;32m    885\u001b[0m         dependent, exog, endog, instruments, weights\u001b[39m=\u001b[39;49mweights, fuller\u001b[39m=\u001b[39;49m\u001b[39m0\u001b[39;49m, kappa\u001b[39m=\u001b[39;49m\u001b[39m1\u001b[39;49m\n\u001b[0;32m    886\u001b[0m     )\n",
      "File \u001b[1;32m~\\AppData\\Local\\Packages\\PythonSoftwareFoundation.Python.3.10_qbz5n2kfra8p0\\LocalCache\\local-packages\\Python310\\site-packages\\linearmodels\\iv\\model.py:548\u001b[0m, in \u001b[0;36m_IVLSModelBase.__init__\u001b[1;34m(self, dependent, exog, endog, instruments, weights, fuller, kappa)\u001b[0m\n\u001b[0;32m    537\u001b[0m \u001b[39mdef\u001b[39;00m \u001b[39m__init__\u001b[39m(\n\u001b[0;32m    538\u001b[0m     \u001b[39mself\u001b[39m,\n\u001b[0;32m    539\u001b[0m     dependent: IVDataLike,\n\u001b[1;32m   (...)\u001b[0m\n\u001b[0;32m    546\u001b[0m     kappa: OptionalNumeric \u001b[39m=\u001b[39m \u001b[39mNone\u001b[39;00m,\n\u001b[0;32m    547\u001b[0m ):\n\u001b[1;32m--> 548\u001b[0m     \u001b[39msuper\u001b[39;49m()\u001b[39m.\u001b[39;49m\u001b[39m__init__\u001b[39;49m(\n\u001b[0;32m    549\u001b[0m         dependent,\n\u001b[0;32m    550\u001b[0m         exog,\n\u001b[0;32m    551\u001b[0m         endog,\n\u001b[0;32m    552\u001b[0m         instruments,\n\u001b[0;32m    553\u001b[0m         weights\u001b[39m=\u001b[39;49mweights,\n\u001b[0;32m    554\u001b[0m         fuller\u001b[39m=\u001b[39;49mfuller,\n\u001b[0;32m    555\u001b[0m         kappa\u001b[39m=\u001b[39;49mkappa,\n\u001b[0;32m    556\u001b[0m     )\n",
      "File \u001b[1;32m~\\AppData\\Local\\Packages\\PythonSoftwareFoundation.Python.3.10_qbz5n2kfra8p0\\LocalCache\\local-packages\\Python310\\site-packages\\linearmodels\\iv\\model.py:209\u001b[0m, in \u001b[0;36m_IVModelBase.__init__\u001b[1;34m(self, dependent, exog, endog, instruments, weights, fuller, kappa)\u001b[0m\n\u001b[0;32m    206\u001b[0m \u001b[39mself\u001b[39m\u001b[39m.\u001b[39m_instr_columns \u001b[39m=\u001b[39m \u001b[39mself\u001b[39m\u001b[39m.\u001b[39mexog\u001b[39m.\u001b[39mcols \u001b[39m+\u001b[39m \u001b[39mself\u001b[39m\u001b[39m.\u001b[39minstruments\u001b[39m.\u001b[39mcols\n\u001b[0;32m    207\u001b[0m \u001b[39mself\u001b[39m\u001b[39m.\u001b[39m_index \u001b[39m=\u001b[39m \u001b[39mself\u001b[39m\u001b[39m.\u001b[39mdependent\u001b[39m.\u001b[39mrows\n\u001b[1;32m--> 209\u001b[0m \u001b[39mself\u001b[39;49m\u001b[39m.\u001b[39;49m_validate_inputs()\n\u001b[0;32m    210\u001b[0m \u001b[39mif\u001b[39;00m \u001b[39mnot\u001b[39;00m \u001b[39mhasattr\u001b[39m(\u001b[39mself\u001b[39m, \u001b[39m\"\u001b[39m\u001b[39m_method\u001b[39m\u001b[39m\"\u001b[39m):\n\u001b[0;32m    211\u001b[0m     \u001b[39mself\u001b[39m\u001b[39m.\u001b[39m_method \u001b[39m=\u001b[39m \u001b[39m\"\u001b[39m\u001b[39mIV-LIML\u001b[39m\u001b[39m\"\u001b[39m\n",
      "File \u001b[1;32m~\\AppData\\Local\\Packages\\PythonSoftwareFoundation.Python.3.10_qbz5n2kfra8p0\\LocalCache\\local-packages\\Python310\\site-packages\\linearmodels\\iv\\model.py:337\u001b[0m, in \u001b[0;36m_IVModelBase._validate_inputs\u001b[1;34m(self)\u001b[0m\n\u001b[0;32m    335\u001b[0m     \u001b[39mraise\u001b[39;00m \u001b[39mValueError\u001b[39;00m(\u001b[39m\"\u001b[39m\u001b[39mModel must contain at least one regressor.\u001b[39m\u001b[39m\"\u001b[39m)\n\u001b[0;32m    336\u001b[0m \u001b[39mif\u001b[39;00m \u001b[39mself\u001b[39m\u001b[39m.\u001b[39minstruments\u001b[39m.\u001b[39mshape[\u001b[39m1\u001b[39m] \u001b[39m<\u001b[39m \u001b[39mself\u001b[39m\u001b[39m.\u001b[39mendog\u001b[39m.\u001b[39mshape[\u001b[39m1\u001b[39m]:\n\u001b[1;32m--> 337\u001b[0m     \u001b[39mraise\u001b[39;00m \u001b[39mValueError\u001b[39;00m(\n\u001b[0;32m    338\u001b[0m         \u001b[39m\"\u001b[39m\u001b[39mThe number of instruments (\u001b[39m\u001b[39m{}\u001b[39;00m\u001b[39m) must be at least \u001b[39m\u001b[39m\"\u001b[39m\n\u001b[0;32m    339\u001b[0m         \u001b[39m\"\u001b[39m\u001b[39mas large as the number of endogenous regressors\u001b[39m\u001b[39m\"\u001b[39m\n\u001b[0;32m    340\u001b[0m         \u001b[39m\"\u001b[39m\u001b[39m (\u001b[39m\u001b[39m{}\u001b[39;00m\u001b[39m).\u001b[39m\u001b[39m\"\u001b[39m\u001b[39m.\u001b[39mformat(\u001b[39mself\u001b[39m\u001b[39m.\u001b[39minstruments\u001b[39m.\u001b[39mshape[\u001b[39m1\u001b[39m], \u001b[39mself\u001b[39m\u001b[39m.\u001b[39mendog\u001b[39m.\u001b[39mshape[\u001b[39m1\u001b[39m])\n\u001b[0;32m    341\u001b[0m     )\n\u001b[0;32m    342\u001b[0m \u001b[39mif\u001b[39;00m matrix_rank(x) \u001b[39m<\u001b[39m x\u001b[39m.\u001b[39mshape[\u001b[39m1\u001b[39m]:\n\u001b[0;32m    343\u001b[0m     \u001b[39mraise\u001b[39;00m \u001b[39mValueError\u001b[39;00m(\u001b[39m\"\u001b[39m\u001b[39mregressors [exog endog] do not have full \u001b[39m\u001b[39m\"\u001b[39m \u001b[39m\"\u001b[39m\u001b[39mcolumn rank\u001b[39m\u001b[39m\"\u001b[39m)\n",
      "\u001b[1;31mValueError\u001b[0m: The number of instruments (2689) must be at least as large as the number of endogenous regressors (10752)."
     ]
    }
   ],
   "source": [
    "import pandas as pd\n",
    "import numpy as np\n",
    "from linearmodels.iv import IV2SLS\n",
    "\n",
    "df = pd.read_csv('gvcobp_transformed.csv')\n",
    "\n",
    "#Drop rows with missing values\n",
    "df = df.dropna(subset=['onset2COWCS'])\n",
    "\n",
    "X = df[['gvc_sector_1', 'gvc_sector_2', 'gvc_sector_6', 'gvc_sector_10']]\n",
    "y = df['onset2COWCS']\n",
    "instrument = df[['gvc_sector_19']]\n",
    "\n",
    "model = IV2SLS(dependent=y, exog=df[['gvc_sector_2', 'gvc_sector_6', 'gvc_sector_10']], endog=df['gvc_sector_1'], instruments=instrument)\n",
    "results = model.fit()\n",
    "\n",
    "X = df[['s1', 's2', 's6', 's10']]\n",
    "y = df['onset2COWCS']\n",
    "instrument = df['s19']\n",
    "\n",
    "model = IV2SLS(dependent=y, exog=None, endog=X, instruments=instrument)\n",
    "results = model.fit()\n",
    "\n",
    "print(results.summary())\n"
   ]
  }
 ],
 "metadata": {
  "kernelspec": {
   "display_name": "Python 3",
   "language": "python",
   "name": "python3"
  },
  "language_info": {
   "codemirror_mode": {
    "name": "ipython",
    "version": 3
   },
   "file_extension": ".py",
   "mimetype": "text/x-python",
   "name": "python",
   "nbconvert_exporter": "python",
   "pygments_lexer": "ipython3",
   "version": "3.10.11"
  },
  "orig_nbformat": 4
 },
 "nbformat": 4,
 "nbformat_minor": 2
}
