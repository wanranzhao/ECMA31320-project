{
 "cells": [
  {
   "cell_type": "code",
   "execution_count": 1,
   "metadata": {},
   "outputs": [],
   "source": [
    "import numpy as np\n",
    "import pandas as pd\n",
    "from numpy import nan\n",
    "import pickle\n",
    "import matplotlib.pyplot as plt\n",
    "\n",
    "pd.set_option('display.max_rows', 200)"
   ]
  },
  {
   "attachments": {},
   "cell_type": "markdown",
   "metadata": {},
   "source": [
    "## 1. load data"
   ]
  },
  {
   "cell_type": "code",
   "execution_count": 2,
   "metadata": {},
   "outputs": [],
   "source": [
    "comprehensive = pd.read_stata('Comprehensive-Sample.dta')\n",
    "aspo = pd.read_stata('ASPO-Sample.dta')\n",
    "\n",
    "aspo0 = aspo[['year', 'numcode', 'd2incidenceU', 'd3_6incidenceU']]\n",
    "comprehensive = pd.merge(comprehensive, aspo0, how=\"left\", on=[\"year\", \"numcode\"])"
   ]
  },
  {
   "cell_type": "code",
   "execution_count": 3,
   "metadata": {},
   "outputs": [
    {
     "name": "stdout",
     "output_type": "stream",
     "text": [
      "<class 'pandas.core.frame.DataFrame'>\n",
      "Int64Index: 5120 entries, 0 to 5119\n",
      "Data columns (total 108 columns):\n",
      " #    Column                      Dtype  \n",
      "---   ------                      -----  \n",
      " 0    year                        float32\n",
      " 1    numcode                     int16  \n",
      " 2    oilreserves_full            float32\n",
      " 3    oilreserves                 float32\n",
      " 4    oilreserves_public          float32\n",
      " 5    newdiscovery_aspo           float32\n",
      " 6    imputedzero                 float32\n",
      " 7    aspo                        float32\n",
      " 8    wildcat                     float32\n",
      " 9    endowment                   float32\n",
      " 10   ecgrowth                    float32\n",
      " 11   country                     object \n",
      " 12   incidence2COW               float64\n",
      " 13   onset2COWCS                 float32\n",
      " 14   incidenceU                  float32\n",
      " 15   onsetUCS                    float32\n",
      " 16   Fearon_war                  float64\n",
      " 17   onset_FearonCS              float32\n",
      " 18   Sambanis_war                float64\n",
      " 19   onset_SambanisCS            float32\n",
      " 20   coup                        float64\n",
      " 21   any_coup                    float32\n",
      " 22   periregular                 float32\n",
      " 23   no_transition               float32\n",
      " 24   religion_fractionalization  float32\n",
      " 25   ethnic_fractionalization    float32\n",
      " 26   language_fractionalization  float32\n",
      " 27   ETHPOL_reynal               float32\n",
      " 28   ETHFRAC_reynal              float32\n",
      " 29   RELPOL_reynal               float32\n",
      " 30   RELFRAC_reynal              float32\n",
      " 31   leg_british                 float32\n",
      " 32   rule_law96                  float32\n",
      " 33   crude1990P                  float32\n",
      " 34   smallregion                 int16  \n",
      " 35   largeregion                 int16  \n",
      " 36   out_regdisaster             float32\n",
      " 37   asposmpl                    float32\n",
      " 38   zero_res                    float32\n",
      " 39   logoilres                   float32\n",
      " 40   logvaloilres                float32\n",
      " 41   discoveryaspoPC             float32\n",
      " 42   zero_disc                   float32\n",
      " 43   logdiscoveryaspo            float32\n",
      " 44   valdisc                     float32\n",
      " 45   logvaldisc                  float32\n",
      " 46   oilpop_impute               float32\n",
      " 47   logoilres_impute            float32\n",
      " 48   logvaloilres_impute         float32\n",
      " 49   logGDP_M                    float32\n",
      " 50   logpop_M                    float32\n",
      " 51   logpopdens                  float32\n",
      " 52   democracy                   float32\n",
      " 53   x_dem                       float32\n",
      " 54   logmilexgdpSIPRI            float32\n",
      " 55   logmountain                 float32\n",
      " 56   logoutreg                   float32\n",
      " 57   unexpdisc_log               float32\n",
      " 58   decade                      float32\n",
      " 59   wildcatsample               float32\n",
      " 60   africa                      float32\n",
      " 61   asia                        float32\n",
      " 62   oceania                     float32\n",
      " 63   southam                     float32\n",
      " 64   dincidence2COW              float32\n",
      " 65   d2incidence2COW             float32\n",
      " 66   d3incidence2COW             float32\n",
      " 67   d3_6incidence2COW           float32\n",
      " 68   d7_10incidence2COW          float32\n",
      " 69   d3yrsCOW                    float32\n",
      " 70   d5yrsCOW                    float32\n",
      " 71   dincidenceU                 float32\n",
      " 72   d2incidenceU                float32\n",
      " 73   d3incidenceU                float32\n",
      " 74   d3_6incidenceU              float32\n",
      " 75   d7_10incidenceU             float32\n",
      " 76   d3yrsU                      float32\n",
      " 77   d5yrsU                      float32\n",
      " 78   dcoup                       float32\n",
      " 79   d2coup                      float32\n",
      " 80   d3coup                      float32\n",
      " 81   d3_6coup                    float32\n",
      " 82   d7_10coup                   float32\n",
      " 83   d3yrsCOUP                   float32\n",
      " 84   d5yrsCOUP                   float32\n",
      " 85   dany_coup                   float32\n",
      " 86   d3_6any_coup                float32\n",
      " 87   dSambanis_war               float32\n",
      " 88   d3_6Sambanis_war            float32\n",
      " 89   dFearon_war                 float32\n",
      " 90   d3_6Fearon_war              float32\n",
      " 91   dmilexpSIPRI                float32\n",
      " 92   d2milexpSIPRI               float32\n",
      " 93   d3milexpSIPRI               float32\n",
      " 94   d3_6milexpSIPRI             float32\n",
      " 95   d7_10milexpSIPRI            float32\n",
      " 96   d3yrsSIPRI                  float32\n",
      " 97   d5yrsSIPRI                  float32\n",
      " 98   Llogoilres                  float32\n",
      " 99   Llogvaloilres               float32\n",
      " 100  LlogGDP_M                   float32\n",
      " 101  Lecgrowth                   float32\n",
      " 102  Llogpop_M                   float32\n",
      " 103  Llogpopdens                 float32\n",
      " 104  Ldemocracy                  float32\n",
      " 105  Lincidence2COW              float32\n",
      " 106  LincidenceU                 float32\n",
      " 107  Lcrude1990P                 float32\n",
      "dtypes: float32(100), float64(4), int16(3), object(1)\n",
      "memory usage: 2.2+ MB\n"
     ]
    }
   ],
   "source": [
    "aspo.info(verbose = True)"
   ]
  },
  {
   "cell_type": "code",
   "execution_count": 4,
   "metadata": {},
   "outputs": [
    {
     "name": "stdout",
     "output_type": "stream",
     "text": [
      "<class 'pandas.core.frame.DataFrame'>\n",
      "Int64Index: 17920 entries, 0 to 17919\n",
      "Data columns (total 82 columns):\n",
      " #   Column                      Non-Null Count  Dtype  \n",
      "---  ------                      --------------  -----  \n",
      " 0   year                        17920 non-null  float32\n",
      " 1   numcode                     17920 non-null  int16  \n",
      " 2   oilreserves_full            14307 non-null  float32\n",
      " 3   oilreserves                 12519 non-null  float32\n",
      " 4   oilreserves_public          9950 non-null   float32\n",
      " 5   newdiscovery_aspo           12354 non-null  float32\n",
      " 6   aspo                        4736 non-null   float32\n",
      " 7   wildcat                     12354 non-null  float32\n",
      " 8   endowment                   14160 non-null  float32\n",
      " 9   pop_maddison                10441 non-null  float64\n",
      " 10  ecgrowth                    9341 non-null   float32\n",
      " 11  efrac                       390 non-null    float32\n",
      " 12  lfrac                       390 non-null    float32\n",
      " 13  rfrac                       390 non-null    float32\n",
      " 14  incidence2COW               15419 non-null  float64\n",
      " 15  onset2COWCS                 14912 non-null  float32\n",
      " 16  incidenceU                  12855 non-null  float32\n",
      " 17  onsetUCS                    11848 non-null  float32\n",
      " 18  Fearon_war                  13045 non-null  float64\n",
      " 19  onset_FearonCS              11867 non-null  float32\n",
      " 20  Sambanis_war                12791 non-null  float64\n",
      " 21  onset_SambanisCS            11854 non-null  float32\n",
      " 22  coup                        12855 non-null  float64\n",
      " 23  any_coup                    8517 non-null   float32\n",
      " 24  periregular                 5758 non-null   float32\n",
      " 25  no_transition               5758 non-null   float32\n",
      " 26  milexp_pergdpSIPRI          2194 non-null   float32\n",
      " 27  mountain                    12524 non-null  float32\n",
      " 28  religion_fractionalization  16720 non-null  float32\n",
      " 29  ethnic_fractionalization    15120 non-null  float32\n",
      " 30  language_fractionalization  15840 non-null  float32\n",
      " 31  ETHPOL_reynal               10960 non-null  float32\n",
      " 32  ETHFRAC_reynal              10960 non-null  float32\n",
      " 33  RELPOL_reynal               10960 non-null  float32\n",
      " 34  RELFRAC_reynal              10960 non-null  float32\n",
      " 35  leg_british                 14800 non-null  float32\n",
      " 36  rule_law96                  13600 non-null  float32\n",
      " 37  land_area                   17920 non-null  float64\n",
      " 38  crude1990P                  17696 non-null  float32\n",
      " 39  smallregion                 17840 non-null  float64\n",
      " 40  largeregion                 17840 non-null  float64\n",
      " 41  code3                       17920 non-null  object \n",
      " 42  out_regdisaster             17840 non-null  float32\n",
      " 43  oilpop                      7372 non-null   float32\n",
      " 44  zero_res                    7372 non-null   float32\n",
      " 45  logoilres                   7372 non-null   float32\n",
      " 46  oilpop_public               6985 non-null   float32\n",
      " 47  logoilres_public            6985 non-null   float32\n",
      " 48  logoilres_full              8809 non-null   float32\n",
      " 49  valoilres                   7320 non-null   float32\n",
      " 50  valoilres_public            6985 non-null   float32\n",
      " 51  logvaloilres                7349 non-null   float32\n",
      " 52  logvaloilres_public         6985 non-null   float32\n",
      " 53  logvaloilres_full           8787 non-null   float32\n",
      " 54  oilpop_impute               7672 non-null   float32\n",
      " 55  logoilres_impute            7672 non-null   float32\n",
      " 56  valoilres_impute            7620 non-null   float32\n",
      " 57  logvaloilres_impute         7649 non-null   float32\n",
      " 58  logvalprod                  7372 non-null   float32\n",
      " 59  logvalprod_impute           7672 non-null   float32\n",
      " 60  discoveryaspoPC             7320 non-null   float32\n",
      " 61  zero_disc                   7320 non-null   float32\n",
      " 62  logdiscoveryaspo            7320 non-null   float32\n",
      " 63  logvaldisc                  7320 non-null   float32\n",
      " 64  logGDP_M                    9488 non-null   float32\n",
      " 65  logpop_M                    10441 non-null  float32\n",
      " 66  logpopdens                  10441 non-null  float32\n",
      " 67  democracy                   8933 non-null   float32\n",
      " 68  x_dem                       8602 non-null   float32\n",
      " 69  logmilexgdpSIPRI            2194 non-null   float32\n",
      " 70  logmountain                 12524 non-null  float32\n",
      " 71  logoutreg                   17840 non-null  float32\n",
      " 72  dincidence2COW              14971 non-null  float32\n",
      " 73  dmilexpSIPRI                1858 non-null   float32\n",
      " 74  dincidenceU                 12407 non-null  float32\n",
      " 75  dcoup                       12407 non-null  float32\n",
      " 76  decade                      17696 non-null  float32\n",
      " 77  wildcatsample               3078 non-null   float32\n",
      " 78  lowincsample                8160 non-null   float32\n",
      " 79  opec                        15458 non-null  float32\n",
      " 80  d2incidenceU                3490 non-null   float32\n",
      " 81  d3_6incidenceU              3234 non-null   float32\n",
      "dtypes: float32(72), float64(8), int16(1), object(1)\n",
      "memory usage: 6.3+ MB\n"
     ]
    }
   ],
   "source": [
    "comprehensive.info(verbose = True)"
   ]
  },
  {
   "cell_type": "code",
   "execution_count": 5,
   "metadata": {},
   "outputs": [
    {
     "data": {
      "text/plain": [
       "array(['AFG', 'ALB', 'DZA', 'ASM', 'AND', 'AGO', 'ATG', 'AZE', 'ARG',\n",
       "       'AUS', 'AUT', 'BHS', 'BHR', 'BGD', 'ARM', 'BRB', 'BEL', 'BMU',\n",
       "       'BTN', 'BOL', 'BIH', 'BWA', 'BRA', 'BLZ', 'SLB', 'VGB', 'BRN',\n",
       "       'BGR', 'MMR', 'BDI', 'BLR', 'KHM', 'CMR', 'CAN', 'CPV', 'CYM',\n",
       "       'CAF', 'LKA', 'TCD', 'CHL', 'CHN', 'TWN', 'COL', 'COM', 'MYT',\n",
       "       'COG', 'COD', 'COK', 'CRI', 'HRV', 'CUB', 'CYP', 'CZE', 'BEN',\n",
       "       'DNK', 'DMA', 'DOM', 'ECU', 'SLV', 'GNQ', 'ETH', 'ERI', 'EST',\n",
       "       'FRO', 'FLK', 'FJI', 'FIN', 'FXX', 'GUF', 'PYF', 'DJI', 'GAB',\n",
       "       'GEO', 'GMB', 'DEU', 'GHA', 'GIB', 'KIR', 'GRC', 'GRL', 'GRD',\n",
       "       'GLP', 'GUM', 'GTM', 'GIN', 'GUY', 'HTI', 'HND', 'HKG', 'HUN',\n",
       "       'ISL', 'IND', 'IDN', 'IRN', 'IRQ', 'IRL', 'ISR', 'ITA', 'CIV',\n",
       "       'JAM', 'JPN', 'KAZ', 'JOR', 'KEN', 'PRK', 'KOR', 'KWT', 'KGZ',\n",
       "       'LAO', 'LBN', 'LSO', 'LVA', 'LBR', 'LBY', 'LIE', 'LTU', 'LUX',\n",
       "       'MAC', 'MDG', 'MWI', 'MYS', 'MDV', 'MLI', 'MLT', 'MTQ', 'MRT',\n",
       "       'MUS', 'MEX', 'MCO', 'MNG', 'MDA', 'MSR', 'MAR', 'MOZ', 'OMN',\n",
       "       'NAM', 'NRU', 'NPL', 'NLD', 'ANT', 'ABW', 'NCL', 'VUT', 'NZL',\n",
       "       'NIC', 'NER', 'NGA', 'NIU', 'NOR', 'MNP', 'UMI', 'FSM', 'MHL',\n",
       "       'PLW', 'PAK', 'PAN', 'PNG', 'PRY', 'PER', 'PHL', 'POL', 'PRT',\n",
       "       'GNB', 'TMP', 'PRI', 'QAT', 'REU', 'ROM', 'RUS', 'RWA', 'SHN',\n",
       "       'KNA', 'LCA', 'SPM', 'VCT', 'SMR', 'STP', 'SAU', 'SEN', 'SYC',\n",
       "       'SLE', 'SGP', 'SVK', 'VNM', 'SVN', 'SOM', 'ZAF', 'ZWE', 'ESP',\n",
       "       'ESH', 'SDN', 'SUR', 'SWZ', 'SWE', 'CHE', 'SYR', 'TJK', 'THA',\n",
       "       'TGO', 'TON', 'TTO', 'ARE', 'TUN', 'TUR', 'TKM', 'TCA', 'UGA',\n",
       "       'UKR', 'MKD', 'SUN', 'EGY', 'GBR', 'TZA', 'USA', 'VIR', 'BFA',\n",
       "       'URY', 'UZB', 'VEN', 'WSM', 'YEM', 'YUG', 'SCG', 'ZMB'],\n",
       "      dtype=object)"
      ]
     },
     "execution_count": 5,
     "metadata": {},
     "output_type": "execute_result"
    }
   ],
   "source": [
    "comprehensive['code3'].unique()"
   ]
  },
  {
   "cell_type": "code",
   "execution_count": 6,
   "metadata": {},
   "outputs": [],
   "source": [
    "comprehensive = comprehensive.sort_values(['code3', 'year'], ascending=[True, True])"
   ]
  },
  {
   "attachments": {},
   "cell_type": "markdown",
   "metadata": {},
   "source": [
    "We see cyclic trend in GDP. So we will demean ecgrowth."
   ]
  },
  {
   "cell_type": "code",
   "execution_count": 7,
   "metadata": {},
   "outputs": [
    {
     "data": {
      "image/png": "[encoded data removed]",
      "text/plain": [
       "<Figure size 432x288 with 1 Axes>"
      ]
     },
     "metadata": {
      "needs_background": "light"
     },
     "output_type": "display_data"
    }
   ],
   "source": [
    "usa = comprehensive[comprehensive['code3'] == 'USA']\n",
    "\n",
    "# create plot\n",
    "plt.plot(usa['year'], usa['logGDP_M'])\n",
    "plt.xlabel('Year')\n",
    "plt.ylabel('Log GDP per Capita')\n",
    "plt.show()"
   ]
  },
  {
   "attachments": {},
   "cell_type": "markdown",
   "metadata": {},
   "source": [
    "Need to take log and then diff:"
   ]
  },
  {
   "cell_type": "code",
   "execution_count": 8,
   "metadata": {},
   "outputs": [
    {
     "data": {
      "image/png": "[encoded data removed]",
      "text/plain": [
       "<Figure size 432x288 with 1 Axes>"
      ]
     },
     "metadata": {
      "needs_background": "light"
     },
     "output_type": "display_data"
    }
   ],
   "source": [
    "usa = comprehensive[comprehensive['code3'] == 'USA']\n",
    "\n",
    "# create plot\n",
    "plt.plot(usa['year'], usa['out_regdisaster'])\n",
    "plt.xlabel('Year')\n",
    "plt.ylabel('out_regdisaster')\n",
    "plt.show()\n"
   ]
  },
  {
   "attachments": {},
   "cell_type": "markdown",
   "metadata": {},
   "source": [
    "Need to remove linear trend through first differencing:"
   ]
  },
  {
   "cell_type": "code",
   "execution_count": 9,
   "metadata": {},
   "outputs": [
    {
     "data": {
      "image/png": "[encoded data removed]",
      "text/plain": [
       "<Figure size 432x288 with 1 Axes>"
      ]
     },
     "metadata": {
      "needs_background": "light"
     },
     "output_type": "display_data"
    }
   ],
   "source": [
    "usa = comprehensive[comprehensive['code3'] == 'USA']\n",
    "\n",
    "# create plot\n",
    "plt.plot(usa['year'], (usa['logmilexgdpSIPRI']).diff())\n",
    "plt.xlabel('Year')\n",
    "plt.ylabel('milexp_pergdpSIPRI')\n",
    "plt.show()\n"
   ]
  },
  {
   "attachments": {},
   "cell_type": "markdown",
   "metadata": {},
   "source": [
    "Need to remove linear trend through first differencing:"
   ]
  },
  {
   "cell_type": "code",
   "execution_count": 10,
   "metadata": {},
   "outputs": [
    {
     "data": {
      "image/png": "[encoded data removed]",
      "text/plain": [
       "<Figure size 432x288 with 1 Axes>"
      ]
     },
     "metadata": {
      "needs_background": "light"
     },
     "output_type": "display_data"
    }
   ],
   "source": [
    "usa = comprehensive[comprehensive['code3'] == 'USA']\n",
    "\n",
    "# create plot\n",
    "plt.plot(usa['year'], (usa['logpop_M']))\n",
    "plt.xlabel('Year')\n",
    "plt.ylabel('logpop_M')\n",
    "plt.show()\n"
   ]
  },
  {
   "attachments": {},
   "cell_type": "markdown",
   "metadata": {},
   "source": [
    "## 2. clean the data"
   ]
  },
  {
   "cell_type": "code",
   "execution_count": 11,
   "metadata": {},
   "outputs": [],
   "source": [
    "v_lst = ['onset2COWCS',    # original\n",
    "         'd2incidenceU',   # original\n",
    "         'd3_6incidenceU', # original\n",
    "         'onsetUCS',       # original \n",
    "         'coup',           # original\n",
    "         'periregular',    # original\n",
    "         'milexp_pergdpSIPRI', # diff\n",
    "         \n",
    "         'code3',          # original\n",
    "         'year',           # original\n",
    "         'decade',         # original\n",
    "         'ecgrowth',       # demean \n",
    "         'logpop_M',       # diff\n",
    "         'logpopdens',                 # diff\n",
    "         'logoutreg',                  # diff\n",
    "         'democracy',                  # original\n",
    "         'logmountain',                # original\n",
    "         'ethnic_fractionalization',   # original\n",
    "         'religion_fractionalization', # original\n",
    "         'language_fractionalization', # original\n",
    "         'leg_british',                # original\n",
    "         'opec']                       # original"
   ]
  },
  {
   "cell_type": "code",
   "execution_count": 12,
   "metadata": {},
   "outputs": [],
   "source": [
    "df = comprehensive[v_lst]"
   ]
  },
  {
   "cell_type": "code",
   "execution_count": 13,
   "metadata": {},
   "outputs": [
    {
     "name": "stderr",
     "output_type": "stream",
     "text": [
      "c:\\Users\\xz\\AppData\\Local\\Programs\\Python\\Python37\\lib\\site-packages\\pandas\\core\\indexing.py:1667: SettingWithCopyWarning: \n",
      "A value is trying to be set on a copy of a slice from a DataFrame.\n",
      "Try using .loc[row_indexer,col_indexer] = value instead\n",
      "\n",
      "See the caveats in the documentation: https://pandas.pydata.org/pandas-docs/stable/user_guide/indexing.html#returning-a-view-versus-a-copy\n",
      "  self.obj[key] = value\n"
     ]
    }
   ],
   "source": [
    "df.loc[:, 'milexp_pergdpSIPRI_diff'] = df.groupby('code3')['milexp_pergdpSIPRI'].diff()\n",
    "df.loc[:, 'logpop_M_diff'] = df.groupby('code3')['logpop_M'].diff()\n",
    "df.loc[:, 'logpopdens_diff'] = df.groupby('code3')['logpopdens'].diff()\n",
    "df.loc[:, 'logoutreg_diff'] = df.groupby('code3')['logoutreg'].diff()"
   ]
  },
  {
   "cell_type": "code",
   "execution_count": 14,
   "metadata": {},
   "outputs": [
    {
     "name": "stderr",
     "output_type": "stream",
     "text": [
      "c:\\Users\\xz\\AppData\\Local\\Programs\\Python\\Python37\\lib\\site-packages\\ipykernel_launcher.py:3: SettingWithCopyWarning: \n",
      "A value is trying to be set on a copy of a slice from a DataFrame.\n",
      "Try using .loc[row_indexer,col_indexer] = value instead\n",
      "\n",
      "See the caveats in the documentation: https://pandas.pydata.org/pandas-docs/stable/user_guide/indexing.html#returning-a-view-versus-a-copy\n",
      "  This is separate from the ipykernel package so we can avoid doing imports until\n"
     ]
    }
   ],
   "source": [
    "# demean ecgrowth\n",
    "group_means = df.groupby('code3')['ecgrowth'].transform('mean')\n",
    "df['ecgrowth_demeaned'] = df['ecgrowth'] - group_means"
   ]
  },
  {
   "cell_type": "code",
   "execution_count": 15,
   "metadata": {},
   "outputs": [
    {
     "name": "stdout",
     "output_type": "stream",
     "text": [
      "<class 'pandas.core.frame.DataFrame'>\n",
      "Int64Index: 17920 entries, 11200 to 15039\n",
      "Data columns (total 26 columns):\n",
      " #   Column                      Non-Null Count  Dtype  \n",
      "---  ------                      --------------  -----  \n",
      " 0   onset2COWCS                 14912 non-null  float32\n",
      " 1   d2incidenceU                3490 non-null   float32\n",
      " 2   d3_6incidenceU              3234 non-null   float32\n",
      " 3   onsetUCS                    11848 non-null  float32\n",
      " 4   coup                        12855 non-null  float64\n",
      " 5   periregular                 5758 non-null   float32\n",
      " 6   milexp_pergdpSIPRI          2194 non-null   float32\n",
      " 7   code3                       17920 non-null  object \n",
      " 8   year                        17920 non-null  float32\n",
      " 9   decade                      17696 non-null  float32\n",
      " 10  ecgrowth                    9341 non-null   float32\n",
      " 11  logpop_M                    10441 non-null  float32\n",
      " 12  logpopdens                  10441 non-null  float32\n",
      " 13  logoutreg                   17840 non-null  float32\n",
      " 14  democracy                   8933 non-null   float32\n",
      " 15  logmountain                 12524 non-null  float32\n",
      " 16  ethnic_fractionalization    15120 non-null  float32\n",
      " 17  religion_fractionalization  16720 non-null  float32\n",
      " 18  language_fractionalization  15840 non-null  float32\n",
      " 19  leg_british                 14800 non-null  float32\n",
      " 20  opec                        15458 non-null  float32\n",
      " 21  milexp_pergdpSIPRI_diff     2015 non-null   float32\n",
      " 22  logpop_M_diff               10277 non-null  float32\n",
      " 23  logpopdens_diff             10277 non-null  float32\n",
      " 24  logoutreg_diff              17617 non-null  float32\n",
      " 25  ecgrowth_demeaned           9341 non-null   float32\n",
      "dtypes: float32(24), float64(1), object(1)\n",
      "memory usage: 2.1+ MB\n"
     ]
    }
   ],
   "source": [
    "df.info(verbose = True)"
   ]
  },
  {
   "cell_type": "code",
   "execution_count": 16,
   "metadata": {},
   "outputs": [],
   "source": [
    "df.to_csv('stability_df.csv')"
   ]
  }
 ],
 "metadata": {
  "kernelspec": {
   "display_name": "Python 3",
   "language": "python",
   "name": "python3"
  },
  "language_info": {
   "codemirror_mode": {
    "name": "ipython",
    "version": 3
   },
   "file_extension": ".py",
   "mimetype": "text/x-python",
   "name": "python",
   "nbconvert_exporter": "python",
   "pygments_lexer": "ipython3",
   "version": "3.7.9"
  },
  "orig_nbformat": 4
 },
 "nbformat": 4,
 "nbformat_minor": 2
}
