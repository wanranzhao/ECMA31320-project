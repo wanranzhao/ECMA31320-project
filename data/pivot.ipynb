{
 "cells": [
  {
   "cell_type": "code",
   "execution_count": 14,
   "metadata": {},
   "outputs": [],
   "source": [
    "import pandas as pd\n",
    "\n",
    "# Read the CSV file\n",
    "df = pd.read_csv('regression_data.csv')\n",
    "\n",
    "# Pivot the dataframe to have one row per country and year with columns for each sector\n",
    "df_pivot = df.pivot_table(index=['country', 't'], columns='sect', values='gvcomix_diff', aggfunc='first').reset_index()\n",
    "\n",
    "# Flatten the MultiIndex in columns\n",
    "df_pivot.columns = [col if not isinstance(col, tuple) else f\"{col[0]} {col[1]}\" for col in df_pivot.columns]\n",
    "\n",
    "# List of additional columns to include in the final output\n",
    "additional_columns = ['onset2COWCS', 'decade', 'ecgrowth', 'logpop_M', 'logpopdens', 'logoutreg', 'democracy', 'logmountain', 'ethnic_fractionalization', 'religion_fractionalization', 'language_fractionalization', 'leg_british', 'opec']\n",
    "\n",
    "# Drop duplicates in the original dataframe based on 'country', 'year', and additional_columns\n",
    "df_unique = df[['country', 't'] + additional_columns].drop_duplicates()\n",
    "\n",
    "# Merge the pivoted dataframe with the unique dataframe\n",
    "df_final = pd.merge(df_pivot, df_unique, on=['country', 't'], how='left')\n",
    "\n",
    "# Save the transformed dataframe to a new CSV file\n",
    "df_final.to_csv('gvcomix_transformed.csv', index=False)"
   ]
  }
 ],
 "metadata": {
  "kernelspec": {
   "display_name": "Python 3",
   "language": "python",
   "name": "python3"
  },
  "language_info": {
   "codemirror_mode": {
    "name": "ipython",
    "version": 3
   },
   "file_extension": ".py",
   "mimetype": "text/x-python",
   "name": "python",
   "nbconvert_exporter": "python",
   "pygments_lexer": "ipython3",
   "version": "3.10.11"
  },
  "orig_nbformat": 4
 },
 "nbformat": 4,
 "nbformat_minor": 2
}
