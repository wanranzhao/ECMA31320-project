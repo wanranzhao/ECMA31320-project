{
 "cells": [
  {
   "cell_type": "code",
   "execution_count": 17,
   "metadata": {},
   "outputs": [],
   "source": [
    "import pandas as pd\n",
    "\n",
    "# Read the CSV file\n",
    "df = pd.read_csv('regression_data.csv')\n",
    "\n",
    "# Pivot the dataframe to have one row per country and year with columns for each sector\n",
    "df_pivot = df.pivot_table(index=['country', 't'], columns='sect', values='gvcomix_diff', aggfunc='first').reset_index()\n",
    "\n",
    "# Flatten the MultiIndex in columns\n",
    "df_pivot.columns = [col if not isinstance(col, tuple) else f\"{col[0]} {col[1]}\" for col in df_pivot.columns]\n",
    "\n",
    "# List of additional columns to include in the final output\n",
    "additional_columns = ['onset2COWCS', 'decade', 'ecgrowth', 'logpop_M', 'logpopdens', 'logoutreg', 'democracy', 'logmountain', \n",
    "                      'ethnic_fractionalization', 'religion_fractionalization', 'language_fractionalization', 'leg_british', 'opec',\n",
    "                      'logpop_M_diff', 'logpopdens_diff', 'logoutreg_diff', 'ecgrowth_demeaned']\n",
    "\n",
    "# Drop duplicates in the original dataframe based on 'country', 'year', and additional_columns\n",
    "df_unique = df[['country', 't'] + additional_columns].drop_duplicates()\n",
    "\n",
    "# Merge the pivoted dataframe with the unique dataframe\n",
    "df_final = pd.merge(df_pivot, df_unique, on=['country', 't'], how='left')\n",
    "\n",
    "# Save the transformed dataframe to a new CSV file\n",
    "df_final.to_csv('gvcomix_transformed.csv', index=False)"
   ]
  },
  {
   "cell_type": "code",
   "execution_count": 9,
   "metadata": {},
   "outputs": [
    {
     "ename": "",
     "evalue": "",
     "output_type": "error",
     "traceback": [
      "\u001b[1;31mThe Kernel crashed while executing code in the the current cell or a previous cell. Please review the code in the cell(s) to identify a possible cause of the failure. Click <a href='https://aka.ms/vscodeJupyterKernelCrash'>here</a> for more info. View Jupyter <a href='command:jupyter.viewOutput'>log</a> for further details."
     ]
    }
   ],
   "source": [
    "import pandas as pd\n",
    "\n",
    "# Load the data from the CSV file\n",
    "df = pd.read_csv('gvcomix_transformed1.csv')\n",
    "\n",
    "# Calculate the averages for each column by year\n",
    "avg_df = df.groupby('t')[['s1', 's2', 's6', 's10', 's19']].mean()\n",
    "\n",
    "# Rename the columns to include 'avg' in the name\n",
    "avg_df = avg_df.add_prefix('avg')\n",
    "\n",
    "# Merge the original data frame with the new average data frame on the year column\n",
    "result = pd.merge(df, avg_df, on='t')\n",
    "\n",
    "# Save the result to a new CSV file\n",
    "result.to_csv('gvcomix_transformed1.csv', index=False)"
   ]
  },
  {
   "cell_type": "code",
   "execution_count": 3,
   "metadata": {},
   "outputs": [],
   "source": [
    "# read the csv file into a pandas dataframe\n",
    "df = pd.read_csv('eora_merged.csv')\n",
    "\n",
    "# filter the data for sect 6\n",
    "df = df[df['sect'] == 6]\n",
    "\n",
    "# select the columns you want to keep\n",
    "df = df[['country', 't', 'outp', 'outpd%', 'outptt%']]\n",
    "\n",
    "# print the filtered data\n",
    "df.to_csv('transport_size.csv', index=False)"
   ]
  },
  {
   "cell_type": "code",
   "execution_count": 4,
   "metadata": {},
   "outputs": [],
   "source": [
    "# read the first CSV file into a pandas dataframe\n",
    "df1 = pd.read_csv('gvcomix_transformed.csv')\n",
    "\n",
    "# read the second CSV file into another pandas dataframe\n",
    "df2 = pd.read_csv('transport_size.csv')\n",
    "\n",
    "# merge the two dataframes based on two common columns ('id' and 'date')\n",
    "merged_df = pd.merge(df1, df2, on=['country', 't'])\n",
    "\n",
    "# write the merged dataframe to a new CSV file\n",
    "merged_df.to_csv('gvcomix_transformed1.csv', index=False)"
   ]
  }
 ],
 "metadata": {
  "kernelspec": {
   "display_name": "Python 3",
   "language": "python",
   "name": "python3"
  },
  "language_info": {
   "codemirror_mode": {
    "name": "ipython",
    "version": 3
   },
   "file_extension": ".py",
   "mimetype": "text/x-python",
   "name": "python",
   "nbconvert_exporter": "python",
   "pygments_lexer": "ipython3",
   "version": "3.10.11"
  },
  "orig_nbformat": 4
 },
 "nbformat": 4,
 "nbformat_minor": 2
}
