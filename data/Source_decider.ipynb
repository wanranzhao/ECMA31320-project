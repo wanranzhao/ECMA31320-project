{
 "cells": [
  {
   "cell_type": "code",
   "execution_count": 8,
   "metadata": {},
   "outputs": [],
   "source": [
    "import pandas as pd\n",
    "\n",
    "# Read the CSV file\n",
    "df = pd.read_csv('merged.csv')\n",
    "\n",
    "# Get the unique values in the \"source\" column\n",
    "sources = df['source'].unique()\n",
    "\n",
    "# Iterate over the unique values and write each subset of the data to a separate file\n",
    "for source in sources:\n",
    "    subset = df[df['source'] == source]\n",
    "    sorted_df = subset.sort_values(['country', 'sect', 't'], ascending=[True, True, True])\n",
    "    sorted_df.to_csv(f'{source}_merged.csv', index=False)"
   ]
  }
 ],
 "metadata": {
  "kernelspec": {
   "display_name": "Python 3",
   "language": "python",
   "name": "python3"
  },
  "language_info": {
   "codemirror_mode": {
    "name": "ipython",
    "version": 3
   },
   "file_extension": ".py",
   "mimetype": "text/x-python",
   "name": "python",
   "nbconvert_exporter": "python",
   "pygments_lexer": "ipython3",
   "version": "3.10.11"
  },
  "orig_nbformat": 4
 },
 "nbformat": 4,
 "nbformat_minor": 2
}
