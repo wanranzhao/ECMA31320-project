{
 "cells": [
  {
   "cell_type": "code",
   "execution_count": 1,
   "metadata": {},
   "outputs": [],
   "source": [
    "import pandas as pd\n",
    "\n",
    "# read first csv file\n",
    "df1 = pd.read_csv('GVC_data\\GVC_cleaned_diff_050123.csv')\n",
    "\n",
    "# read second csv file\n",
    "df2 = pd.read_csv('stability\\stability_df.csv')\n",
    "\n",
    "# merge the two dataframes based on year and country columns\n",
    "merged_df = pd.merge(df1, df2, on=['t', 'country'])\n",
    "\n",
    "sorted_df = merged_df.sort_values(['country', 'sect', 't'], ascending=[True, True, True])\n",
    "\n",
    "# save the merged dataframe to a new csv file\n",
    "sorted_df.to_csv('merged_050623.csv', index=False)"
   ]
  }
 ],
 "metadata": {
  "kernelspec": {
   "display_name": "Python 3",
   "language": "python",
   "name": "python3"
  },
  "language_info": {
   "codemirror_mode": {
    "name": "ipython",
    "version": 3
   },
   "file_extension": ".py",
   "mimetype": "text/x-python",
   "name": "python",
   "nbconvert_exporter": "python",
   "pygments_lexer": "ipython3",
   "version": "3.10.11"
  },
  "orig_nbformat": 4
 },
 "nbformat": 4,
 "nbformat_minor": 2
}
