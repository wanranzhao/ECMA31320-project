{
  "cells": [
    {
      "cell_type": "code",
      "execution_count": 2,
      "metadata": {},
      "outputs": [],
      "source": [
        "import pandas as pd\n",
        "import numpy as np\n",
        "import matplotlib.pyplot as plt"
      ]
    },
    {
      "attachments": {},
      "cell_type": "markdown",
      "metadata": {},
      "source": [
        "First do some filtering and sorting of the raw WITS data"
      ]
    },
    {
      "cell_type": "code",
      "execution_count": 3,
      "metadata": {
        "colab": {
          "base_uri": "https://localhost:8080/",
          "height": 156
        },
        "id": "Daevheno7IvU",
        "outputId": "6f841d07-3c41-41a9-8646-0e2afb31af8f"
      },
      "outputs": [],
      "source": [
        "df = pd.read_csv('gvc_output_WITS.csv')\n",
        "\n",
        "# Filter data for sector codes of interest\n",
        "sectors_of_interest = [1, 2, 6, 10, 19]\n",
        "filtered_df = df[df['sect'].isin(sectors_of_interest)]\n",
        "\n",
        "# Sort data by year for each country\n",
        "sorted_df = filtered_df.sort_values(['country', 'sect', 't'], ascending=[True, True, True])\n",
        "\n",
        "# Save the filtered and sorted data to a new .csv file\n",
        "output_file_path = 'GVC_cleaned_050123.csv'\n",
        "sorted_df.to_csv(output_file_path, index=False)\n"
      ]
    },
    {
      "attachments": {},
      "cell_type": "markdown",
      "metadata": {},
      "source": [
        "We use excel to convert raw data to percentage data using formulas from the metadata site. So we have new csv file with the percentage data. We then split it by source because they cause issues for differencing"
      ]
    },
    {
      "cell_type": "code",
      "execution_count": 7,
      "metadata": {
        "colab": {
          "base_uri": "https://localhost:8080/",
          "height": 17
        },
        "id": "GvKLN9fS9944",
        "outputId": "0b05033f-d6e5-45e6-b1e0-4efc69865b96"
      },
      "outputs": [],
      "source": [
        "# Load the CSV file into a pandas dataframe\n",
        "df = pd.read_csv('GVC_cleaned_050123.csv')\n",
        "\n",
        "# Group the dataframe by the 'source' column\n",
        "grouped = df.groupby('source')\n",
        "\n",
        "# Iterate over the groups and save each group to a separate CSV file\n",
        "for name, group in grouped:\n",
        "    filename = f\"{name}_050123.csv\"  # create a filename based on the group name\n",
        "    group.to_csv(filename, index=False)  # save the group to a CSV file"
      ]
    },
    {
      "attachments": {},
      "cell_type": "markdown",
      "metadata": {},
      "source": [
        "Once split by source, we use excel to difference the percentages and add new columns with that data. Now we merge the seperate files back together. "
      ]
    },
    {
      "cell_type": "code",
      "execution_count": 9,
      "metadata": {},
      "outputs": [],
      "source": [
        "adb_df = pd.read_csv('adb_050123.csv')\n",
        "eora_df = pd.read_csv('eora_050123.csv')\n",
        "tiva_df = pd.read_csv('tiva_050123.csv')\n",
        "wiodlr_df = pd.read_csv('wiodlr_050123.csv')\n",
        "wiodn_df = pd.read_csv('wiodn_050123.csv')\n",
        "wiodo_df = pd.read_csv('wiodo_050123.csv')\n",
        "\n",
        "merged_df = pd.concat([adb_df, eora_df, tiva_df, wiodlr_df, wiodn_df, wiodo_df])\n",
        "sortedMerged_df = merged_df.sort_values(['source','country', 'sect', 't'], ascending=[True, True, True, True])\n",
        "\n",
        "sortedMerged_df.to_csv('GVC_cleaned_diff_050123.csv', index=False)"
      ]
    },
    {
      "cell_type": "code",
      "execution_count": 5,
      "metadata": {},
      "outputs": [
        {
          "ename": "",
          "evalue": "",
          "output_type": "error",
          "traceback": [
            "\u001b[1;31mThe Kernel crashed while executing code in the the current cell or a previous cell. Please review the code in the cell(s) to identify a possible cause of the failure. Click <a href='https://aka.ms/vscodeJupyterKernelCrash'>here</a> for more info. View Jupyter <a href='command:jupyter.viewOutput'>log</a> for further details."
          ]
        }
      ],
      "source": [
        "# read the csv file into a pandas dataframe\n",
        "df = pd.read_csv('GVC_cleaned_diff_050123.csv')\n",
        "\n",
        "# filter the data for sect 6\n",
        "df = df[df['sect'] == 6]\n",
        "df = df[df['source'] == 'eora']\n",
        "\n",
        "# select the columns you want to keep\n",
        "df = df[['country', 't', 'outp', 'outpd%', 'outptt%']]\n",
        "\n",
        "# print the filtered data\n",
        "df.to_csv('transport_size.csv', index=False)"
      ]
    },
    {
      "cell_type": "code",
      "execution_count": 1,
      "metadata": {},
      "outputs": [],
      "source": [
        "import pandas as pd\n",
        "\n",
        "# Read the input CSV file\n",
        "input_file = 'eora_050123.csv'\n",
        "df = pd.read_csv(input_file)\n",
        "\n",
        "# Group the data by 'country' and 't', and sum the 'outp' values for each group\n",
        "output_df = df.groupby(['country', 't'], as_index=False)['outp'].sum()\n",
        "\n",
        "# Rename the 'outp' column to 'total outp'\n",
        "output_df = output_df.rename(columns={'outp': 'gross output'})\n",
        "\n",
        "# Write the output DataFrame to a new CSV file\n",
        "output_file = '_gross_output.csv'\n",
        "output_df.to_csv(output_file, index=False)"
      ]
    }
  ],
  "metadata": {
    "colab": {
      "provenance": []
    },
    "kernelspec": {
      "display_name": "Python 3",
      "name": "python3"
    },
    "language_info": {
      "codemirror_mode": {
        "name": "ipython",
        "version": 3
      },
      "file_extension": ".py",
      "mimetype": "text/x-python",
      "name": "python",
      "nbconvert_exporter": "python",
      "pygments_lexer": "ipython3",
      "version": "3.10.11"
    }
  },
  "nbformat": 4,
  "nbformat_minor": 0
}
