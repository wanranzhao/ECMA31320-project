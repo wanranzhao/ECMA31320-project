{
  "cells": [
    {
      "cell_type": "code",
      "execution_count": 7,
      "metadata": {},
      "outputs": [],
      "source": [
        "import pandas as pd\n",
        "import numpy as np\n",
        "import matplotlib.pyplot as plt"
      ]
    },
    {
      "cell_type": "code",
      "execution_count": 8,
      "metadata": {
        "colab": {
          "base_uri": "https://localhost:8080/",
          "height": 156
        },
        "id": "Daevheno7IvU",
        "outputId": "6f841d07-3c41-41a9-8646-0e2afb31af8f"
      },
      "outputs": [],
      "source": [
        "df = pd.read_csv('gvc_output_WITS.csv')\n",
        "\n",
        "# Filter data for sector codes of interest\n",
        "sectors_of_interest = [1, 2, 6, 10]\n",
        "filtered_df = df[df['sect'].isin(sectors_of_interest)]\n",
        "\n",
        "# Sort data by year for each country\n",
        "sorted_df = filtered_df.sort_values(['country', 'sect', 't'], ascending=[True, True, True])\n",
        "\n",
        "# Save the filtered and sorted data to a new .csv file\n",
        "output_file_path = 'GVC_cleaned.csv'\n",
        "sorted_df.to_csv(output_file_path, index=False)\n"
      ]
    },
    {
      "cell_type": "code",
      "execution_count": 14,
      "metadata": {},
      "outputs": [
        {
          "name": "stdout",
          "output_type": "stream",
          "text": [
            "Index(['country', 'sect', 't', 'source', 'outp', 'outpd', 'outptt', 'gvco',\n",
            "       'gvcobp', 'gvcofp', 'gvcomix', 'gvco_perc', 'gvcobp_perc',\n",
            "       'gvcofp_perc', 'gvcomix_perc', 'outpd_perc', 'outptt_perc'],\n",
            "      dtype='object')\n"
          ]
        }
      ],
      "source": [
        "# Read the CSV file\n",
        "df = pd.read_csv('GVC_cleaned_with_percentage.csv')\n",
        "\n",
        "# Print the column names\n",
        "print(df.columns)"
      ]
    },
    {
      "cell_type": "code",
      "execution_count": 15,
      "metadata": {
        "colab": {
          "base_uri": "https://localhost:8080/",
          "height": 17
        },
        "id": "GvKLN9fS9944",
        "outputId": "0b05033f-d6e5-45e6-b1e0-4efc69865b96"
      },
      "outputs": [
        {
          "ename": "TypeError",
          "evalue": "unsupported operand type(s) for -: 'str' and 'str'",
          "output_type": "error",
          "traceback": [
            "\u001b[1;31m---------------------------------------------------------------------------\u001b[0m",
            "\u001b[1;31mTypeError\u001b[0m                                 Traceback (most recent call last)",
            "Cell \u001b[1;32mIn[15], line 8\u001b[0m\n\u001b[0;32m      6\u001b[0m \u001b[39m# Calculate the year-on-year differences and store them in new columns\u001b[39;00m\n\u001b[0;32m      7\u001b[0m \u001b[39mfor\u001b[39;00m col \u001b[39min\u001b[39;00m columns:\n\u001b[1;32m----> 8\u001b[0m     df_perc[\u001b[39mf\u001b[39m\u001b[39m'\u001b[39m\u001b[39m{\u001b[39;00mcol\u001b[39m}\u001b[39;00m\u001b[39m_yoy_diff\u001b[39m\u001b[39m'\u001b[39m] \u001b[39m=\u001b[39m df_perc[col]\u001b[39m.\u001b[39;49mdiff()\n\u001b[0;32m     10\u001b[0m \u001b[39m# Save the modified DataFrame to a new CSV file\u001b[39;00m\n\u001b[0;32m     11\u001b[0m df\u001b[39m.\u001b[39mto_csv(\u001b[39m'\u001b[39m\u001b[39mGVC_cleaned_yoy_diff.csv\u001b[39m\u001b[39m'\u001b[39m, index\u001b[39m=\u001b[39m\u001b[39mFalse\u001b[39;00m)\n",
            "File \u001b[1;32m~\\AppData\\Local\\Packages\\PythonSoftwareFoundation.Python.3.10_qbz5n2kfra8p0\\LocalCache\\local-packages\\Python310\\site-packages\\pandas\\core\\series.py:2866\u001b[0m, in \u001b[0;36mSeries.diff\u001b[1;34m(self, periods)\u001b[0m\n\u001b[0;32m   2781\u001b[0m \u001b[39m@doc\u001b[39m(\n\u001b[0;32m   2782\u001b[0m     klass\u001b[39m=\u001b[39m\u001b[39m\"\u001b[39m\u001b[39mSeries\u001b[39m\u001b[39m\"\u001b[39m,\n\u001b[0;32m   2783\u001b[0m     extra_params\u001b[39m=\u001b[39m\u001b[39m\"\u001b[39m\u001b[39m\"\u001b[39m,\n\u001b[1;32m   (...)\u001b[0m\n\u001b[0;32m   2829\u001b[0m )\n\u001b[0;32m   2830\u001b[0m \u001b[39mdef\u001b[39;00m \u001b[39mdiff\u001b[39m(\u001b[39mself\u001b[39m, periods: \u001b[39mint\u001b[39m \u001b[39m=\u001b[39m \u001b[39m1\u001b[39m) \u001b[39m-\u001b[39m\u001b[39m>\u001b[39m Series:\n\u001b[0;32m   2831\u001b[0m \u001b[39m    \u001b[39m\u001b[39m\"\"\"\u001b[39;00m\n\u001b[0;32m   2832\u001b[0m \u001b[39m    First discrete difference of element.\u001b[39;00m\n\u001b[0;32m   2833\u001b[0m \n\u001b[1;32m   (...)\u001b[0m\n\u001b[0;32m   2864\u001b[0m \u001b[39m    {examples}\u001b[39;00m\n\u001b[0;32m   2865\u001b[0m \u001b[39m    \"\"\"\u001b[39;00m\n\u001b[1;32m-> 2866\u001b[0m     result \u001b[39m=\u001b[39m algorithms\u001b[39m.\u001b[39;49mdiff(\u001b[39mself\u001b[39;49m\u001b[39m.\u001b[39;49m_values, periods)\n\u001b[0;32m   2867\u001b[0m     \u001b[39mreturn\u001b[39;00m \u001b[39mself\u001b[39m\u001b[39m.\u001b[39m_constructor(result, index\u001b[39m=\u001b[39m\u001b[39mself\u001b[39m\u001b[39m.\u001b[39mindex, copy\u001b[39m=\u001b[39m\u001b[39mFalse\u001b[39;00m)\u001b[39m.\u001b[39m__finalize__(\n\u001b[0;32m   2868\u001b[0m         \u001b[39mself\u001b[39m, method\u001b[39m=\u001b[39m\u001b[39m\"\u001b[39m\u001b[39mdiff\u001b[39m\u001b[39m\"\u001b[39m\n\u001b[0;32m   2869\u001b[0m     )\n",
            "File \u001b[1;32m~\\AppData\\Local\\Packages\\PythonSoftwareFoundation.Python.3.10_qbz5n2kfra8p0\\LocalCache\\local-packages\\Python310\\site-packages\\pandas\\core\\algorithms.py:1453\u001b[0m, in \u001b[0;36mdiff\u001b[1;34m(arr, n, axis)\u001b[0m\n\u001b[0;32m   1450\u001b[0m     _lag_indexer[axis] \u001b[39m=\u001b[39m \u001b[39mslice\u001b[39m(\u001b[39mNone\u001b[39;00m, \u001b[39m-\u001b[39mn) \u001b[39mif\u001b[39;00m n \u001b[39m>\u001b[39m \u001b[39m0\u001b[39m \u001b[39melse\u001b[39;00m \u001b[39mslice\u001b[39m(\u001b[39m-\u001b[39mn, \u001b[39mNone\u001b[39;00m)\n\u001b[0;32m   1451\u001b[0m     lag_indexer \u001b[39m=\u001b[39m \u001b[39mtuple\u001b[39m(_lag_indexer)\n\u001b[1;32m-> 1453\u001b[0m     out_arr[res_indexer] \u001b[39m=\u001b[39m op(arr[res_indexer], arr[lag_indexer])\n\u001b[0;32m   1455\u001b[0m \u001b[39mif\u001b[39;00m is_timedelta:\n\u001b[0;32m   1456\u001b[0m     out_arr \u001b[39m=\u001b[39m out_arr\u001b[39m.\u001b[39mview(\u001b[39m\"\u001b[39m\u001b[39mtimedelta64[ns]\u001b[39m\u001b[39m\"\u001b[39m)\n",
            "\u001b[1;31mTypeError\u001b[0m: unsupported operand type(s) for -: 'str' and 'str'"
          ]
        }
      ],
      "source": [
        "df_perc = pd.read_csv('GVC_cleaned_with_percentage.csv')\n",
        "\n",
        "# List of columns for which year-on-year differences need to be computed\n",
        "columns = ['gvco_perc', 'gvcobp_perc', 'gvcofp_perc', 'gvcomix_perc', 'outpd_perc', 'outptt_perc']\n",
        "\n",
        "# Calculate the year-on-year differences and store them in new columns\n",
        "for col in columns:\n",
        "    df_perc[f'{col}_yoy_diff'] = df_perc[col].diff()\n",
        "\n",
        "# Save the modified DataFrame to a new CSV file\n",
        "df.to_csv('GVC_cleaned_yoy_diff.csv', index=False)"
      ]
    }
  ],
  "metadata": {
    "colab": {
      "provenance": []
    },
    "kernelspec": {
      "display_name": "Python 3",
      "name": "python3"
    },
    "language_info": {
      "codemirror_mode": {
        "name": "ipython",
        "version": 3
      },
      "file_extension": ".py",
      "mimetype": "text/x-python",
      "name": "python",
      "nbconvert_exporter": "python",
      "pygments_lexer": "ipython3",
      "version": "3.10.11"
    }
  },
  "nbformat": 4,
  "nbformat_minor": 0
}
