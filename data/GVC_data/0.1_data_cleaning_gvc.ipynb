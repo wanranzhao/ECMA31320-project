{
 "cells": [
  {
   "cell_type": "code",
   "execution_count": 2,
   "metadata": {},
   "outputs": [],
   "source": [
    "import pandas as pd\n",
    "import numpy as np\n",
    "import matplotlib.pyplot as plt"
   ]
  },
  {
   "cell_type": "code",
   "execution_count": 15,
   "metadata": {},
   "outputs": [],
   "source": [
    "df = pd.read_csv('gvc_output_WITS.csv')\n",
    "\n",
    "# Filter data for sector codes of interest\n",
    "sectors_of_interest = [1, 2, 6, 10, 19]\n",
    "filtered_df = df[df['sect'].isin(sectors_of_interest)]\n",
    "\n",
    "# Sort data by year for each country\n",
    "sorted_df = filtered_df.sort_values(['country', 'sect', 't'], ascending=[True, True, True])\n",
    "\n",
    "# Save the filtered and sorted data to a new .csv file\n",
    "output_file_path = 'GVC_cleaned_052423.csv'\n",
    "sorted_df.to_csv(output_file_path, index=False)"
   ]
  },
  {
   "cell_type": "code",
   "execution_count": 16,
   "metadata": {},
   "outputs": [],
   "source": [
    "# Load the CSV file into a pandas dataframe\n",
    "df = pd.read_csv('GVC_cleaned_052423.csv')\n",
    "\n",
    "filtered_df = df[df['source']=='eora']\n",
    "filtered_df.to_csv('eora_052423.csv', index=False)"
   ]
  },
  {
   "cell_type": "code",
   "execution_count": 17,
   "metadata": {},
   "outputs": [],
   "source": [
    "# Load the data\n",
    "df = pd.read_csv('eora_052423.csv')\n",
    "\n",
    "# Create the new columns\n",
    "df['gvcobp%'] = df['gvcobp'] / df['outp']\n",
    "df['gvcofp%'] = df['gvcofp'] / df['outp']\n",
    "df['gvcomix%'] = df['gvcomix'] / df['outp']\n",
    "\n",
    "# Save the dataframe back to csv\n",
    "df.to_csv('eora_052423.csv', index=False)"
   ]
  },
  {
   "cell_type": "code",
   "execution_count": 18,
   "metadata": {},
   "outputs": [],
   "source": [
    "# Calculate year-on-year differences\n",
    "df['gvcobp_diff'] = df.groupby(['country', 'sect'])['gvcobp%'].diff()\n",
    "df['gvcofp_diff'] = df.groupby(['country', 'sect'])['gvcofp%'].diff()\n",
    "df['gvcomix_diff'] = df.groupby(['country', 'sect'])['gvcomix%'].diff()\n",
    "\n",
    "# Save the dataframe back to csv\n",
    "df.to_csv('eora_052423.csv', index=False)"
   ]
  },
  {
   "cell_type": "code",
   "execution_count": 19,
   "metadata": {},
   "outputs": [],
   "source": [
    "# read the csv file into a pandas dataframe\n",
    "df1 = pd.read_csv('gvc_output_WITS.csv')\n",
    "\n",
    "# filter the data for sect 6\n",
    "df1 = df1[df1['sect'] == 19]\n",
    "df1 = df1[df1['source'] == 'eora']\n",
    "\n",
    "# select the columns you want to keep\n",
    "transport = df1[['country', 't', 'outp']]\n",
    "\n",
    "df2 = pd.read_csv('gvc_output_WITS.csv')\n",
    "\n",
    "df2 = df2[df2['source'] == 'eora']\n",
    "\n",
    "# Group the data by 'country' and 't', and sum the 'outp' values for each group\n",
    "gross_outp = df2.groupby(['country', 't'], as_index=False)['outp'].sum()\n",
    "\n",
    "# Rename the 'outp' column to 'total outp'\n",
    "gross_outp = gross_outp.rename(columns={'outp': 'gross output'})\n",
    "\n",
    "# Merge the data\n",
    "merged_df = pd.merge(transport, gross_outp, on=['country', 't'])\n",
    "\n",
    "merged_df['trans_outp_p'] = merged_df['outp']/merged_df['gross output']\n",
    "\n",
    "merged_df = merged_df.sort_values(['country', 't'], ascending=[True, True])\n",
    "\n",
    "# Save the merged data\n",
    "merged_df.to_csv('transportIV_file.csv', index=False)"
   ]
  }
 ],
 "metadata": {
  "kernelspec": {
   "display_name": "Python 3",
   "language": "python",
   "name": "python3"
  },
  "language_info": {
   "codemirror_mode": {
    "name": "ipython",
    "version": 3
   },
   "file_extension": ".py",
   "mimetype": "text/x-python",
   "name": "python",
   "nbconvert_exporter": "python",
   "pygments_lexer": "ipython3",
   "version": "3.10.11"
  },
  "orig_nbformat": 4
 },
 "nbformat": 4,
 "nbformat_minor": 2
}
