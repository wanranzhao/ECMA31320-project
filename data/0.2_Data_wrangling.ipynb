{
 "cells": [
  {
   "cell_type": "code",
   "execution_count": 1,
   "metadata": {},
   "outputs": [],
   "source": [
    "import pandas as pd"
   ]
  },
  {
   "cell_type": "code",
   "execution_count": 2,
   "metadata": {},
   "outputs": [],
   "source": [
    "# read first csv file\n",
    "df1 = pd.read_csv('GVC_data\\eora_052423.csv')\n",
    "\n",
    "# read second csv file\n",
    "df2 = pd.read_csv('stability\\stability_df.csv')\n",
    "\n",
    "# merge the two dataframes based on year and country columns\n",
    "merged_df = pd.merge(df1, df2, on=['t', 'country'])\n",
    "\n",
    "sorted_df = merged_df.sort_values(['country', 'sect', 't'], ascending=[True, True, True])\n",
    "\n",
    "# save the merged dataframe to a new csv file\n",
    "sorted_df.to_csv('merged_052423.csv', index=False)"
   ]
  },
  {
   "cell_type": "code",
   "execution_count": 3,
   "metadata": {},
   "outputs": [],
   "source": [
    "def process_dataframe(df, value_column):\n",
    "    # Pivot the dataframe to have one row per country and year with columns for each sector\n",
    "    df_pivot = df.pivot_table(index=['country', 't'], columns='sect', values=value_column+'_diff', aggfunc='first').reset_index()\n",
    "\n",
    "    # Flatten the MultiIndex in columns\n",
    "    df_pivot.columns = [col if not isinstance(col, tuple) else f\"{col[0]} {col[1]}\" for col in df_pivot.columns]\n",
    "\n",
    "    # Merge the pivoted dataframe with the unique dataframe\n",
    "    df_final = pd.merge(df_pivot, df_unique, on=['country', 't'], how='left')\n",
    "\n",
    "    # Rename the columns\n",
    "    df_final = df_final.rename(columns={1: 's1',\n",
    "                                        2: 's2',\n",
    "                                        6: 's6',\n",
    "                                        10: 's10',\n",
    "                                        19: 's19'})\n",
    "\n",
    "    # Calculate the averages for each column by year\n",
    "    avg_df = df_final.groupby('t')[['s1', 's2', 's6', 's10', 's19']].mean()\n",
    "\n",
    "    # Rename the columns to include 'avg' in the name\n",
    "    avg_df = avg_df.add_prefix('avg')\n",
    "\n",
    "    # Merge the original data frame with the new average data frame on the year column\n",
    "    result = pd.merge(df, avg_df, on='t')\n",
    "\n",
    "    return result\n",
    "\n",
    "# Read the CSV file\n",
    "df = pd.read_csv('merged_052423.csv')\n",
    "trans_IV = pd.read_csv('GVC_data/transportIV_file.csv')\n",
    "trans_IV.drop(['outp', 'gross output'], axis=1, inplace=True)\n",
    "\n",
    "# List of additional columns to include in the final output\n",
    "additional_columns = ['onset2COWCS', 'decade', 'ecgrowth', 'logpop_M', 'logpopdens', 'logoutreg', 'democracy', 'logmountain', \n",
    "                      'ethnic_fractionalization', 'religion_fractionalization', 'language_fractionalization', 'leg_british', 'opec',\n",
    "                      'logpop_M_diff', 'logpopdens_diff', 'logoutreg_diff', 'ecgrowth_demeaned']\n",
    "\n",
    "# Drop duplicates in the original dataframe based on 'country', 'year', and additional_columns\n",
    "df_unique = df[['country', 't'] + additional_columns].drop_duplicates()\n",
    "\n",
    "result_gvcomix = process_dataframe(df, 'gvcomix')\n",
    "result_gvcobp = process_dataframe(df, 'gvcobp')\n",
    "result_gvcofp = process_dataframe(df, 'gvcofp')\n",
    "\n",
    "# Now merge with the transport IV dataframe\n",
    "result_gvcomix = pd.merge(result_gvcomix, trans_IV, on=['country', 't'])\n",
    "result_gvcobp = pd.merge(result_gvcobp, trans_IV, on=['country', 't'])\n",
    "result_gvcofp = pd.merge(result_gvcofp, trans_IV, on=['country', 't'])\n",
    "\n",
    "# Save the transformed dataframes to new CSV files\n",
    "result_gvcomix.to_csv('gvcomix_data.csv', index=False)\n",
    "result_gvcobp.to_csv('gvcobp_data.csv', index=False)\n",
    "result_gvcofp.to_csv('gvcofp_data.csv', index=False)"
   ]
  }
 ],
 "metadata": {
  "kernelspec": {
   "display_name": "Python 3",
   "language": "python",
   "name": "python3"
  },
  "language_info": {
   "codemirror_mode": {
    "name": "ipython",
    "version": 3
   },
   "file_extension": ".py",
   "mimetype": "text/x-python",
   "name": "python",
   "nbconvert_exporter": "python",
   "pygments_lexer": "ipython3",
   "version": "3.10.11"
  },
  "orig_nbformat": 4
 },
 "nbformat": 4,
 "nbformat_minor": 2
}
